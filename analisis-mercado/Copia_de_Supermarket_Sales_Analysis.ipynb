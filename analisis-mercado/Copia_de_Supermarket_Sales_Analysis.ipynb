{
 "cells": [
  {
   "cell_type": "markdown",
   "metadata": {
    "id": "86Zhur36x1_4"
   },
   "source": [
    "#**PROBLEMA DE NEGOCIO**\n",
    "\n",
    "\n",
    "---\n",
    "\n",
    "\n"
   ]
  },
  {
   "cell_type": "markdown",
   "metadata": {
    "id": "sCSWRUgTx_XW"
   },
   "source": [
    "##Una cadena de Supermercados Online que opera en Brasil quiere obtener insights sobre la venta de sus productos. Para hacer esto, usted, como científico de datos, deberá analizar los pedidos de sus clientes y mostrar gráficamente las respuestas de las siguientes preguntas de negocio:"
   ]
  },
  {
   "cell_type": "markdown",
   "metadata": {
    "id": "cxBBRo6Y5SFy"
   },
   "source": [
    "### **Preguntas**\n",
    "\n",
    "1. ¿Cuáles son las ventas totales por año? ¿Y qué año tuvo mejor desempeño?\n",
    "\n",
    "2. ¿Cuáles son los 7 productos que más ganancias mostraron durante todo el período?\n",
    "\n",
    "3. Si separamos las ventas totales por año y por regiones ¿Qué insight podemos obtener de nuestras ventas?\n",
    "\n",
    "4. ¿Cuál es el método de envío más utilizado por los clientes del Supermercado? ¿Es proporcional para B2B y B2C?\n",
    "\n",
    "5. ¿Cuáles son las ventas totales por trimestre en el estado de São Paulo?\n",
    "\n",
    "6. ¿Existe otro insight que puedas proporcionar?"
   ]
  },
  {
   "cell_type": "markdown",
   "metadata": {
    "id": "cLajAfdQbkBD"
   },
   "source": [
    "#**1. Configuración del Ambiente**\n",
    "\n",
    "\n",
    "---\n",
    "\n",
    "\n"
   ]
  },
  {
   "cell_type": "code",
   "execution_count": null,
   "metadata": {
    "id": "DgNYFmw3bpng"
   },
   "outputs": [],
   "source": [
    "import pandas as pd\n",
    "import matplotlib.pyplot as plt\n",
    "import matplotlib.dates as mdates\n",
    "global df_ventas, df_ventas_limpio"
   ]
  },
  {
   "cell_type": "markdown",
   "metadata": {
    "id": "JRLR2PEHSiPV"
   },
   "source": [
    "#**2. Obtención y Tratamiento de Datos**\n",
    "\n",
    "\n",
    "---\n",
    "\n",
    "\n"
   ]
  },
  {
   "cell_type": "code",
   "execution_count": null,
   "metadata": {
    "id": "xbTSy0F4SmHw"
   },
   "outputs": [],
   "source": [
    "df_ventas = pd.read_csv(\"reporte_ventas.csv\")\n",
    "print('Información:')\n",
    "print(df_ventas.info())\n",
    "print('------------')\n",
    "print('Duplicados:')\n",
    "print(df_ventas.duplicated().sum())\n",
    "print('------------')\n",
    "print('Registros de prueba:')\n",
    "print((df_ventas['nombre_cliente'] == 'prueba').sum())\n",
    "print('------------')\n",
    "print('Registros con ganancia<=0:')\n",
    "print((df_ventas['total_ganancia'] <= 0).sum())"
   ]
  },
  {
   "cell_type": "code",
   "execution_count": null,
   "metadata": {
    "id": "F_pENhVrZQBG"
   },
   "outputs": [],
   "source": [
    "#Ejecutando limpieza\n",
    "obtencion_datos()\n",
    "print('Información:')\n",
    "print(df_ventas_limpio.info())\n",
    "print('------------')\n",
    "print('Duplicados:')\n",
    "print(df_ventas_limpio.duplicated().sum())\n",
    "print('------------')\n",
    "print('Registros de prueba:')\n",
    "print((df_ventas_limpio['nombre_cliente'] == 'prueba').sum())\n",
    "print('------------')\n",
    "print('Registros con ganancia<=0:')\n",
    "print((df_ventas_limpio['total_ganancia'] <= 0).sum())"
   ]
  },
  {
   "cell_type": "markdown",
   "metadata": {
    "id": "pPZDgyyfc5w3"
   },
   "source": [
    "#**3. Preguntas y respuestas**\n",
    "\n",
    "\n",
    "---\n",
    "\n",
    "\n"
   ]
  },
  {
   "cell_type": "markdown",
   "metadata": {
    "id": "Sg_eHGLZdmFl"
   },
   "source": [
    "##**Pregunta 1: ¿Cuáles son las ventas totales por año? ¿Y qué año tuvo mejor desempeño?**"
   ]
  },
  {
   "cell_type": "markdown",
   "metadata": {
    "id": "ot4Kf_DfDTzz"
   },
   "source": [
    "##**Pregunta 2: ¿Cuáles son los 7 productos que más ganancias mostraron durante todo el período?**"
   ]
  },
  {
   "cell_type": "markdown",
   "metadata": {
    "id": "8AzEF6h2GwxJ"
   },
   "source": [
    "##**Pregunta 3: Si separamos las ventas totales por año y por regiones ¿Qué insight podemos obtener de nuestras ventas?**"
   ]
  },
  {
   "cell_type": "markdown",
   "metadata": {
    "id": "H_upOUO5Ufyg"
   },
   "source": [
    "##**Pregunta 4: ¿Cuál es el método de envío más utilizado por los clientes del Supermercado? ¿Es proporcional para B2B y B2C?**"
   ]
  },
  {
   "cell_type": "markdown",
   "metadata": {
    "id": "LxzwS-aPHmWN"
   },
   "source": [
    "##**Pregunta 5: ¿Cuáles son las ventas totales por trimestre en el estado de São Paulo?**"
   ]
  }
 ],
 "metadata": {
  "colab": {
   "collapsed_sections": [
    "cLajAfdQbkBD",
    "JRLR2PEHSiPV"
   ],
   "provenance": []
  },
  "kernelspec": {
   "display_name": "Python 3",
   "language": "python",
   "name": "python3"
  },
  "language_info": {
   "codemirror_mode": {
    "name": "ipython",
    "version": 3
   },
   "file_extension": ".py",
   "mimetype": "text/x-python",
   "name": "python",
   "nbconvert_exporter": "python",
   "pygments_lexer": "ipython3",
   "version": "3.7.6"
  }
 },
 "nbformat": 4,
 "nbformat_minor": 1
}
