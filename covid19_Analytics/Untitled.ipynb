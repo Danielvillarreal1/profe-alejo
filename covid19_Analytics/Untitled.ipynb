{
 "cells": [
  {
   "cell_type": "code",
   "execution_count": 1,
   "metadata": {},
   "outputs": [],
   "source": [
    "import pandas as pd \n",
    "pd.options.mode.chained_assignment = None\n",
    "import numpy as np\n",
    "import requests\n",
    "from io import StringIO\n",
    "import matplotlib.pyplot as plt  \n",
    "import matplotlib.dates as mdates\n",
    "from matplotlib.ticker import FuncFormatter\n",
    "from sklearn.ensemble import RandomForestRegressor"
   ]
  },
  {
   "cell_type": "code",
   "execution_count": null,
   "metadata": {},
   "outputs": [],
   "source": [
    "# Cargar las bases de datos\n",
    "df_covid = pd.read_csv(StringIO(requests.get(\"https://covid19.who.int/WHO-COVID-19-global-data.csv\").text))\n",
    "df_population = pd.read_excel('https://raw.githubusercontent.com/ElProfeAlejo/Bootcamp_Databases/main/WPP2022_GEN_F01_DEMOGRAPHIC_INDICATORS_COMPACT_REV1.xlsx', sheet_name=0, skiprows=16)\n",
    "df_population = df_population[df_population['Year'] == 2019]\n",
    "\n",
    "# Eliminar registros nulos en la columna 'Country_code'\n",
    "df_covid_limpio = df_covid.dropna(subset=['Country_code'])\n",
    "\n",
    "# Mantener solo las columnas especificadas\n",
    "df_covid_limpio = df_covid_limpio[['Date_reported', 'Country_code', 'Country', 'New_cases', 'Cumulative_cases', 'New_deaths', 'Cumulative_deaths']]\n",
    "\n",
    "# Sustituir valores nulos con cero\n",
    "df_covid_limpio = df_covid_limpio.fillna(0)\n",
    "\n",
    "# Cambiar el formato de la columna 'Date_reported'\n",
    "df_covid_limpio['Date_reported'] = pd.to_datetime(df_covid_limpio['Date_reported'])\n",
    "\n",
    "# Cambiar el formato de las columnas 'New_cases' y 'New_deaths' a int64\n",
    "df_covid_limpio[['New_cases', 'New_deaths']] = df_covid_limpio[['New_cases', 'New_deaths']].astype('int64')\n",
    "\n",
    "# Crear la nueva columna 'lethality_rate'\n",
    "df_covid_limpio['lethality_rate'] = (df_covid_limpio['Cumulative_deaths'] / df_covid_limpio['Cumulative_cases']) * 100\n",
    "\n",
    "# Filtrar registros eliminando outliers\n",
    "lower_bound = df_covid_limpio['lethality_rate'].quantile(0)\n",
    "upper_bound = df_covid_limpio['lethality_rate'].quantile(0.99)\n",
    "df_covid_limpio = df_covid_limpio[(df_covid_limpio['lethality_rate'] >= lower_bound) & (df_covid_limpio['lethality_rate'] <= upper_bound)]\n",
    "\n",
    "# Reiniciar el índice\n",
    "df_covid_limpio = df_covid_limpio.reset_index(drop=True)\n",
    "\n",
    "# Mostrar los primeros registros del dataframe resultante\n",
    "df_covid_limpio.head()"
   ]
  },
  {
   "cell_type": "code",
   "execution_count": null,
   "metadata": {},
   "outputs": [],
   "source": []
  },
  {
   "cell_type": "code",
   "execution_count": null,
   "metadata": {},
   "outputs": [],
   "source": []
  },
  {
   "cell_type": "code",
   "execution_count": null,
   "metadata": {},
   "outputs": [],
   "source": []
  },
  {
   "cell_type": "code",
   "execution_count": 2,
   "metadata": {},
   "outputs": [],
   "source": [
    "# Cargar las bases de datos\n",
    "df_covid = pd.read_csv(StringIO(requests.get(\"https://covid19.who.int/WHO-COVID-19-global-data.csv\").text))\n",
    "df_population = pd.read_excel('https://raw.githubusercontent.com/ElProfeAlejo/Bootcamp_Databases/main/WPP2022_GEN_F01_DEMOGRAPHIC_INDICATORS_COMPACT_REV1.xlsx', sheet_name=0, skiprows=16)\n",
    "df_population = df_population[df_population['Year'] == 2019]\n",
    "\n"
   ]
  },
  {
   "cell_type": "code",
   "execution_count": 3,
   "metadata": {},
   "outputs": [
    {
     "name": "stdout",
     "output_type": "stream",
     "text": [
      "<class 'pandas.core.frame.DataFrame'>\n",
      "RangeIndex: 50880 entries, 0 to 50879\n",
      "Data columns (total 8 columns):\n",
      " #   Column             Non-Null Count  Dtype  \n",
      "---  ------             --------------  -----  \n",
      " 0   Date_reported      50880 non-null  object \n",
      " 1   Country_code       49396 non-null  object \n",
      " 2   Country            49608 non-null  object \n",
      " 3   WHO_region         45792 non-null  object \n",
      " 4   New_cases          36622 non-null  float64\n",
      " 5   Cumulative_cases   50880 non-null  int64  \n",
      " 6   New_deaths         24216 non-null  float64\n",
      " 7   Cumulative_deaths  50880 non-null  int64  \n",
      "dtypes: float64(2), int64(2), object(4)\n",
      "memory usage: 3.1+ MB\n"
     ]
    }
   ],
   "source": [
    "df_covid.info()"
   ]
  },
  {
   "cell_type": "code",
   "execution_count": 5,
   "metadata": {},
   "outputs": [],
   "source": [
    "# Eliminar registros nulos en la columna 'Country_code'\n",
    "df_covid_limpio = df_covid.dropna(subset=['Country_code'])"
   ]
  },
  {
   "cell_type": "code",
   "execution_count": null,
   "metadata": {},
   "outputs": [],
   "source": []
  },
  {
   "cell_type": "code",
   "execution_count": 6,
   "metadata": {},
   "outputs": [],
   "source": [
    "# Mantener solo las columnas especificadas\n",
    "df_covid_limpio = df_covid_limpio[['Date_reported', 'Country_code', 'Country', 'New_cases', 'Cumulative_cases', 'New_deaths', 'Cumulative_deaths']]\n"
   ]
  },
  {
   "cell_type": "code",
   "execution_count": 7,
   "metadata": {},
   "outputs": [
    {
     "name": "stdout",
     "output_type": "stream",
     "text": [
      "<class 'pandas.core.frame.DataFrame'>\n",
      "Int64Index: 49396 entries, 0 to 50879\n",
      "Data columns (total 7 columns):\n",
      " #   Column             Non-Null Count  Dtype  \n",
      "---  ------             --------------  -----  \n",
      " 0   Date_reported      49396 non-null  object \n",
      " 1   Country_code       49396 non-null  object \n",
      " 2   Country            49396 non-null  object \n",
      " 3   New_cases          36436 non-null  float64\n",
      " 4   Cumulative_cases   49396 non-null  int64  \n",
      " 5   New_deaths         24088 non-null  float64\n",
      " 6   Cumulative_deaths  49396 non-null  int64  \n",
      "dtypes: float64(2), int64(2), object(3)\n",
      "memory usage: 3.0+ MB\n"
     ]
    }
   ],
   "source": [
    "df_covid_limpio.info()"
   ]
  },
  {
   "cell_type": "code",
   "execution_count": 8,
   "metadata": {},
   "outputs": [],
   "source": [
    "# Sustituir valores nulos con cero\n",
    "df_covid_limpio = df_covid_limpio.fillna(0)"
   ]
  },
  {
   "cell_type": "code",
   "execution_count": 9,
   "metadata": {},
   "outputs": [],
   "source": [
    "# Cambiar el formato de la columna 'Date_reported'\n",
    "df_covid_limpio['Date_reported'] = pd.to_datetime(df_covid_limpio['Date_reported'])\n"
   ]
  },
  {
   "cell_type": "code",
   "execution_count": 10,
   "metadata": {},
   "outputs": [],
   "source": [
    "# Cambiar el formato de las columnas 'New_cases' y 'New_deaths' a int64\n",
    "df_covid_limpio[['New_cases', 'New_deaths']] = df_covid_limpio[['New_cases', 'New_deaths']].astype('int64')\n"
   ]
  },
  {
   "cell_type": "code",
   "execution_count": null,
   "metadata": {},
   "outputs": [],
   "source": []
  },
  {
   "cell_type": "code",
   "execution_count": 11,
   "metadata": {},
   "outputs": [],
   "source": [
    "# Crear la nueva columna 'lethality_rate'\n",
    "df_covid_limpio['lethality_rate'] = (df_covid_limpio['Cumulative_deaths'] / df_covid_limpio['Cumulative_cases']) * 100\n"
   ]
  },
  {
   "cell_type": "code",
   "execution_count": 12,
   "metadata": {},
   "outputs": [
    {
     "data": {
      "text/html": [
       "<div>\n",
       "<style scoped>\n",
       "    .dataframe tbody tr th:only-of-type {\n",
       "        vertical-align: middle;\n",
       "    }\n",
       "\n",
       "    .dataframe tbody tr th {\n",
       "        vertical-align: top;\n",
       "    }\n",
       "\n",
       "    .dataframe thead th {\n",
       "        text-align: right;\n",
       "    }\n",
       "</style>\n",
       "<table border=\"1\" class=\"dataframe\">\n",
       "  <thead>\n",
       "    <tr style=\"text-align: right;\">\n",
       "      <th></th>\n",
       "      <th>New_cases</th>\n",
       "      <th>Cumulative_cases</th>\n",
       "      <th>New_deaths</th>\n",
       "      <th>Cumulative_deaths</th>\n",
       "      <th>lethality_rate</th>\n",
       "    </tr>\n",
       "  </thead>\n",
       "  <tbody>\n",
       "    <tr>\n",
       "      <th>count</th>\n",
       "      <td>4.939600e+04</td>\n",
       "      <td>4.939600e+04</td>\n",
       "      <td>49396.000000</td>\n",
       "      <td>4.939600e+04</td>\n",
       "      <td>4.530700e+04</td>\n",
       "    </tr>\n",
       "    <tr>\n",
       "      <th>mean</th>\n",
       "      <td>1.567324e+04</td>\n",
       "      <td>1.643477e+06</td>\n",
       "      <td>142.040530</td>\n",
       "      <td>1.928293e+04</td>\n",
       "      <td>inf</td>\n",
       "    </tr>\n",
       "    <tr>\n",
       "      <th>std</th>\n",
       "      <td>2.408294e+05</td>\n",
       "      <td>7.274286e+06</td>\n",
       "      <td>875.025827</td>\n",
       "      <td>7.909933e+04</td>\n",
       "      <td>NaN</td>\n",
       "    </tr>\n",
       "    <tr>\n",
       "      <th>min</th>\n",
       "      <td>-6.507900e+04</td>\n",
       "      <td>0.000000e+00</td>\n",
       "      <td>-3432.000000</td>\n",
       "      <td>0.000000e+00</td>\n",
       "      <td>0.000000e+00</td>\n",
       "    </tr>\n",
       "    <tr>\n",
       "      <th>25%</th>\n",
       "      <td>0.000000e+00</td>\n",
       "      <td>3.846750e+03</td>\n",
       "      <td>0.000000</td>\n",
       "      <td>2.900000e+01</td>\n",
       "      <td>5.128205e-01</td>\n",
       "    </tr>\n",
       "    <tr>\n",
       "      <th>50%</th>\n",
       "      <td>1.020000e+02</td>\n",
       "      <td>4.283250e+04</td>\n",
       "      <td>0.000000</td>\n",
       "      <td>4.980000e+02</td>\n",
       "      <td>1.181060e+00</td>\n",
       "    </tr>\n",
       "    <tr>\n",
       "      <th>75%</th>\n",
       "      <td>1.999250e+03</td>\n",
       "      <td>4.998840e+05</td>\n",
       "      <td>20.000000</td>\n",
       "      <td>6.630250e+03</td>\n",
       "      <td>2.160936e+00</td>\n",
       "    </tr>\n",
       "    <tr>\n",
       "      <th>max</th>\n",
       "      <td>4.047548e+07</td>\n",
       "      <td>1.034368e+08</td>\n",
       "      <td>47687.000000</td>\n",
       "      <td>1.165780e+06</td>\n",
       "      <td>inf</td>\n",
       "    </tr>\n",
       "  </tbody>\n",
       "</table>\n",
       "</div>"
      ],
      "text/plain": [
       "          New_cases  Cumulative_cases    New_deaths  Cumulative_deaths  \\\n",
       "count  4.939600e+04      4.939600e+04  49396.000000       4.939600e+04   \n",
       "mean   1.567324e+04      1.643477e+06    142.040530       1.928293e+04   \n",
       "std    2.408294e+05      7.274286e+06    875.025827       7.909933e+04   \n",
       "min   -6.507900e+04      0.000000e+00  -3432.000000       0.000000e+00   \n",
       "25%    0.000000e+00      3.846750e+03      0.000000       2.900000e+01   \n",
       "50%    1.020000e+02      4.283250e+04      0.000000       4.980000e+02   \n",
       "75%    1.999250e+03      4.998840e+05     20.000000       6.630250e+03   \n",
       "max    4.047548e+07      1.034368e+08  47687.000000       1.165780e+06   \n",
       "\n",
       "       lethality_rate  \n",
       "count    4.530700e+04  \n",
       "mean              inf  \n",
       "std               NaN  \n",
       "min      0.000000e+00  \n",
       "25%      5.128205e-01  \n",
       "50%      1.181060e+00  \n",
       "75%      2.160936e+00  \n",
       "max               inf  "
      ]
     },
     "execution_count": 12,
     "metadata": {},
     "output_type": "execute_result"
    }
   ],
   "source": [
    "df_covid_limpio.describe()"
   ]
  },
  {
   "cell_type": "code",
   "execution_count": null,
   "metadata": {},
   "outputs": [],
   "source": []
  },
  {
   "cell_type": "code",
   "execution_count": 13,
   "metadata": {},
   "outputs": [],
   "source": [
    "# Filtrar registros eliminando outliers\n",
    "lower_bound = df_covid_limpio['lethality_rate'].quantile(0)\n",
    "upper_bound = df_covid_limpio['lethality_rate'].quantile(0.99)\n",
    "df_covid_limpio = df_covid_limpio[(df_covid_limpio['lethality_rate'] >= lower_bound) & (df_covid_limpio['lethality_rate'] <= upper_bound)]\n"
   ]
  },
  {
   "cell_type": "code",
   "execution_count": 14,
   "metadata": {},
   "outputs": [
    {
     "data": {
      "text/html": [
       "<div>\n",
       "<style scoped>\n",
       "    .dataframe tbody tr th:only-of-type {\n",
       "        vertical-align: middle;\n",
       "    }\n",
       "\n",
       "    .dataframe tbody tr th {\n",
       "        vertical-align: top;\n",
       "    }\n",
       "\n",
       "    .dataframe thead th {\n",
       "        text-align: right;\n",
       "    }\n",
       "</style>\n",
       "<table border=\"1\" class=\"dataframe\">\n",
       "  <thead>\n",
       "    <tr style=\"text-align: right;\">\n",
       "      <th></th>\n",
       "      <th>New_cases</th>\n",
       "      <th>Cumulative_cases</th>\n",
       "      <th>New_deaths</th>\n",
       "      <th>Cumulative_deaths</th>\n",
       "      <th>lethality_rate</th>\n",
       "    </tr>\n",
       "  </thead>\n",
       "  <tbody>\n",
       "    <tr>\n",
       "      <th>count</th>\n",
       "      <td>4.485300e+04</td>\n",
       "      <td>4.485300e+04</td>\n",
       "      <td>44853.000000</td>\n",
       "      <td>4.485300e+04</td>\n",
       "      <td>44853.000000</td>\n",
       "    </tr>\n",
       "    <tr>\n",
       "      <th>mean</th>\n",
       "      <td>1.722128e+04</td>\n",
       "      <td>1.809406e+06</td>\n",
       "      <td>151.147125</td>\n",
       "      <td>2.114609e+04</td>\n",
       "      <td>1.595293</td>\n",
       "    </tr>\n",
       "    <tr>\n",
       "      <th>std</th>\n",
       "      <td>2.526782e+05</td>\n",
       "      <td>7.614161e+06</td>\n",
       "      <td>905.888414</td>\n",
       "      <td>8.276044e+04</td>\n",
       "      <td>1.666892</td>\n",
       "    </tr>\n",
       "    <tr>\n",
       "      <th>min</th>\n",
       "      <td>-6.507900e+04</td>\n",
       "      <td>1.000000e+00</td>\n",
       "      <td>-3432.000000</td>\n",
       "      <td>0.000000e+00</td>\n",
       "      <td>0.000000</td>\n",
       "    </tr>\n",
       "    <tr>\n",
       "      <th>25%</th>\n",
       "      <td>5.000000e+00</td>\n",
       "      <td>8.173000e+03</td>\n",
       "      <td>0.000000</td>\n",
       "      <td>7.300000e+01</td>\n",
       "      <td>0.504360</td>\n",
       "    </tr>\n",
       "    <tr>\n",
       "      <th>50%</th>\n",
       "      <td>1.720000e+02</td>\n",
       "      <td>6.399300e+04</td>\n",
       "      <td>1.000000</td>\n",
       "      <td>8.030000e+02</td>\n",
       "      <td>1.164988</td>\n",
       "    </tr>\n",
       "    <tr>\n",
       "      <th>75%</th>\n",
       "      <td>2.624000e+03</td>\n",
       "      <td>6.263340e+05</td>\n",
       "      <td>26.000000</td>\n",
       "      <td>7.975000e+03</td>\n",
       "      <td>2.126546</td>\n",
       "    </tr>\n",
       "    <tr>\n",
       "      <th>max</th>\n",
       "      <td>4.047548e+07</td>\n",
       "      <td>1.034368e+08</td>\n",
       "      <td>47687.000000</td>\n",
       "      <td>1.165780e+06</td>\n",
       "      <td>12.776413</td>\n",
       "    </tr>\n",
       "  </tbody>\n",
       "</table>\n",
       "</div>"
      ],
      "text/plain": [
       "          New_cases  Cumulative_cases    New_deaths  Cumulative_deaths  \\\n",
       "count  4.485300e+04      4.485300e+04  44853.000000       4.485300e+04   \n",
       "mean   1.722128e+04      1.809406e+06    151.147125       2.114609e+04   \n",
       "std    2.526782e+05      7.614161e+06    905.888414       8.276044e+04   \n",
       "min   -6.507900e+04      1.000000e+00  -3432.000000       0.000000e+00   \n",
       "25%    5.000000e+00      8.173000e+03      0.000000       7.300000e+01   \n",
       "50%    1.720000e+02      6.399300e+04      1.000000       8.030000e+02   \n",
       "75%    2.624000e+03      6.263340e+05     26.000000       7.975000e+03   \n",
       "max    4.047548e+07      1.034368e+08  47687.000000       1.165780e+06   \n",
       "\n",
       "       lethality_rate  \n",
       "count    44853.000000  \n",
       "mean         1.595293  \n",
       "std          1.666892  \n",
       "min          0.000000  \n",
       "25%          0.504360  \n",
       "50%          1.164988  \n",
       "75%          2.126546  \n",
       "max         12.776413  "
      ]
     },
     "execution_count": 14,
     "metadata": {},
     "output_type": "execute_result"
    }
   ],
   "source": [
    "df_covid_limpio.describe()"
   ]
  },
  {
   "cell_type": "code",
   "execution_count": 17,
   "metadata": {},
   "outputs": [],
   "source": [
    "# https://www.worldometers.info/coronavirus/worldwide-graphs/\n",
    "# https://data.who.int/dashboards/covid19/cases\n",
    "# https://population.un.org/wpp/Graphs/DemographicProfiles/Line/900\n",
    "    "
   ]
  },
  {
   "cell_type": "code",
   "execution_count": 15,
   "metadata": {},
   "outputs": [
    {
     "data": {
      "text/plain": [
       "<AxesSubplot:>"
      ]
     },
     "execution_count": 15,
     "metadata": {},
     "output_type": "execute_result"
    },
    {
     "data": {
      "image/png": "[encoded data removed]",
      "text/plain": [
       "<Figure size 432x288 with 1 Axes>"
      ]
     },
     "metadata": {
      "needs_background": "light"
     },
     "output_type": "display_data"
    }
   ],
   "source": [
    "df_covid_limpio.boxplot(['Cumulative_cases'])"
   ]
  },
  {
   "cell_type": "code",
   "execution_count": 16,
   "metadata": {},
   "outputs": [
    {
     "data": {
      "text/plain": [
       "<AxesSubplot:>"
      ]
     },
     "execution_count": 16,
     "metadata": {},
     "output_type": "execute_result"
    },
    {
     "data": {
      "image/png": "[encoded data removed]",
      "text/plain": [
       "<Figure size 640x480 with 1 Axes>"
      ]
     },
     "metadata": {},
     "output_type": "display_data"
    }
   ],
   "source": [
    "df_covid_limpio.boxplot(['Cumulative_deaths'])"
   ]
  },
  {
   "cell_type": "code",
   "execution_count": null,
   "metadata": {},
   "outputs": [],
   "source": []
  },
  {
   "cell_type": "code",
   "execution_count": 18,
   "metadata": {},
   "outputs": [
    {
     "data": {
      "text/plain": [
       "<AxesSubplot:>"
      ]
     },
     "execution_count": 18,
     "metadata": {},
     "output_type": "execute_result"
    },
    {
     "data": {
      "image/png": "[encoded data removed]",
      "text/plain": [
       "<Figure size 640x480 with 1 Axes>"
      ]
     },
     "metadata": {},
     "output_type": "display_data"
    }
   ],
   "source": [
    "df_covid_limpio.boxplot(['lethality_rate'])"
   ]
  },
  {
   "cell_type": "code",
   "execution_count": null,
   "metadata": {},
   "outputs": [],
   "source": []
  },
  {
   "cell_type": "code",
   "execution_count": null,
   "metadata": {},
   "outputs": [],
   "source": [
    "# Reiniciar el índice\n",
    "df_covid_limpio = df_covid_limpio.reset_index(drop=True)\n"
   ]
  },
  {
   "cell_type": "code",
   "execution_count": null,
   "metadata": {},
   "outputs": [],
   "source": [
    "df_covid_limpio.head()"
   ]
  }
 ],
 "metadata": {
  "kernelspec": {
   "display_name": "Python 3",
   "language": "python",
   "name": "python3"
  },
  "language_info": {
   "codemirror_mode": {
    "name": "ipython",
    "version": 3
   },
   "file_extension": ".py",
   "mimetype": "text/x-python",
   "name": "python",
   "nbconvert_exporter": "python",
   "pygments_lexer": "ipython3",
   "version": "3.7.6"
  }
 },
 "nbformat": 4,
 "nbformat_minor": 4
}
