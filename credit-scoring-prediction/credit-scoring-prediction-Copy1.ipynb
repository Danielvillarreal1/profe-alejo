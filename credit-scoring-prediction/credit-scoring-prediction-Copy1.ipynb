{
 "cells": [
  {
   "cell_type": "markdown",
   "metadata": {},
   "source": [
    "#**PROBLEMA DE NEGOCIO**\n",
    "\n",
    "\n",
    "---\n",
    "\n",
    "\n"
   ]
  },
  {
   "cell_type": "markdown",
   "metadata": {},
   "source": [
    "La importancia de reducir el riesgo crediticio ha llevado a una institución financiera alemana a buscar soluciones innovadoras. Como científicos de datos, hemos sido convocados para construir un modelo de machine learning preciso y confiable que sea capaz de evaluar con mayor precisión la probabilidad de incumplimiento crediticio de sus clientes."
   ]
  },
  {
   "cell_type": "markdown",
   "metadata": {},
   "source": [
    "### **Tus tareas principales serán:**\n",
    "\n",
    "**1. Preprocesamiento de Datos:** Realizar limpieza de datos, manejar valores faltantes, codificación de variables categóricas y normalización/escalado de datos.\n",
    "\n",
    "**2. Exploración de Datos:** Analizar y comprender el conjunto de datos proporcionado, identificar variables llaves y realizar visualizaciones para entender las relaciones entre las variables y seleccionar las características relevantes.\n",
    "\n",
    "**3. Construcción de Modelos:** Experimentar con algunos algoritmos de machine learning como Regresión Logística, Árboles de Decisión, Random Forest, Naive Bayes, entre otros.\n",
    "\n",
    "**4. Evaluación y Selección del Modelo:** Evaluar los modelos utilizando métricas como precisión, recall, área bajo la curva ROC, y F1-score. Seleccionar el modelo con el mejor rendimiento para la predicción de la solvencia crediticia."
   ]
  },
  {
   "cell_type": "markdown",
   "metadata": {},
   "source": [
    "#**1. Configuración del Ambiente**\n",
    "\n",
    "\n",
    "---\n",
    "\n",
    "\n"
   ]
  },
  {
   "cell_type": "code",
   "execution_count": 1,
   "metadata": {},
   "outputs": [],
   "source": [
    "import pandas as pd\n",
    "pd.set_option('display.max_columns', None)\n",
    "import seaborn as sns\n",
    "import matplotlib.pyplot as plt\n",
    "import warnings\n",
    "warnings.filterwarnings(\"ignore\")\n",
    "from sklearn.model_selection import train_test_split\n",
    "from sklearn.model_selection import train_test_split\n",
    "from sklearn.linear_model import LogisticRegression\n",
    "from sklearn.tree import DecisionTreeClassifier\n",
    "from sklearn.ensemble import RandomForestClassifier\n",
    "from sklearn.naive_bayes import GaussianNB\n",
    "from sklearn.metrics import accuracy_score, precision_score, recall_score, f1_score\n",
    "from sklearn.metrics import roc_auc_score, roc_curve\n",
    "global df_banco, resultados"
   ]
  },
  {
   "cell_type": "markdown",
   "metadata": {},
   "source": [
    "#**2. Preprocesamiento de Datos**\n",
    "\n",
    "\n",
    "---\n"
   ]
  },
  {
   "cell_type": "code",
   "execution_count": 2,
   "metadata": {},
   "outputs": [
    {
     "data": {
      "text/html": [
       "<div>\n",
       "<style scoped>\n",
       "    .dataframe tbody tr th:only-of-type {\n",
       "        vertical-align: middle;\n",
       "    }\n",
       "\n",
       "    .dataframe tbody tr th {\n",
       "        vertical-align: top;\n",
       "    }\n",
       "\n",
       "    .dataframe thead th {\n",
       "        text-align: right;\n",
       "    }\n",
       "</style>\n",
       "<table border=\"1\" class=\"dataframe\">\n",
       "  <thead>\n",
       "    <tr style=\"text-align: right;\">\n",
       "      <th></th>\n",
       "      <th>default</th>\n",
       "      <th>account_check_status</th>\n",
       "      <th>duration_in_month</th>\n",
       "      <th>credit_history</th>\n",
       "      <th>purpose</th>\n",
       "      <th>credit_amount</th>\n",
       "      <th>savings</th>\n",
       "      <th>present_emp_since</th>\n",
       "      <th>installment_as_income_perc</th>\n",
       "      <th>personal_status_sex</th>\n",
       "      <th>other_debtors</th>\n",
       "      <th>present_res_since</th>\n",
       "      <th>property</th>\n",
       "      <th>age</th>\n",
       "      <th>other_installment_plans</th>\n",
       "      <th>housing</th>\n",
       "      <th>credits_this_bank</th>\n",
       "      <th>job</th>\n",
       "      <th>people_under_maintenance</th>\n",
       "      <th>telephone</th>\n",
       "      <th>foreign_worker</th>\n",
       "    </tr>\n",
       "  </thead>\n",
       "  <tbody>\n",
       "    <tr>\n",
       "      <th>0</th>\n",
       "      <td>0</td>\n",
       "      <td>&lt; 0 DM</td>\n",
       "      <td>6</td>\n",
       "      <td>critical account/ other credits existing (not ...</td>\n",
       "      <td>domestic appliances</td>\n",
       "      <td>1169</td>\n",
       "      <td>unknown/ no savings account</td>\n",
       "      <td>.. &gt;= 7 years</td>\n",
       "      <td>4</td>\n",
       "      <td>male : single</td>\n",
       "      <td>none</td>\n",
       "      <td>4</td>\n",
       "      <td>real estate</td>\n",
       "      <td>67</td>\n",
       "      <td>none</td>\n",
       "      <td>own</td>\n",
       "      <td>2</td>\n",
       "      <td>skilled employee / official</td>\n",
       "      <td>1</td>\n",
       "      <td>yes, registered under the customers name</td>\n",
       "      <td>yes</td>\n",
       "    </tr>\n",
       "    <tr>\n",
       "      <th>1</th>\n",
       "      <td>1</td>\n",
       "      <td>0 &lt;= ... &lt; 200 DM</td>\n",
       "      <td>48</td>\n",
       "      <td>existing credits paid back duly till now</td>\n",
       "      <td>domestic appliances</td>\n",
       "      <td>5951</td>\n",
       "      <td>... &lt; 100 DM</td>\n",
       "      <td>1 &lt;= ... &lt; 4 years</td>\n",
       "      <td>2</td>\n",
       "      <td>female : divorced/separated/married</td>\n",
       "      <td>none</td>\n",
       "      <td>2</td>\n",
       "      <td>real estate</td>\n",
       "      <td>22</td>\n",
       "      <td>none</td>\n",
       "      <td>own</td>\n",
       "      <td>1</td>\n",
       "      <td>skilled employee / official</td>\n",
       "      <td>1</td>\n",
       "      <td>none</td>\n",
       "      <td>yes</td>\n",
       "    </tr>\n",
       "    <tr>\n",
       "      <th>2</th>\n",
       "      <td>0</td>\n",
       "      <td>no checking account</td>\n",
       "      <td>12</td>\n",
       "      <td>critical account/ other credits existing (not ...</td>\n",
       "      <td>(vacation - does not exist?)</td>\n",
       "      <td>2096</td>\n",
       "      <td>... &lt; 100 DM</td>\n",
       "      <td>4 &lt;= ... &lt; 7 years</td>\n",
       "      <td>2</td>\n",
       "      <td>male : single</td>\n",
       "      <td>none</td>\n",
       "      <td>3</td>\n",
       "      <td>real estate</td>\n",
       "      <td>49</td>\n",
       "      <td>none</td>\n",
       "      <td>own</td>\n",
       "      <td>1</td>\n",
       "      <td>unskilled - resident</td>\n",
       "      <td>2</td>\n",
       "      <td>none</td>\n",
       "      <td>yes</td>\n",
       "    </tr>\n",
       "    <tr>\n",
       "      <th>3</th>\n",
       "      <td>0</td>\n",
       "      <td>&lt; 0 DM</td>\n",
       "      <td>42</td>\n",
       "      <td>existing credits paid back duly till now</td>\n",
       "      <td>radio/television</td>\n",
       "      <td>7882</td>\n",
       "      <td>... &lt; 100 DM</td>\n",
       "      <td>4 &lt;= ... &lt; 7 years</td>\n",
       "      <td>2</td>\n",
       "      <td>male : single</td>\n",
       "      <td>guarantor</td>\n",
       "      <td>4</td>\n",
       "      <td>if not A121 : building society savings agreeme...</td>\n",
       "      <td>45</td>\n",
       "      <td>none</td>\n",
       "      <td>for free</td>\n",
       "      <td>1</td>\n",
       "      <td>skilled employee / official</td>\n",
       "      <td>2</td>\n",
       "      <td>none</td>\n",
       "      <td>yes</td>\n",
       "    </tr>\n",
       "    <tr>\n",
       "      <th>4</th>\n",
       "      <td>1</td>\n",
       "      <td>&lt; 0 DM</td>\n",
       "      <td>24</td>\n",
       "      <td>delay in paying off in the past</td>\n",
       "      <td>car (new)</td>\n",
       "      <td>4870</td>\n",
       "      <td>... &lt; 100 DM</td>\n",
       "      <td>1 &lt;= ... &lt; 4 years</td>\n",
       "      <td>3</td>\n",
       "      <td>male : single</td>\n",
       "      <td>none</td>\n",
       "      <td>4</td>\n",
       "      <td>unknown / no property</td>\n",
       "      <td>53</td>\n",
       "      <td>none</td>\n",
       "      <td>for free</td>\n",
       "      <td>2</td>\n",
       "      <td>skilled employee / official</td>\n",
       "      <td>2</td>\n",
       "      <td>none</td>\n",
       "      <td>yes</td>\n",
       "    </tr>\n",
       "  </tbody>\n",
       "</table>\n",
       "</div>"
      ],
      "text/plain": [
       "   default account_check_status  duration_in_month  \\\n",
       "0        0               < 0 DM                  6   \n",
       "1        1    0 <= ... < 200 DM                 48   \n",
       "2        0  no checking account                 12   \n",
       "3        0               < 0 DM                 42   \n",
       "4        1               < 0 DM                 24   \n",
       "\n",
       "                                      credit_history  \\\n",
       "0  critical account/ other credits existing (not ...   \n",
       "1           existing credits paid back duly till now   \n",
       "2  critical account/ other credits existing (not ...   \n",
       "3           existing credits paid back duly till now   \n",
       "4                    delay in paying off in the past   \n",
       "\n",
       "                        purpose  credit_amount                      savings  \\\n",
       "0           domestic appliances           1169  unknown/ no savings account   \n",
       "1           domestic appliances           5951                 ... < 100 DM   \n",
       "2  (vacation - does not exist?)           2096                 ... < 100 DM   \n",
       "3              radio/television           7882                 ... < 100 DM   \n",
       "4                     car (new)           4870                 ... < 100 DM   \n",
       "\n",
       "    present_emp_since  installment_as_income_perc  \\\n",
       "0       .. >= 7 years                           4   \n",
       "1  1 <= ... < 4 years                           2   \n",
       "2  4 <= ... < 7 years                           2   \n",
       "3  4 <= ... < 7 years                           2   \n",
       "4  1 <= ... < 4 years                           3   \n",
       "\n",
       "                   personal_status_sex other_debtors  present_res_since  \\\n",
       "0                        male : single          none                  4   \n",
       "1  female : divorced/separated/married          none                  2   \n",
       "2                        male : single          none                  3   \n",
       "3                        male : single     guarantor                  4   \n",
       "4                        male : single          none                  4   \n",
       "\n",
       "                                            property  age  \\\n",
       "0                                        real estate   67   \n",
       "1                                        real estate   22   \n",
       "2                                        real estate   49   \n",
       "3  if not A121 : building society savings agreeme...   45   \n",
       "4                              unknown / no property   53   \n",
       "\n",
       "  other_installment_plans   housing  credits_this_bank  \\\n",
       "0                    none       own                  2   \n",
       "1                    none       own                  1   \n",
       "2                    none       own                  1   \n",
       "3                    none  for free                  1   \n",
       "4                    none  for free                  2   \n",
       "\n",
       "                           job  people_under_maintenance  \\\n",
       "0  skilled employee / official                         1   \n",
       "1  skilled employee / official                         1   \n",
       "2         unskilled - resident                         2   \n",
       "3  skilled employee / official                         2   \n",
       "4  skilled employee / official                         2   \n",
       "\n",
       "                                   telephone foreign_worker  \n",
       "0  yes, registered under the customers name             yes  \n",
       "1                                       none            yes  \n",
       "2                                       none            yes  \n",
       "3                                       none            yes  \n",
       "4                                       none            yes  "
      ]
     },
     "execution_count": 2,
     "metadata": {},
     "output_type": "execute_result"
    }
   ],
   "source": [
    "df_banco = pd.read_csv(\"german_credit.csv\")\n",
    "df_banco.head()"
   ]
  },
  {
   "cell_type": "code",
   "execution_count": null,
   "metadata": {},
   "outputs": [],
   "source": []
  },
  {
   "cell_type": "code",
   "execution_count": 3,
   "metadata": {},
   "outputs": [],
   "source": [
    "df_banco.columns = ['categoria_cliente', 'estado_cuenta', 'duracion_meses', 'historial_crediticio', 'proposito',\n",
    "              'monto_credito', 'cuenta_ahorros', 'empleo_actual', 'tasa_cuota', 'estado_sexual',\n",
    "              'otros_garantes', 'residencia_actual', 'propiedad', 'edad', 'otros_planes_cuotas',\n",
    "              'vivienda', 'creditos_banco_actual', 'trabajo', 'personas_mantenimiento', 'telefono',\n",
    "              'trabajador_extranjero']"
   ]
  },
  {
   "cell_type": "code",
   "execution_count": 4,
   "metadata": {},
   "outputs": [
    {
     "data": {
      "text/html": [
       "<div>\n",
       "<style scoped>\n",
       "    .dataframe tbody tr th:only-of-type {\n",
       "        vertical-align: middle;\n",
       "    }\n",
       "\n",
       "    .dataframe tbody tr th {\n",
       "        vertical-align: top;\n",
       "    }\n",
       "\n",
       "    .dataframe thead th {\n",
       "        text-align: right;\n",
       "    }\n",
       "</style>\n",
       "<table border=\"1\" class=\"dataframe\">\n",
       "  <thead>\n",
       "    <tr style=\"text-align: right;\">\n",
       "      <th></th>\n",
       "      <th>categoria_cliente</th>\n",
       "      <th>estado_cuenta</th>\n",
       "      <th>duracion_meses</th>\n",
       "      <th>historial_crediticio</th>\n",
       "      <th>proposito</th>\n",
       "      <th>monto_credito</th>\n",
       "      <th>cuenta_ahorros</th>\n",
       "      <th>empleo_actual</th>\n",
       "      <th>tasa_cuota</th>\n",
       "      <th>estado_sexual</th>\n",
       "      <th>otros_garantes</th>\n",
       "      <th>residencia_actual</th>\n",
       "      <th>propiedad</th>\n",
       "      <th>edad</th>\n",
       "      <th>otros_planes_cuotas</th>\n",
       "      <th>vivienda</th>\n",
       "      <th>creditos_banco_actual</th>\n",
       "      <th>trabajo</th>\n",
       "      <th>personas_mantenimiento</th>\n",
       "      <th>telefono</th>\n",
       "      <th>trabajador_extranjero</th>\n",
       "    </tr>\n",
       "  </thead>\n",
       "  <tbody>\n",
       "    <tr>\n",
       "      <th>0</th>\n",
       "      <td>0</td>\n",
       "      <td>&lt; 0 DM</td>\n",
       "      <td>6</td>\n",
       "      <td>critical account/ other credits existing (not ...</td>\n",
       "      <td>domestic appliances</td>\n",
       "      <td>1169</td>\n",
       "      <td>unknown/ no savings account</td>\n",
       "      <td>.. &gt;= 7 years</td>\n",
       "      <td>4</td>\n",
       "      <td>male : single</td>\n",
       "      <td>none</td>\n",
       "      <td>4</td>\n",
       "      <td>real estate</td>\n",
       "      <td>67</td>\n",
       "      <td>none</td>\n",
       "      <td>own</td>\n",
       "      <td>2</td>\n",
       "      <td>skilled employee / official</td>\n",
       "      <td>1</td>\n",
       "      <td>yes, registered under the customers name</td>\n",
       "      <td>yes</td>\n",
       "    </tr>\n",
       "    <tr>\n",
       "      <th>1</th>\n",
       "      <td>1</td>\n",
       "      <td>0 &lt;= ... &lt; 200 DM</td>\n",
       "      <td>48</td>\n",
       "      <td>existing credits paid back duly till now</td>\n",
       "      <td>domestic appliances</td>\n",
       "      <td>5951</td>\n",
       "      <td>... &lt; 100 DM</td>\n",
       "      <td>1 &lt;= ... &lt; 4 years</td>\n",
       "      <td>2</td>\n",
       "      <td>female : divorced/separated/married</td>\n",
       "      <td>none</td>\n",
       "      <td>2</td>\n",
       "      <td>real estate</td>\n",
       "      <td>22</td>\n",
       "      <td>none</td>\n",
       "      <td>own</td>\n",
       "      <td>1</td>\n",
       "      <td>skilled employee / official</td>\n",
       "      <td>1</td>\n",
       "      <td>none</td>\n",
       "      <td>yes</td>\n",
       "    </tr>\n",
       "  </tbody>\n",
       "</table>\n",
       "</div>"
      ],
      "text/plain": [
       "   categoria_cliente      estado_cuenta  duracion_meses  \\\n",
       "0                  0             < 0 DM               6   \n",
       "1                  1  0 <= ... < 200 DM              48   \n",
       "\n",
       "                                historial_crediticio            proposito  \\\n",
       "0  critical account/ other credits existing (not ...  domestic appliances   \n",
       "1           existing credits paid back duly till now  domestic appliances   \n",
       "\n",
       "   monto_credito               cuenta_ahorros       empleo_actual  tasa_cuota  \\\n",
       "0           1169  unknown/ no savings account       .. >= 7 years           4   \n",
       "1           5951                 ... < 100 DM  1 <= ... < 4 years           2   \n",
       "\n",
       "                         estado_sexual otros_garantes  residencia_actual  \\\n",
       "0                        male : single           none                  4   \n",
       "1  female : divorced/separated/married           none                  2   \n",
       "\n",
       "     propiedad  edad otros_planes_cuotas vivienda  creditos_banco_actual  \\\n",
       "0  real estate    67                none      own                      2   \n",
       "1  real estate    22                none      own                      1   \n",
       "\n",
       "                       trabajo  personas_mantenimiento  \\\n",
       "0  skilled employee / official                       1   \n",
       "1  skilled employee / official                       1   \n",
       "\n",
       "                                    telefono trabajador_extranjero  \n",
       "0  yes, registered under the customers name                    yes  \n",
       "1                                       none                   yes  "
      ]
     },
     "execution_count": 4,
     "metadata": {},
     "output_type": "execute_result"
    }
   ],
   "source": [
    "df_banco.head(2)"
   ]
  },
  {
   "cell_type": "code",
   "execution_count": null,
   "metadata": {},
   "outputs": [],
   "source": []
  },
  {
   "cell_type": "code",
   "execution_count": 5,
   "metadata": {},
   "outputs": [
    {
     "name": "stdout",
     "output_type": "stream",
     "text": [
      "<class 'pandas.core.frame.DataFrame'>\n",
      "RangeIndex: 1000 entries, 0 to 999\n",
      "Data columns (total 21 columns):\n",
      " #   Column                  Non-Null Count  Dtype \n",
      "---  ------                  --------------  ----- \n",
      " 0   categoria_cliente       1000 non-null   int64 \n",
      " 1   estado_cuenta           1000 non-null   object\n",
      " 2   duracion_meses          1000 non-null   int64 \n",
      " 3   historial_crediticio    1000 non-null   object\n",
      " 4   proposito               1000 non-null   object\n",
      " 5   monto_credito           1000 non-null   int64 \n",
      " 6   cuenta_ahorros          1000 non-null   object\n",
      " 7   empleo_actual           1000 non-null   object\n",
      " 8   tasa_cuota              1000 non-null   int64 \n",
      " 9   estado_sexual           1000 non-null   object\n",
      " 10  otros_garantes          1000 non-null   object\n",
      " 11  residencia_actual       1000 non-null   int64 \n",
      " 12  propiedad               1000 non-null   object\n",
      " 13  edad                    1000 non-null   int64 \n",
      " 14  otros_planes_cuotas     1000 non-null   object\n",
      " 15  vivienda                1000 non-null   object\n",
      " 16  creditos_banco_actual   1000 non-null   int64 \n",
      " 17  trabajo                 1000 non-null   object\n",
      " 18  personas_mantenimiento  1000 non-null   int64 \n",
      " 19  telefono                1000 non-null   object\n",
      " 20  trabajador_extranjero   1000 non-null   object\n",
      "dtypes: int64(8), object(13)\n",
      "memory usage: 164.2+ KB\n"
     ]
    }
   ],
   "source": [
    "df_banco.info()"
   ]
  },
  {
   "cell_type": "markdown",
   "metadata": {},
   "source": [
    "### Eliminar datos duplicados"
   ]
  },
  {
   "cell_type": "code",
   "execution_count": 6,
   "metadata": {},
   "outputs": [],
   "source": [
    " #df_banco = df_banco.drop_duplicates()"
   ]
  },
  {
   "cell_type": "code",
   "execution_count": 7,
   "metadata": {},
   "outputs": [
    {
     "name": "stdout",
     "output_type": "stream",
     "text": [
      "\n",
      "Cantidad de datos duplicados antes de eliminar: 0\n",
      "\n",
      "\n",
      "Cantidad de datos duplicados después de eliminar: 0\n",
      "\n"
     ]
    }
   ],
   "source": [
    "# Mostrar datos duplicados antes de eliminar\n",
    "duplicados = df_banco[df_banco.duplicated()]\n",
    "duplicados\n",
    "print(f\"\\nCantidad de datos duplicados antes de eliminar: {duplicados.shape[0]}\\n\")\n",
    "\n",
    "# Eliminar duplicados\n",
    "df_banco = df_banco.drop_duplicates()\n",
    "\n",
    "# Mostrar datos duplicados después de eliminar\n",
    "duplicados_despues = df_banco[df_banco.duplicated()]\n",
    "duplicados_despues\n",
    "print(f\"\\nCantidad de datos duplicados después de eliminar: {duplicados_despues.shape[0]}\\n\")\n"
   ]
  },
  {
   "cell_type": "markdown",
   "metadata": {},
   "source": [
    "### Ver datos nulos"
   ]
  },
  {
   "cell_type": "code",
   "execution_count": 8,
   "metadata": {},
   "outputs": [
    {
     "data": {
      "text/plain": [
       "categoria_cliente         0\n",
       "estado_cuenta             0\n",
       "duracion_meses            0\n",
       "historial_crediticio      0\n",
       "proposito                 0\n",
       "monto_credito             0\n",
       "cuenta_ahorros            0\n",
       "empleo_actual             0\n",
       "tasa_cuota                0\n",
       "estado_sexual             0\n",
       "otros_garantes            0\n",
       "residencia_actual         0\n",
       "propiedad                 0\n",
       "edad                      0\n",
       "otros_planes_cuotas       0\n",
       "vivienda                  0\n",
       "creditos_banco_actual     0\n",
       "trabajo                   0\n",
       "personas_mantenimiento    0\n",
       "telefono                  0\n",
       "trabajador_extranjero     0\n",
       "dtype: int64"
      ]
     },
     "execution_count": 8,
     "metadata": {},
     "output_type": "execute_result"
    }
   ],
   "source": [
    "df_banco.isnull().sum()"
   ]
  },
  {
   "cell_type": "markdown",
   "metadata": {},
   "source": [
    "### Tratamiento de nulos, eliminar nulos"
   ]
  },
  {
   "cell_type": "code",
   "execution_count": 9,
   "metadata": {},
   "outputs": [
    {
     "name": "stdout",
     "output_type": "stream",
     "text": [
      "\n",
      "Cantidad total de datos nulos antes de eliminar: 0\n",
      "Cantidad total de datos nulos después de eliminar: 0\n"
     ]
    }
   ],
   "source": [
    "\n",
    "print(\"\\nCantidad total de datos nulos antes de eliminar:\", df_banco.isnull().sum().sum())\n",
    "\n",
    "# Eliminar los registros con valores nulos\n",
    "df_banco = df_banco.dropna()\n",
    "\n",
    "# Mostrar la cantidad total de datos nulos después de eliminar\n",
    "print(\"Cantidad total de datos nulos después de eliminar:\", df_banco.isnull().sum().sum())\n"
   ]
  },
  {
   "cell_type": "code",
   "execution_count": null,
   "metadata": {},
   "outputs": [],
   "source": []
  },
  {
   "cell_type": "code",
   "execution_count": 10,
   "metadata": {},
   "outputs": [
    {
     "data": {
      "text/html": [
       "<div>\n",
       "<style scoped>\n",
       "    .dataframe tbody tr th:only-of-type {\n",
       "        vertical-align: middle;\n",
       "    }\n",
       "\n",
       "    .dataframe tbody tr th {\n",
       "        vertical-align: top;\n",
       "    }\n",
       "\n",
       "    .dataframe thead th {\n",
       "        text-align: right;\n",
       "    }\n",
       "</style>\n",
       "<table border=\"1\" class=\"dataframe\">\n",
       "  <thead>\n",
       "    <tr style=\"text-align: right;\">\n",
       "      <th></th>\n",
       "      <th>categoria_cliente</th>\n",
       "      <th>estado_cuenta</th>\n",
       "      <th>duracion_meses</th>\n",
       "      <th>historial_crediticio</th>\n",
       "      <th>proposito</th>\n",
       "      <th>monto_credito</th>\n",
       "      <th>cuenta_ahorros</th>\n",
       "      <th>empleo_actual</th>\n",
       "      <th>tasa_cuota</th>\n",
       "      <th>estado_sexual</th>\n",
       "      <th>otros_garantes</th>\n",
       "      <th>residencia_actual</th>\n",
       "      <th>propiedad</th>\n",
       "      <th>edad</th>\n",
       "      <th>otros_planes_cuotas</th>\n",
       "      <th>vivienda</th>\n",
       "      <th>creditos_banco_actual</th>\n",
       "      <th>trabajo</th>\n",
       "      <th>personas_mantenimiento</th>\n",
       "      <th>telefono</th>\n",
       "      <th>trabajador_extranjero</th>\n",
       "    </tr>\n",
       "  </thead>\n",
       "  <tbody>\n",
       "    <tr>\n",
       "      <th>0</th>\n",
       "      <td>0</td>\n",
       "      <td>&lt; 0 DM</td>\n",
       "      <td>6</td>\n",
       "      <td>critical account/ other credits existing (not ...</td>\n",
       "      <td>domestic appliances</td>\n",
       "      <td>1169</td>\n",
       "      <td>unknown/ no savings account</td>\n",
       "      <td>.. &gt;= 7 years</td>\n",
       "      <td>4</td>\n",
       "      <td>male : single</td>\n",
       "      <td>none</td>\n",
       "      <td>4</td>\n",
       "      <td>real estate</td>\n",
       "      <td>67</td>\n",
       "      <td>none</td>\n",
       "      <td>own</td>\n",
       "      <td>2</td>\n",
       "      <td>skilled employee / official</td>\n",
       "      <td>1</td>\n",
       "      <td>yes, registered under the customers name</td>\n",
       "      <td>yes</td>\n",
       "    </tr>\n",
       "    <tr>\n",
       "      <th>1</th>\n",
       "      <td>1</td>\n",
       "      <td>0 &lt;= ... &lt; 200 DM</td>\n",
       "      <td>48</td>\n",
       "      <td>existing credits paid back duly till now</td>\n",
       "      <td>domestic appliances</td>\n",
       "      <td>5951</td>\n",
       "      <td>... &lt; 100 DM</td>\n",
       "      <td>1 &lt;= ... &lt; 4 years</td>\n",
       "      <td>2</td>\n",
       "      <td>female : divorced/separated/married</td>\n",
       "      <td>none</td>\n",
       "      <td>2</td>\n",
       "      <td>real estate</td>\n",
       "      <td>22</td>\n",
       "      <td>none</td>\n",
       "      <td>own</td>\n",
       "      <td>1</td>\n",
       "      <td>skilled employee / official</td>\n",
       "      <td>1</td>\n",
       "      <td>none</td>\n",
       "      <td>yes</td>\n",
       "    </tr>\n",
       "  </tbody>\n",
       "</table>\n",
       "</div>"
      ],
      "text/plain": [
       "   categoria_cliente      estado_cuenta  duracion_meses  \\\n",
       "0                  0             < 0 DM               6   \n",
       "1                  1  0 <= ... < 200 DM              48   \n",
       "\n",
       "                                historial_crediticio            proposito  \\\n",
       "0  critical account/ other credits existing (not ...  domestic appliances   \n",
       "1           existing credits paid back duly till now  domestic appliances   \n",
       "\n",
       "   monto_credito               cuenta_ahorros       empleo_actual  tasa_cuota  \\\n",
       "0           1169  unknown/ no savings account       .. >= 7 years           4   \n",
       "1           5951                 ... < 100 DM  1 <= ... < 4 years           2   \n",
       "\n",
       "                         estado_sexual otros_garantes  residencia_actual  \\\n",
       "0                        male : single           none                  4   \n",
       "1  female : divorced/separated/married           none                  2   \n",
       "\n",
       "     propiedad  edad otros_planes_cuotas vivienda  creditos_banco_actual  \\\n",
       "0  real estate    67                none      own                      2   \n",
       "1  real estate    22                none      own                      1   \n",
       "\n",
       "                       trabajo  personas_mantenimiento  \\\n",
       "0  skilled employee / official                       1   \n",
       "1  skilled employee / official                       1   \n",
       "\n",
       "                                    telefono trabajador_extranjero  \n",
       "0  yes, registered under the customers name                    yes  \n",
       "1                                       none                   yes  "
      ]
     },
     "execution_count": 10,
     "metadata": {},
     "output_type": "execute_result"
    }
   ],
   "source": [
    "df_banco.head(2)"
   ]
  },
  {
   "cell_type": "code",
   "execution_count": null,
   "metadata": {},
   "outputs": [],
   "source": []
  },
  {
   "cell_type": "code",
   "execution_count": null,
   "metadata": {},
   "outputs": [],
   "source": []
  },
  {
   "cell_type": "markdown",
   "metadata": {},
   "source": [
    "### Tratando variables categóricas"
   ]
  },
  {
   "cell_type": "code",
   "execution_count": 11,
   "metadata": {},
   "outputs": [
    {
     "data": {
      "text/plain": [
       "categoria_cliente          int64\n",
       "estado_cuenta             object\n",
       "duracion_meses             int64\n",
       "historial_crediticio      object\n",
       "proposito                 object\n",
       "monto_credito              int64\n",
       "cuenta_ahorros            object\n",
       "empleo_actual             object\n",
       "tasa_cuota                 int64\n",
       "estado_sexual             object\n",
       "otros_garantes            object\n",
       "residencia_actual          int64\n",
       "propiedad                 object\n",
       "edad                       int64\n",
       "otros_planes_cuotas       object\n",
       "vivienda                  object\n",
       "creditos_banco_actual      int64\n",
       "trabajo                   object\n",
       "personas_mantenimiento     int64\n",
       "telefono                  object\n",
       "trabajador_extranjero     object\n",
       "dtype: object"
      ]
     },
     "execution_count": 11,
     "metadata": {},
     "output_type": "execute_result"
    }
   ],
   "source": [
    "df_banco.dtypes"
   ]
  },
  {
   "cell_type": "markdown",
   "metadata": {},
   "source": [
    "#### Recorremos cada columna del df para ver explorar y ver cuantos valores tienen c/u, letras donde deberia haber numeros, valores extraños.\n",
    "- este código proporciona información sobre la frecuencia de valores únicos en cada columna del DataFrame para realizar un análisis exploratorio de los datos y comprender la distribución de los valores en cada columna.\n",
    "\n"
   ]
  },
  {
   "cell_type": "code",
   "execution_count": 12,
   "metadata": {},
   "outputs": [
    {
     "name": "stdout",
     "output_type": "stream",
     "text": [
      "==========================================================================================\n",
      "0    700\n",
      "1    300\n",
      "Name: categoria_cliente, dtype: int64\n",
      "==========================================================================================\n",
      "no checking account                                   394\n",
      "< 0 DM                                                274\n",
      "0 <= ... < 200 DM                                     269\n",
      ">= 200 DM / salary assignments for at least 1 year     63\n",
      "Name: estado_cuenta, dtype: int64\n",
      "==========================================================================================\n",
      "24    184\n",
      "12    179\n",
      "18    113\n",
      "36     83\n",
      "6      75\n",
      "15     64\n",
      "9      49\n",
      "48     48\n",
      "30     40\n",
      "21     30\n",
      "10     28\n",
      "60     13\n",
      "27     13\n",
      "42     11\n",
      "11      9\n",
      "20      8\n",
      "8       7\n",
      "4       6\n",
      "45      5\n",
      "7       5\n",
      "39      5\n",
      "14      4\n",
      "13      4\n",
      "33      3\n",
      "28      3\n",
      "54      2\n",
      "16      2\n",
      "22      2\n",
      "47      1\n",
      "5       1\n",
      "26      1\n",
      "72      1\n",
      "40      1\n",
      "Name: duracion_meses, dtype: int64\n",
      "==========================================================================================\n",
      "existing credits paid back duly till now                       530\n",
      "critical account/ other credits existing (not at this bank)    293\n",
      "delay in paying off in the past                                 88\n",
      "all credits at this bank paid back duly                         49\n",
      "no credits taken/ all credits paid back duly                    40\n",
      "Name: historial_crediticio, dtype: int64\n",
      "==========================================================================================\n",
      "domestic appliances             280\n",
      "car (new)                       234\n",
      "radio/television                181\n",
      "car (used)                      103\n",
      "business                         97\n",
      "(vacation - does not exist?)     50\n",
      "education                        22\n",
      "repairs                          12\n",
      "furniture/equipment              12\n",
      "retraining                        9\n",
      "Name: proposito, dtype: int64\n",
      "==========================================================================================\n",
      "1478    3\n",
      "1262    3\n",
      "1258    3\n",
      "1275    3\n",
      "1393    3\n",
      "       ..\n",
      "1459    1\n",
      "882     1\n",
      "3758    1\n",
      "1136    1\n",
      "4576    1\n",
      "Name: monto_credito, Length: 921, dtype: int64\n",
      "==========================================================================================\n",
      "... < 100 DM                   603\n",
      "unknown/ no savings account    183\n",
      "100 <= ... < 500 DM            103\n",
      "500 <= ... < 1000 DM            63\n",
      ".. >= 1000 DM                   48\n",
      "Name: cuenta_ahorros, dtype: int64\n",
      "==========================================================================================\n",
      "1 <= ... < 4 years    339\n",
      ".. >= 7 years         253\n",
      "4 <= ... < 7 years    174\n",
      "... < 1 year          172\n",
      "unemployed             62\n",
      "Name: empleo_actual, dtype: int64\n",
      "==========================================================================================\n",
      "4    476\n",
      "2    231\n",
      "3    157\n",
      "1    136\n",
      "Name: tasa_cuota, dtype: int64\n",
      "==========================================================================================\n",
      "male : single                          548\n",
      "female : divorced/separated/married    310\n",
      "male : married/widowed                  92\n",
      "male : divorced/separated               50\n",
      "Name: estado_sexual, dtype: int64\n",
      "==========================================================================================\n",
      "none            907\n",
      "guarantor        52\n",
      "co-applicant     41\n",
      "Name: otros_garantes, dtype: int64\n",
      "==========================================================================================\n",
      "4    413\n",
      "2    308\n",
      "3    149\n",
      "1    130\n",
      "Name: residencia_actual, dtype: int64\n",
      "==========================================================================================\n",
      "if not A121/A122 : car or other, not in attribute 6                 332\n",
      "real estate                                                         282\n",
      "if not A121 : building society savings agreement/ life insurance    232\n",
      "unknown / no property                                               154\n",
      "Name: propiedad, dtype: int64\n",
      "==========================================================================================\n",
      "27    51\n",
      "26    50\n",
      "23    48\n",
      "24    44\n",
      "28    43\n",
      "25    41\n",
      "30    40\n",
      "35    40\n",
      "36    39\n",
      "31    38\n",
      "29    37\n",
      "32    34\n",
      "33    33\n",
      "34    32\n",
      "37    29\n",
      "22    27\n",
      "40    25\n",
      "38    24\n",
      "42    22\n",
      "39    21\n",
      "46    18\n",
      "43    17\n",
      "47    17\n",
      "44    17\n",
      "41    17\n",
      "45    15\n",
      "20    14\n",
      "21    14\n",
      "49    14\n",
      "50    12\n",
      "48    12\n",
      "54    10\n",
      "57     9\n",
      "52     9\n",
      "51     8\n",
      "55     8\n",
      "63     8\n",
      "61     7\n",
      "53     7\n",
      "60     6\n",
      "65     5\n",
      "58     5\n",
      "64     5\n",
      "66     5\n",
      "74     4\n",
      "67     3\n",
      "68     3\n",
      "56     3\n",
      "59     3\n",
      "75     2\n",
      "19     2\n",
      "62     2\n",
      "70     1\n",
      "Name: edad, dtype: int64\n",
      "==========================================================================================\n",
      "none      814\n",
      "bank      139\n",
      "stores     47\n",
      "Name: otros_planes_cuotas, dtype: int64\n",
      "==========================================================================================\n",
      "own         713\n",
      "rent        179\n",
      "for free    108\n",
      "Name: vivienda, dtype: int64\n",
      "==========================================================================================\n",
      "1    633\n",
      "2    333\n",
      "3     28\n",
      "4      6\n",
      "Name: creditos_banco_actual, dtype: int64\n",
      "==========================================================================================\n",
      "skilled employee / official                                      630\n",
      "unskilled - resident                                             200\n",
      "management/ self-employed/ highly qualified employee/ officer    148\n",
      "unemployed/ unskilled - non-resident                              22\n",
      "Name: trabajo, dtype: int64\n",
      "==========================================================================================\n",
      "1    845\n",
      "2    155\n",
      "Name: personas_mantenimiento, dtype: int64\n",
      "==========================================================================================\n",
      "none                                         596\n",
      "yes, registered under the customers name     404\n",
      "Name: telefono, dtype: int64\n",
      "==========================================================================================\n",
      "yes    963\n",
      "no      37\n",
      "Name: trabajador_extranjero, dtype: int64\n"
     ]
    }
   ],
   "source": [
    "for columna in df_banco.columns:\n",
    "    print('=========' * 10)\n",
    "    print(df_banco[columna].value_counts())"
   ]
  },
  {
   "cell_type": "code",
   "execution_count": 29,
   "metadata": {},
   "outputs": [],
   "source": [
    "# Obtener todas las columnas categóricas\n",
    "#columnas_categoricas = df_banco.select_dtypes(include=['object']).columns\n",
    "\n"
   ]
  },
  {
   "cell_type": "markdown",
   "metadata": {},
   "source": [
    "- categoria_cliente: Valores 0 y 1, se refiere a las categorías de los clientes. Tipo int.\n",
    "- estado_cuenta: Muestra el estado de la cuenta. Categoría cualitativa.\n",
    "- duracion_meses: Muestra la duración en meses. Tipo int.\n",
    "- historial_crediticio: Historial crediticio del cliente. Categoría cualitativa.\n",
    "- proposito: Propósito del crédito. Categoría cualitativa.\n",
    "- monto_credito: Monto del crédito. Tipo int.\n",
    "- cuenta_ahorros: Cuenta de ahorros/bonos. Categoría cualitativa.\n",
    "- empleo_actual: Estado laboral actual. Categoría cualitativa.\n",
    "- tasa_cuota: Tasa de cuota en porcentaje del ingreso disponible. Tipo int.\n",
    "- estado_sexual: Estado y género del cliente. Categoría cualitativa.\n",
    "\n",
    "- otros_garantes: ninguno 907, garante 52, co-solicitante 41. Categoríca.\n",
    "- residencia_actual: cantidad de años de residencia:\n",
    "    - 4    413,\n",
    "    - 2    308\n",
    "    - 3    149\n",
    "    - 1    130. Tipo int.\n",
    "    \n",
    "- propiedad: Tipo de propiedad.Categoríca.\n",
    "    - si no A121/A122: automóvil u otro, no en el atributo 6 332\n",
    "    - bienes raíces 282\n",
    "    - si no A121: contrato de ahorro de sociedad de construcción/seguro de vida 232\n",
    "    - desconocido / sin propiedad 154\n",
    "\n",
    "- edad: Edad del cliente en años, hay mayores de 70 años. Tipo int. \n",
    "- otros_planes_cuotas:  indica la existencia de otros planes de cuotas que el cliente puede tener. Categoríca.\n",
    "    - ninguno 814\n",
    "    - banco 139\n",
    "    - tiendas 47 \n",
    "\n",
    "- vivienda: Tipo de vivienda propia, alquilada o no paga. Categoríca.\n",
    "    - propio 713\n",
    "    - alquilar 179\n",
    "    - gratis 108   \n",
    "\n",
    "- creditos_banco_actual: numero de creditos existentes en este banco. Tipo int.\n",
    "la mayoría de los clientes tienen 1 o 2 creditos actuales en el banco\n",
    "\n",
    "- trabajo: Tipo de trabajo indican la diferentes categorías de empleo entre los clientes. Categoríca.\n",
    "    - empleado calificado / oficial 630\n",
    "    - no calificado - residente 200\n",
    "    - directivo/autónomo/empleado altamente cualificado/oficina 148\n",
    "    - desempleados/no cualificados - no residente 22   \n",
    " \n",
    " \n",
    "\n",
    "- personas_mantenimiento: Número de personas a cargo,describe la cantidad de personas que el cliente esta obligado a mantener financieramente. Tipo int.\n",
    "   - 1    845\n",
    "   - 2    155\n",
    "\n",
    "- telefono: Indicación de si el cliente tiene teléfono registrado. Categoríca.\n",
    "    - ninguno 596\n",
    "    - sí, registrado a nombre del cliente 404\n",
    "\n",
    "- trabajador_extranjero: Indicación de si el cliente es trabajador extranjero. Categoríca."
   ]
  },
  {
   "cell_type": "code",
   "execution_count": null,
   "metadata": {},
   "outputs": [],
   "source": []
  },
  {
   "cell_type": "code",
   "execution_count": 13,
   "metadata": {},
   "outputs": [
    {
     "ename": "SyntaxError",
     "evalue": "invalid syntax (<ipython-input-13-46e7593e59e6>, line 1)",
     "output_type": "error",
     "traceback": [
      "\u001b[0;36m  File \u001b[0;32m\"<ipython-input-13-46e7593e59e6>\"\u001b[0;36m, line \u001b[0;32m1\u001b[0m\n\u001b[0;31m    otros_garantes            object\u001b[0m\n\u001b[0m                                   ^\u001b[0m\n\u001b[0;31mSyntaxError\u001b[0m\u001b[0;31m:\u001b[0m invalid syntax\n"
     ]
    }
   ],
   "source": [
    "otros_garantes            object\n",
    "residencia_actual          int64\n",
    "propiedad                 object\n",
    "edad                       int64\n",
    "otros_planes_cuotas       object\n",
    "vivienda                  object\n",
    "creditos_banco_actual      int64\n",
    "trabajo                   object\n",
    "personas_mantenimiento     int64\n",
    "telefono                  object\n",
    "trabajador_extranjero     object"
   ]
  },
  {
   "cell_type": "markdown",
   "metadata": {},
   "source": [
    "#### ver valores unico de otros_garantes( object)\n",
    "- ninguno 907\n",
    "- garante 52\n",
    "- co-solicitante 41"
   ]
  },
  {
   "cell_type": "code",
   "execution_count": 44,
   "metadata": {},
   "outputs": [
    {
     "name": "stdout",
     "output_type": "stream",
     "text": [
      "none            907\n",
      "guarantor        52\n",
      "co-applicant     41\n",
      "Name: otros_garantes, dtype: int64\n"
     ]
    },
    {
     "data": {
      "image/png": "[encoded data removed]",
      "text/plain": [
       "<Figure size 720x432 with 1 Axes>"
      ]
     },
     "metadata": {
      "needs_background": "light"
     },
     "output_type": "display_data"
    }
   ],
   "source": [
    "print(df_banco['otros_garantes'].value_counts())\n",
    "plt.figure(figsize=(10, 6))\n",
    "df_banco['otros_garantes'].value_counts().plot(kind='bar', color='skyblue')\n",
    "plt.title('Distribución de datos únicos para otros garantes')\n",
    "plt.xlabel('garantes')\n",
    "plt.ylabel('Count')\n",
    "plt.grid(False)\n",
    "plt.show()"
   ]
  },
  {
   "cell_type": "code",
   "execution_count": null,
   "metadata": {},
   "outputs": [],
   "source": [
    "ver valores unico de residencia_actual"
   ]
  },
  {
   "cell_type": "code",
   "execution_count": 46,
   "metadata": {},
   "outputs": [
    {
     "name": "stdout",
     "output_type": "stream",
     "text": [
      "4    413\n",
      "2    308\n",
      "3    149\n",
      "1    130\n",
      "Name: residencia_actual, dtype: int64\n"
     ]
    },
    {
     "data": {
      "image/png": "[encoded data removed]",
      "text/plain": [
       "<Figure size 720x432 with 1 Axes>"
      ]
     },
     "metadata": {
      "needs_background": "light"
     },
     "output_type": "display_data"
    }
   ],
   "source": [
    "print(df_banco['residencia_actual'].value_counts())\n",
    "plt.figure(figsize=(10, 6))\n",
    "df_banco['residencia_actual'].value_counts().plot(kind='bar', color='skyblue')\n",
    "plt.title('Distribución de datos únicos para residencia actual')\n",
    "plt.xlabel('residencia')\n",
    "plt.ylabel('Count')\n",
    "plt.grid(False)\n",
    "plt.show()"
   ]
  },
  {
   "cell_type": "markdown",
   "metadata": {},
   "source": [
    " #### ver valores unico de propiedad (object)\n",
    "- si no A121/A122: automóvil u otro, no en el atributo 6 332\n",
    "- bienes raíces 282\n",
    "- si no A121: contrato de ahorro de sociedad de construcción/seguro de vida 232\n",
    "- desconocido / sin propiedad 154"
   ]
  },
  {
   "cell_type": "code",
   "execution_count": 47,
   "metadata": {},
   "outputs": [
    {
     "name": "stdout",
     "output_type": "stream",
     "text": [
      "if not A121/A122 : car or other, not in attribute 6                 332\n",
      "real estate                                                         282\n",
      "if not A121 : building society savings agreement/ life insurance    232\n",
      "unknown / no property                                               154\n",
      "Name: propiedad, dtype: int64\n"
     ]
    },
    {
     "data": {
      "image/png": "[encoded data removed]",
      "text/plain": [
       "<Figure size 720x432 with 1 Axes>"
      ]
     },
     "metadata": {
      "needs_background": "light"
     },
     "output_type": "display_data"
    }
   ],
   "source": [
    "print(df_banco['propiedad'].value_counts())\n",
    "plt.figure(figsize=(10, 6))\n",
    "df_banco['propiedad'].value_counts().plot(kind='bar', color='skyblue')\n",
    "plt.title('Distribución de datos únicos para propiedad')\n",
    "plt.xlabel('propiedad')\n",
    "plt.ylabel('Count')\n",
    "plt.grid(False)\n",
    "plt.show()"
   ]
  },
  {
   "cell_type": "markdown",
   "metadata": {},
   "source": [
    " #### ver valores unico de edad\n",
    "    - hay personas de 70,74,75 , se le puede dar un credito?"
   ]
  },
  {
   "cell_type": "code",
   "execution_count": 49,
   "metadata": {},
   "outputs": [
    {
     "name": "stdout",
     "output_type": "stream",
     "text": [
      "27    51\n",
      "26    50\n",
      "23    48\n",
      "24    44\n",
      "28    43\n",
      "25    41\n",
      "30    40\n",
      "35    40\n",
      "36    39\n",
      "31    38\n",
      "29    37\n",
      "32    34\n",
      "33    33\n",
      "34    32\n",
      "37    29\n",
      "22    27\n",
      "40    25\n",
      "38    24\n",
      "42    22\n",
      "39    21\n",
      "46    18\n",
      "43    17\n",
      "47    17\n",
      "44    17\n",
      "41    17\n",
      "45    15\n",
      "20    14\n",
      "21    14\n",
      "49    14\n",
      "50    12\n",
      "48    12\n",
      "54    10\n",
      "57     9\n",
      "52     9\n",
      "51     8\n",
      "55     8\n",
      "63     8\n",
      "61     7\n",
      "53     7\n",
      "60     6\n",
      "65     5\n",
      "58     5\n",
      "64     5\n",
      "66     5\n",
      "74     4\n",
      "67     3\n",
      "68     3\n",
      "56     3\n",
      "59     3\n",
      "75     2\n",
      "19     2\n",
      "62     2\n",
      "70     1\n",
      "Name: edad, dtype: int64\n"
     ]
    },
    {
     "data": {
      "image/png": "[encoded data removed]",
      "text/plain": [
       "<Figure size 720x432 with 1 Axes>"
      ]
     },
     "metadata": {
      "needs_background": "light"
     },
     "output_type": "display_data"
    }
   ],
   "source": [
    "print(df_banco['edad'].value_counts())\n",
    "plt.figure(figsize=(10, 6))\n",
    "df_banco['edad'].value_counts().plot(kind='bar', color='skyblue')\n",
    "plt.title('Distribución de datos únicos para edad')\n",
    "plt.xlabel('edad')\n",
    "plt.ylabel('Count')\n",
    "plt.grid(False)\n",
    "plt.show()"
   ]
  },
  {
   "cell_type": "markdown",
   "metadata": {},
   "source": [
    " #### ver valores unico de otros_planes_cuotas (object)\n",
    "  indica la existencia de otros planes de cuotas que el cliente puede tener\n",
    "- ninguno 814\n",
    "- banco 139\n",
    "- tiendas 47    "
   ]
  },
  {
   "cell_type": "code",
   "execution_count": 52,
   "metadata": {},
   "outputs": [
    {
     "name": "stdout",
     "output_type": "stream",
     "text": [
      "none      814\n",
      "bank      139\n",
      "stores     47\n",
      "Name: otros_planes_cuotas, dtype: int64\n"
     ]
    },
    {
     "data": {
      "image/png": "[encoded data removed]",
      "text/plain": [
       "<Figure size 720x432 with 1 Axes>"
      ]
     },
     "metadata": {
      "needs_background": "light"
     },
     "output_type": "display_data"
    }
   ],
   "source": [
    "print(df_banco['otros_planes_cuotas'].value_counts())\n",
    "plt.figure(figsize=(10, 6))\n",
    "df_banco['otros_planes_cuotas'].value_counts().plot(kind='bar', color='skyblue')\n",
    "plt.title('Distribución de datos únicos para otros_planes_cuotas')\n",
    "plt.xlabel('otra cuotas que paga')\n",
    "plt.ylabel('Count')\n",
    "plt.grid(False)\n",
    "plt.show()"
   ]
  },
  {
   "cell_type": "markdown",
   "metadata": {},
   "source": [
    " #### ver valores unico de vivienda(object)\n",
    "- propio 713\n",
    "- alquilar 179\n",
    "- gratis 108    \n",
    "    "
   ]
  },
  {
   "cell_type": "code",
   "execution_count": 54,
   "metadata": {},
   "outputs": [
    {
     "name": "stdout",
     "output_type": "stream",
     "text": [
      "own         713\n",
      "rent        179\n",
      "for free    108\n",
      "Name: vivienda, dtype: int64\n"
     ]
    },
    {
     "data": {
      "image/png": "[encoded data removed]",
      "text/plain": [
       "<Figure size 720x432 with 1 Axes>"
      ]
     },
     "metadata": {
      "needs_background": "light"
     },
     "output_type": "display_data"
    }
   ],
   "source": [
    "print(df_banco['vivienda'].value_counts())\n",
    "plt.figure(figsize=(10, 6))\n",
    "df_banco['vivienda'].value_counts().plot(kind='bar', color='skyblue')\n",
    "plt.title('Distribución de datos únicos para vivienda')\n",
    "plt.xlabel('vivienda')\n",
    "plt.ylabel('Count')\n",
    "plt.grid(False)\n",
    "plt.show()"
   ]
  },
  {
   "cell_type": "markdown",
   "metadata": {},
   "source": [
    " #### ver valores unico de creditos_banco_actual\n",
    "- 1    633\n",
    "- 2    333\n",
    "- 3     28\n",
    "- 4      6    \n",
    "la mayoría de los clientes tienen 1 o 2 creditos actuales en el banco"
   ]
  },
  {
   "cell_type": "code",
   "execution_count": 57,
   "metadata": {},
   "outputs": [
    {
     "name": "stdout",
     "output_type": "stream",
     "text": [
      "1    633\n",
      "2    333\n",
      "3     28\n",
      "4      6\n",
      "Name: creditos_banco_actual, dtype: int64\n"
     ]
    },
    {
     "data": {
      "image/png": "[encoded data removed]",
      "text/plain": [
       "<Figure size 720x432 with 1 Axes>"
      ]
     },
     "metadata": {
      "needs_background": "light"
     },
     "output_type": "display_data"
    }
   ],
   "source": [
    "print(df_banco['creditos_banco_actual'].value_counts())\n",
    "plt.figure(figsize=(10, 6))\n",
    "df_banco['creditos_banco_actual'].value_counts().plot(kind='bar', color='skyblue')\n",
    "plt.title('Distribución de datos únicos para creditos_banco_actual')\n",
    "plt.xlabel('creditos actuales en el banco')\n",
    "plt.ylabel('Count')\n",
    "plt.grid(False)\n",
    "plt.show()"
   ]
  },
  {
   "cell_type": "markdown",
   "metadata": {},
   "source": [
    " #### ver valores unico de trabajo (abject)\n",
    "- empleado calificado / oficial 630\n",
    "- no calificado - residente 200\n",
    "- directivo/autónomo/empleado altamente cualificado/oficina 148\n",
    "- desempleados/no cualificados - no residente 22   \n",
    " indican la diferentes categorías de empleo entre los clientes"
   ]
  },
  {
   "cell_type": "code",
   "execution_count": 59,
   "metadata": {},
   "outputs": [
    {
     "name": "stdout",
     "output_type": "stream",
     "text": [
      "skilled employee / official                                      630\n",
      "unskilled - resident                                             200\n",
      "management/ self-employed/ highly qualified employee/ officer    148\n",
      "unemployed/ unskilled - non-resident                              22\n",
      "Name: trabajo, dtype: int64\n"
     ]
    },
    {
     "data": {
      "image/png": "[encoded data removed]",
      "text/plain": [
       "<Figure size 720x432 with 1 Axes>"
      ]
     },
     "metadata": {
      "needs_background": "light"
     },
     "output_type": "display_data"
    }
   ],
   "source": [
    "print(df_banco['trabajo'].value_counts())\n",
    "plt.figure(figsize=(10, 6))\n",
    "df_banco['trabajo'].value_counts().plot(kind='bar', color='skyblue')\n",
    "plt.title('Distribución de datos únicos para trabajo')\n",
    "plt.xlabel('categoria de trabajo')\n",
    "plt.ylabel('Count')\n",
    "plt.grid(False)\n",
    "plt.show()"
   ]
  },
  {
   "cell_type": "markdown",
   "metadata": {},
   "source": [
    "#### ver valores unico de personas_mantenimiento\n",
    "describe la cantidad de personas que el cliente esta obligado a mantener financieramente   \n",
    "- 1    845\n",
    "- 2    155"
   ]
  },
  {
   "cell_type": "code",
   "execution_count": 60,
   "metadata": {},
   "outputs": [
    {
     "name": "stdout",
     "output_type": "stream",
     "text": [
      "1    845\n",
      "2    155\n",
      "Name: personas_mantenimiento, dtype: int64\n"
     ]
    },
    {
     "data": {
      "image/png": "[encoded data removed]",
      "text/plain": [
       "<Figure size 720x432 with 1 Axes>"
      ]
     },
     "metadata": {
      "needs_background": "light"
     },
     "output_type": "display_data"
    }
   ],
   "source": [
    "print(df_banco['personas_mantenimiento'].value_counts())\n",
    "plt.figure(figsize=(10, 6))\n",
    "df_banco['personas_mantenimiento'].value_counts().plot(kind='bar', color='skyblue')\n",
    "plt.title('Distribución de datos únicos para otros personas_mantenimiento')\n",
    "plt.xlabel('personas_mantenimiento')\n",
    "plt.ylabel('Count')\n",
    "plt.grid(False)\n",
    "plt.show()"
   ]
  },
  {
   "cell_type": "markdown",
   "metadata": {},
   "source": [
    " #### ver valores unico de telefono (object)\n",
    "- ninguno 596\n",
    "- sí, registrado a nombre del cliente 404"
   ]
  },
  {
   "cell_type": "code",
   "execution_count": 61,
   "metadata": {},
   "outputs": [
    {
     "name": "stdout",
     "output_type": "stream",
     "text": [
      "none                                         596\n",
      "yes, registered under the customers name     404\n",
      "Name: telefono, dtype: int64\n"
     ]
    },
    {
     "data": {
      "image/png": "[encoded data removed]",
      "text/plain": [
       "<Figure size 720x432 with 1 Axes>"
      ]
     },
     "metadata": {
      "needs_background": "light"
     },
     "output_type": "display_data"
    }
   ],
   "source": [
    "print(df_banco['telefono'].value_counts())\n",
    "plt.figure(figsize=(10, 6))\n",
    "df_banco['telefono'].value_counts().plot(kind='bar', color='skyblue')\n",
    "plt.title('Distribución de datos únicos para otros telefono')\n",
    "plt.xlabel('tiene telefono')\n",
    "plt.ylabel('Count')\n",
    "plt.grid(False)\n",
    "plt.show()"
   ]
  },
  {
   "cell_type": "code",
   "execution_count": null,
   "metadata": {},
   "outputs": [],
   "source": []
  },
  {
   "cell_type": "code",
   "execution_count": null,
   "metadata": {},
   "outputs": [],
   "source": []
  },
  {
   "cell_type": "markdown",
   "metadata": {},
   "source": [
    "### ver valores unico de trabajador_extranjero\n",
    "- Indicación de si el cliente es trabajador extranjer"
   ]
  },
  {
   "cell_type": "code",
   "execution_count": 33,
   "metadata": {},
   "outputs": [
    {
     "data": {
      "text/plain": [
       "array(['yes', 'no'], dtype=object)"
      ]
     },
     "execution_count": 33,
     "metadata": {},
     "output_type": "execute_result"
    }
   ],
   "source": [
    "df_banco.trabajador_extranjero.unique()"
   ]
  },
  {
   "cell_type": "code",
   "execution_count": 63,
   "metadata": {},
   "outputs": [
    {
     "name": "stdout",
     "output_type": "stream",
     "text": [
      "yes    963\n",
      "no      37\n",
      "Name: trabajador_extranjero, dtype: int64\n"
     ]
    },
    {
     "data": {
      "image/png": "[encoded data removed]",
      "text/plain": [
       "<Figure size 720x432 with 1 Axes>"
      ]
     },
     "metadata": {
      "needs_background": "light"
     },
     "output_type": "display_data"
    }
   ],
   "source": [
    "print(df_banco['trabajador_extranjero'].value_counts())\n",
    "plt.figure(figsize=(10, 6))\n",
    "df_banco['trabajador_extranjero'].value_counts().plot(kind='bar', color='skyblue')\n",
    "plt.title('Distribución de datos únicos para trabajador_extranjero')\n",
    "plt.xlabel('es trabajador extranjero?')\n",
    "plt.ylabel('Count')\n",
    "plt.show()\n"
   ]
  },
  {
   "cell_type": "code",
   "execution_count": null,
   "metadata": {},
   "outputs": [],
   "source": []
  },
  {
   "cell_type": "code",
   "execution_count": null,
   "metadata": {},
   "outputs": [],
   "source": []
  },
  {
   "cell_type": "code",
   "execution_count": null,
   "metadata": {},
   "outputs": [],
   "source": []
  },
  {
   "cell_type": "code",
   "execution_count": null,
   "metadata": {},
   "outputs": [],
   "source": []
  }
 ],
 "metadata": {
  "kernelspec": {
   "display_name": "Python 3",
   "language": "python",
   "name": "python3"
  },
  "language_info": {
   "codemirror_mode": {
    "name": "ipython",
    "version": 3
   },
   "file_extension": ".py",
   "mimetype": "text/x-python",
   "name": "python",
   "nbconvert_exporter": "python",
   "pygments_lexer": "ipython3",
   "version": "3.7.6"
  }
 },
 "nbformat": 4,
 "nbformat_minor": 4
}
