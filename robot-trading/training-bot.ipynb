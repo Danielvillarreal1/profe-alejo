{
 "cells": [
  {
   "cell_type": "code",
   "execution_count": null,
   "metadata": {},
   "outputs": [],
   "source": [
    "Descripción\n",
    "\n",
    "Configuración del ambiente\n",
    "Para empezar, puedes utilizar un entorno virtual como Google Colaboratory, o si deseas, puedes usar el editor\n",
    "Python de tu preferencia, sólo asegúrate de tener Python 3.x instalado en tu computadora.\n",
    "\n",
    "En el proyecto usaremos 5 variables que serán manipuladas dentro de varias funciones, estas variables son \n",
    "conocidas como variables globales, es necesario que las definas aquí de la siguiente forma:\n",
    "global \n",
    "df_bitcoin, precio_actual, tendencia, media_bitcoin,  algoritmo_decision\n",
    "\n",
    "También necesitarás instalar algunas librerías de Python que son esenciales para este proyecto, como Pandas, \n",
    "Numpy, Matplotlib, etc.\n",
    "\n",
    "Para estar seguros de que tenemos todo listo en nuestro Ambiente, podemos ejecutar las siguientes líneas de código:\n",
    "\n",
    "!python -V\n",
    "print('------')\n",
    "!pip show Pandas | grep 'Name\\|Version'\n",
    "print('------')\n",
    "!pip show Numpy | grep 'Name\\|Version'\n",
    "print('------')\n",
    "!pip show Matplotlib | grep 'Name\\|Version'\n",
    "El resultado debería ser las bibliotecas y sus versiones que tenemos instaladas en nuestro Ambiente, si tienes\n",
    "algún error revisa tu configuración, talvez falte instalar alguna biblioteca.\n",
    "\n"
   ]
  },
  {
   "cell_type": "markdown",
   "metadata": {},
   "source": [
    "# 1. Configuración del ambiente"
   ]
  },
  {
   "cell_type": "code",
   "execution_count": 9,
   "metadata": {},
   "outputs": [
    {
     "name": "stdout",
     "output_type": "stream",
     "text": [
      "Python 3.7.6\n",
      "------\n",
      "Name: pandas\n",
      "Version: 1.3.5\n",
      "------\n",
      "Name: numpy\n",
      "Version: 1.18.1\n",
      "------\n",
      "Name: matplotlib\n",
      "Version: 3.1.3\n"
     ]
    }
   ],
   "source": [
    "!python -V\n",
    "print('------')\n",
    "!pip show Pandas | grep 'Name\\|Version'\n",
    "print('------')\n",
    "!pip show Numpy | grep 'Name\\|Version'\n",
    "print('------')\n",
    "!pip show Matplotlib | grep 'Name\\|Version'"
   ]
  },
  {
   "cell_type": "code",
   "execution_count": 96,
   "metadata": {},
   "outputs": [],
   "source": [
    "import numpy as np\n"
   ]
  },
  {
   "cell_type": "markdown",
   "metadata": {},
   "source": [
    "## 1.1 definir variables globales"
   ]
  },
  {
   "cell_type": "code",
   "execution_count": 39,
   "metadata": {},
   "outputs": [],
   "source": [
    "# Definir variables globales\n",
    "global df_bitcoin, precio_actual, tendencia, media_bitcoin, algoritmo_decision\n"
   ]
  },
  {
   "cell_type": "markdown",
   "metadata": {},
   "source": [
    "# 2. Obtención de datos"
   ]
  },
  {
   "cell_type": "code",
   "execution_count": null,
   "metadata": {},
   "outputs": [],
   "source": [
    "Descripción\n",
    "\n",
    "Obtención de datos\n",
    "Crea una funcion importar_base_bitcoin(), dentro de ella, define nuevamente las variables globales(ver Paso1) y\n",
    "escribe tu código:\n",
    "\n",
    "Utiliza la biblioteca yfinance de Python para extraer el histórico de precios del Bitcoin en dólares BTC-USD, \n",
    "deberás extraer el histórico de los últimos 7 días en intervalos de 5 minutos, este histórico deberás guardarlo en\n",
    "el dataframe df_bitcoin.\n",
    "\n",
    "Crea una funcion extraer_tendencias(), dentro de ella, define nuevamente las variables globales(ver Paso1) y \n",
    "escribe tu código:\n",
    "\n",
    "Utilizando la biblioteca BeautifulSoup deberás realizar Web Scraping de la página https://coinmarketcap.com/ \n",
    "para extraer el precio actual del Bitcoin BTC en dólares USD y la variación de su precio en la última hora 1h % . \n",
    "El precio deberás convertirlo a float y guardarlo en la variable llamada precio_actual. Ahora, en la variable \n",
    "tendencia guarda el valor de 'baja'si la variación del precio es negativa, sino, guarda el valor de 'alta'.\n",
    "\n",
    "Apoyo\n",
    "Puedes encontrar más información de como instalar y usar la biblioteca yfinance en su página oficial: yfinance.\n",
    "Además de los recursos mencionados en el card ‘Para saber más’ del Trello, puedes encontrar información \n",
    "complementar de Web Scraping en el siguiente enlace: Web Scraping con Python: Cómo Extraer Datos de Sitios Web."
   ]
  },
  {
   "cell_type": "markdown",
   "metadata": {},
   "source": [
    "## 2.1 Precios historico del bitcoin"
   ]
  },
  {
   "cell_type": "code",
   "execution_count": 139,
   "metadata": {},
   "outputs": [
    {
     "name": "stdout",
     "output_type": "stream",
     "text": [
      "[*********************100%%**********************]  1 of 1 completed\n"
     ]
    }
   ],
   "source": [
    "def importar_base_bitcoin():\n",
    "    global df_bitcoin, precio_actual, tendencia, media_bitcoin, algoritmo_decision\n",
    "\n",
    "    symbol = 'BTC-USD'\n",
    "\n",
    "    # fecha de inicio y fin para los últimos 7 días\n",
    "    end_date = datetime.date.today()\n",
    "    start_date = end_date - datetime.timedelta(days=7)\n",
    "\n",
    "    # Descarga el precio histórico del bitcoin en intervalos de 5 minutos\n",
    "    data = yf.download(symbol, start=start_date, end=end_date, interval='5m')\n",
    "\n",
    "    # Pausa durante 5 minutos antes de la próxima actualización\n",
    "    #time.sleep(300)  # 300 segundos = 5 minutos\n",
    "    \n",
    "    df_bitcoin = pd.DataFrame(data)\n",
    "    #print(df_bitcoin)\n",
    "    \n",
    "importar_base_bitcoin()"
   ]
  },
  {
   "cell_type": "code",
   "execution_count": null,
   "metadata": {},
   "outputs": [],
   "source": [
    "#########"
   ]
  },
  {
   "cell_type": "code",
   "execution_count": 62,
   "metadata": {},
   "outputs": [
    {
     "data": {
      "text/html": [
       "<div>\n",
       "<style scoped>\n",
       "    .dataframe tbody tr th:only-of-type {\n",
       "        vertical-align: middle;\n",
       "    }\n",
       "\n",
       "    .dataframe tbody tr th {\n",
       "        vertical-align: top;\n",
       "    }\n",
       "\n",
       "    .dataframe thead th {\n",
       "        text-align: right;\n",
       "    }\n",
       "</style>\n",
       "<table border=\"1\" class=\"dataframe\">\n",
       "  <thead>\n",
       "    <tr style=\"text-align: right;\">\n",
       "      <th></th>\n",
       "      <th>Open</th>\n",
       "      <th>High</th>\n",
       "      <th>Low</th>\n",
       "      <th>Close</th>\n",
       "      <th>Adj Close</th>\n",
       "      <th>Volume</th>\n",
       "    </tr>\n",
       "    <tr>\n",
       "      <th>Datetime</th>\n",
       "      <th></th>\n",
       "      <th></th>\n",
       "      <th></th>\n",
       "      <th></th>\n",
       "      <th></th>\n",
       "      <th></th>\n",
       "    </tr>\n",
       "  </thead>\n",
       "  <tbody>\n",
       "    <tr>\n",
       "      <th>2023-10-06 00:00:00+00:00</th>\n",
       "      <td>27412.123047</td>\n",
       "      <td>27423.445312</td>\n",
       "      <td>27412.123047</td>\n",
       "      <td>27423.054688</td>\n",
       "      <td>27423.054688</td>\n",
       "      <td>0</td>\n",
       "    </tr>\n",
       "    <tr>\n",
       "      <th>2023-10-06 00:05:00+00:00</th>\n",
       "      <td>27423.642578</td>\n",
       "      <td>27423.642578</td>\n",
       "      <td>27418.119141</td>\n",
       "      <td>27418.119141</td>\n",
       "      <td>27418.119141</td>\n",
       "      <td>0</td>\n",
       "    </tr>\n",
       "    <tr>\n",
       "      <th>2023-10-06 00:10:00+00:00</th>\n",
       "      <td>27422.910156</td>\n",
       "      <td>27422.910156</td>\n",
       "      <td>27415.296875</td>\n",
       "      <td>27415.880859</td>\n",
       "      <td>27415.880859</td>\n",
       "      <td>16424960</td>\n",
       "    </tr>\n",
       "    <tr>\n",
       "      <th>2023-10-06 00:15:00+00:00</th>\n",
       "      <td>27416.308594</td>\n",
       "      <td>27416.308594</td>\n",
       "      <td>27405.029297</td>\n",
       "      <td>27405.029297</td>\n",
       "      <td>27405.029297</td>\n",
       "      <td>3702784</td>\n",
       "    </tr>\n",
       "    <tr>\n",
       "      <th>2023-10-06 00:20:00+00:00</th>\n",
       "      <td>27405.863281</td>\n",
       "      <td>27412.542969</td>\n",
       "      <td>27401.708984</td>\n",
       "      <td>27412.542969</td>\n",
       "      <td>27412.542969</td>\n",
       "      <td>0</td>\n",
       "    </tr>\n",
       "    <tr>\n",
       "      <th>...</th>\n",
       "      <td>...</td>\n",
       "      <td>...</td>\n",
       "      <td>...</td>\n",
       "      <td>...</td>\n",
       "      <td>...</td>\n",
       "      <td>...</td>\n",
       "    </tr>\n",
       "    <tr>\n",
       "      <th>2023-10-12 23:35:00+00:00</th>\n",
       "      <td>26755.378906</td>\n",
       "      <td>26759.136719</td>\n",
       "      <td>26755.378906</td>\n",
       "      <td>26755.503906</td>\n",
       "      <td>26755.503906</td>\n",
       "      <td>2469888</td>\n",
       "    </tr>\n",
       "    <tr>\n",
       "      <th>2023-10-12 23:40:00+00:00</th>\n",
       "      <td>26755.205078</td>\n",
       "      <td>26755.205078</td>\n",
       "      <td>26742.878906</td>\n",
       "      <td>26742.878906</td>\n",
       "      <td>26742.878906</td>\n",
       "      <td>0</td>\n",
       "    </tr>\n",
       "    <tr>\n",
       "      <th>2023-10-12 23:45:00+00:00</th>\n",
       "      <td>26744.394531</td>\n",
       "      <td>26748.183594</td>\n",
       "      <td>26744.394531</td>\n",
       "      <td>26745.517578</td>\n",
       "      <td>26745.517578</td>\n",
       "      <td>0</td>\n",
       "    </tr>\n",
       "    <tr>\n",
       "      <th>2023-10-12 23:50:00+00:00</th>\n",
       "      <td>26745.517578</td>\n",
       "      <td>26745.517578</td>\n",
       "      <td>26736.718750</td>\n",
       "      <td>26737.386719</td>\n",
       "      <td>26737.386719</td>\n",
       "      <td>0</td>\n",
       "    </tr>\n",
       "    <tr>\n",
       "      <th>2023-10-12 23:55:00+00:00</th>\n",
       "      <td>26740.623047</td>\n",
       "      <td>26755.199219</td>\n",
       "      <td>26740.623047</td>\n",
       "      <td>26755.199219</td>\n",
       "      <td>26755.199219</td>\n",
       "      <td>0</td>\n",
       "    </tr>\n",
       "  </tbody>\n",
       "</table>\n",
       "<p>2016 rows × 6 columns</p>\n",
       "</div>"
      ],
      "text/plain": [
       "                                   Open          High           Low  \\\n",
       "Datetime                                                              \n",
       "2023-10-06 00:00:00+00:00  27412.123047  27423.445312  27412.123047   \n",
       "2023-10-06 00:05:00+00:00  27423.642578  27423.642578  27418.119141   \n",
       "2023-10-06 00:10:00+00:00  27422.910156  27422.910156  27415.296875   \n",
       "2023-10-06 00:15:00+00:00  27416.308594  27416.308594  27405.029297   \n",
       "2023-10-06 00:20:00+00:00  27405.863281  27412.542969  27401.708984   \n",
       "...                                 ...           ...           ...   \n",
       "2023-10-12 23:35:00+00:00  26755.378906  26759.136719  26755.378906   \n",
       "2023-10-12 23:40:00+00:00  26755.205078  26755.205078  26742.878906   \n",
       "2023-10-12 23:45:00+00:00  26744.394531  26748.183594  26744.394531   \n",
       "2023-10-12 23:50:00+00:00  26745.517578  26745.517578  26736.718750   \n",
       "2023-10-12 23:55:00+00:00  26740.623047  26755.199219  26740.623047   \n",
       "\n",
       "                                  Close     Adj Close    Volume  \n",
       "Datetime                                                         \n",
       "2023-10-06 00:00:00+00:00  27423.054688  27423.054688         0  \n",
       "2023-10-06 00:05:00+00:00  27418.119141  27418.119141         0  \n",
       "2023-10-06 00:10:00+00:00  27415.880859  27415.880859  16424960  \n",
       "2023-10-06 00:15:00+00:00  27405.029297  27405.029297   3702784  \n",
       "2023-10-06 00:20:00+00:00  27412.542969  27412.542969         0  \n",
       "...                                 ...           ...       ...  \n",
       "2023-10-12 23:35:00+00:00  26755.503906  26755.503906   2469888  \n",
       "2023-10-12 23:40:00+00:00  26742.878906  26742.878906         0  \n",
       "2023-10-12 23:45:00+00:00  26745.517578  26745.517578         0  \n",
       "2023-10-12 23:50:00+00:00  26737.386719  26737.386719         0  \n",
       "2023-10-12 23:55:00+00:00  26755.199219  26755.199219         0  \n",
       "\n",
       "[2016 rows x 6 columns]"
      ]
     },
     "execution_count": 62,
     "metadata": {},
     "output_type": "execute_result"
    }
   ],
   "source": [
    "df_bitcoin"
   ]
  },
  {
   "cell_type": "code",
   "execution_count": null,
   "metadata": {},
   "outputs": [],
   "source": []
  },
  {
   "cell_type": "code",
   "execution_count": null,
   "metadata": {},
   "outputs": [],
   "source": []
  },
  {
   "cell_type": "markdown",
   "metadata": {},
   "source": [
    "## 2.2 Scraping Precio bitcoin de coinmarketcap"
   ]
  },
  {
   "cell_type": "code",
   "execution_count": 149,
   "metadata": {},
   "outputs": [
    {
     "name": "stdout",
     "output_type": "stream",
     "text": [
      "Nombre: Bitcoin\n",
      "Precio_actual: 28381.29\n",
      "Tendencia: alta\n"
     ]
    }
   ],
   "source": [
    "def extraer_tendencias():\n",
    "    global df_bitcoin, precio_actual, tendencia, media_bitcoin, algoritmo_decision\n",
    "    \n",
    "    from bs4 import BeautifulSoup\n",
    "    import requests\n",
    "\n",
    "    ua = {\"User-Agent\": \"Mozilla/5.0 (Windows NT 10.0; Win64; x64) AppleWebKit/537.36 (KHTML, like Gecko) Chrome/92.0.4515.107 Safari/537.36 Edg/92.0.902.62 (compatible; Linux; Ubuntu; MacOS; Windows)\"}\n",
    "    website = 'https://coinmarketcap.com/'\n",
    "    # Get Request\n",
    "    response = requests.get(website)\n",
    "  \n",
    "    # Soup Object\n",
    "    soup = BeautifulSoup(response.content, 'html.parser')\n",
    "\n",
    "    # Extraer el nombre de Bitcoin\n",
    "    nombre = soup.find('p', class_='sc-4984dd93-0 kKpPOn').text\n",
    "\n",
    "    # Extraer el precio de Bitcoin\n",
    "    precio_actual = soup.find('div', class_='sc-a0353bbc-0 gDrtaY').text\n",
    "    # Eliminar el signo de dólar, la coma y convertir a float\n",
    "    precio_actual = float(precio_actual.replace('$', '').replace(',', ''))\n",
    "\n",
    "    # Extraer variación\n",
    "    variación = soup.find('span', class_='sc-d55c02b-0 iwhBxy').text\n",
    "\n",
    "    # Determinar la tendencia (baja o alta) en función del porcentaje de variación, elimina (%)\n",
    "    porcentaje = float(variación.strip('%'))\n",
    "    if porcentaje < 0:\n",
    "        tendencia = 'baja'\n",
    "    else:\n",
    "        tendencia = 'alta'\n",
    "\n",
    "    # Imprimir el nombre, el precio y la tendencia\n",
    "    print(f\"Nombre: {nombre}\")\n",
    "    print(f\"Precio_actual: {precio_actual}\")\n",
    "    print(f\"Tendencia: {tendencia}\")\n",
    "\n",
    "extraer_tendencias()\n"
   ]
  },
  {
   "cell_type": "code",
   "execution_count": null,
   "metadata": {},
   "outputs": [],
   "source": []
  },
  {
   "cell_type": "code",
   "execution_count": 150,
   "metadata": {},
   "outputs": [
    {
     "name": "stdout",
     "output_type": "stream",
     "text": [
      "Nombre: Bitcoin\n",
      "Precio_actual: 28381.29\n",
      "Variación: 4.55%\n",
      "Tendencia2: 0.35%\n"
     ]
    }
   ],
   "source": [
    "from bs4 import BeautifulSoup\n",
    "import requests\n",
    "\n",
    "#ua = {\"User-Agent\":\"Mozilla/5.0 (Windows NT 10.0; Win64; x64) AppleWebKit/537.36 (KHTML, like Gecko) Chrome/92.0.4515.107 Safari/537.36 Edg/92.0.902.62\"}\n",
    "\n",
    "ua = {\"User-Agent\": \"Mozilla/5.0 (Windows NT 10.0; Win64; x64) AppleWebKit/537.36 (KHTML, like Gecko) Chrome/92.0.4515.107 Safari/537.36 Edg/92.0.902.62 (compatible; Linux; Ubuntu; MacOS; Windows)\"}\n",
    "website = 'https://coinmarketcap.com/'\n",
    "#Get Reques\n",
    "response = requests.get(website)\n",
    "#Status Code\n",
    "response.status_code\n",
    "#Soup Object\n",
    "soup = BeautifulSoup(response.content, 'html.parser')\n",
    "\n",
    "# Extraer el nombre de Bitcoin\n",
    "nombre = soup.find('p', class_='sc-4984dd93-0 kKpPOn').text\n",
    "\n",
    "# Extraer el precio de Bitcoin\n",
    "precio_actual = soup.find('div', class_='sc-a0353bbc-0 gDrtaY').text\n",
    "# Eliminar el signo de dólar y la coma y convertir a punto flotante\n",
    "precio_actual = float(precio_actual.replace('$', '').replace(',', ''))\n",
    "\n",
    "\n",
    "variación = soup.find('span', class_='sc-d55c02b-0 iwhBxy').text\n",
    "#tendencia = soup.find('span', class_='icon-Caret-up').text\n",
    "\n",
    "tendencia2 = soup.find('span', class_='sc-d55c02b-0 gUnzUB').text\n",
    "\n",
    "# Imprimir el nombre y el precio\n",
    "print(f\"Nombre: {nombre}\")\n",
    "print(f\"Precio_actual: {precio_actual}\")\n",
    "print(f\"Variación: {variación}\")\n",
    "print(f\"Tendencia2: {tendencia2}\")"
   ]
  },
  {
   "cell_type": "code",
   "execution_count": 64,
   "metadata": {},
   "outputs": [
    {
     "data": {
      "text/plain": [
       "float"
      ]
     },
     "execution_count": 64,
     "metadata": {},
     "output_type": "execute_result"
    }
   ],
   "source": [
    "type(precio_actual)"
   ]
  },
  {
   "cell_type": "code",
   "execution_count": null,
   "metadata": {},
   "outputs": [],
   "source": []
  },
  {
   "cell_type": "code",
   "execution_count": null,
   "metadata": {},
   "outputs": [],
   "source": []
  },
  {
   "cell_type": "markdown",
   "metadata": {},
   "source": [
    "# 3. Limpieza de datos"
   ]
  },
  {
   "cell_type": "code",
   "execution_count": null,
   "metadata": {},
   "outputs": [],
   "source": [
    "Descripción\n",
    "\n",
    "Limpieza de datos\n",
    "Crea una funcion limpieza_datos(), dentro de ella, define nuevamente las variables globales(ver Paso1) y escribe \n",
    "tu código:\n",
    "\n",
    "Antes de limpiar la base, crea una copia de la base df_bitcoin para que realices la limpieza en esta nueva \n",
    "base(df_bitcoin_limpio), sin modificar la base original, además es importante entender su contenido:\n",
    "\n",
    "Datetime: Es el índice del dataframe, y contiene la fecha y hora del intervalo seleccionado, no puede estar duplicado.\n",
    "\n",
    "Open: Contiene el precio del Bitcoin al inicio del intervalo.\n",
    "\n",
    "High: Contiene el precio más alto del Bitcoin durante el intervalo.\n",
    "\n",
    "Low: Contiene el precio más bajo del Bitcoin durante el intervalo.\n",
    "\n",
    "Close: Contiene el precio del Bitcoin al final del intervalo.\n",
    "\n",
    "Volume: Contiene el total de transacciones hechas durante el intervalo.\n",
    "\n",
    "Para la limpieza utilizaremos los atributos Datetime, Close y Volume.\n",
    "\n",
    "Analiza la base df_bitcoin_limpio, identifica duplicados en el índice y trátalos para quedarte con sólo índices únicos.\n",
    "Luego busca por valores nulos en la columna Close y trátalos.\n",
    "\n",
    "Verifica que todos los registros de la base tengan un Volume de transacción mayor a 0, caso contrário, elimínalos.\n",
    "\n",
    "Deberás identificar y eliminar los outliers en el precio del Bitcoin, columna Close, utiliza un gráfico de \n",
    "boxplot para identificarlos.\n",
    "\n",
    "Filtra o selecciona únicamente los registros cuyo precio(Close) se encuentren entre el 1er cuartil(Q1) y el 3er \n",
    "cuartil(Q3) del boxplot.\n",
    "\n",
    "Finalmente, calcula el precio promedio(Close) de esta selección y guárdala en la variable media_bitcoin."
   ]
  },
  {
   "cell_type": "code",
   "execution_count": null,
   "metadata": {},
   "outputs": [],
   "source": []
  },
  {
   "cell_type": "code",
   "execution_count": 141,
   "metadata": {},
   "outputs": [
    {
     "name": "stdout",
     "output_type": "stream",
     "text": [
      "[False False False ... False False False]\n",
      "Valores nulos en Close: 0\n"
     ]
    },
    {
     "data": {
      "image/png": "[encoded data removed]",
      "text/plain": [
       "<Figure size 576x432 with 1 Axes>"
      ]
     },
     "metadata": {
      "needs_background": "light"
     },
     "output_type": "display_data"
    },
    {
     "name": "stdout",
     "output_type": "stream",
     "text": [
      "cuatil 1 : 26832.0546875\n",
      "cuatil 3 : 27855.5751953125\n"
     ]
    },
    {
     "data": {
      "image/png": "[encoded data removed]",
      "text/plain": [
       "<Figure size 576x432 with 1 Axes>"
      ]
     },
     "metadata": {
      "needs_background": "light"
     },
     "output_type": "display_data"
    },
    {
     "name": "stdout",
     "output_type": "stream",
     "text": [
      "Precio promedio:  27374.490735078278\n"
     ]
    }
   ],
   "source": [
    "def limpieza_datos():\n",
    "    global df_bitcoin, precio_actual, tendencia, media_bitcoin, algoritmo_decision\n",
    "    import numpy as np\n",
    "\n",
    "    df_bitcoin_limpio = df_bitcoin.copy()\n",
    "\n",
    "    # Identificar valores duplicados en el índice\n",
    "    valores_duplicados_en_indice = df_bitcoin_limpio.index.duplicated()\n",
    "    print(valores_duplicados_en_indice)\n",
    "\n",
    "    # Eliminar los valores duplicados en el índice\n",
    "    df_bitcoin_limpio = df_bitcoin_limpio[~df_bitcoin_limpio.index.duplicated(keep='first')]\n",
    "    #df_bitcoin_limpio = df_bitcoin_limpio.drop_duplicates(keep='first')\n",
    "\n",
    "    # verificar y ver los valores nulos en la columna \n",
    "    df_bitcoin_nulos = df_bitcoin_limpio['Close'].isnull().sum()\n",
    "    print(\"Valores nulos en Close:\", df_bitcoin_nulos)\n",
    "    # Elimina valores nulos en la columna Close\n",
    "    df_bitcoin_limpio = df_bitcoin_limpio.dropna(subset=['Close'])\n",
    "\n",
    "\n",
    "    # Filtra los registros con Volumen mayor a 0\n",
    "    df_bitcoin_limpio = df_bitcoin_limpio[df_bitcoin_limpio['Volume'] > 0]\n",
    "\n",
    "    # crea un grafico de caja de la columna close\n",
    "    import matplotlib.pyplot as plt\n",
    "    plt.figure(figsize=(8, 6))\n",
    "    plt.boxplot(df_bitcoin_limpio['Close'], vert=True)\n",
    "    plt.ylabel('Precio de Cierre (Close)')\n",
    "    plt.title('Boxplot del Precio de Cierre de Bitcoin')\n",
    "    plt.show()\n",
    "\n",
    "    # Calcula los cuartiles Q1 y Q3 \n",
    "    Q1 = df_bitcoin_limpio['Close'].quantile(0.25)\n",
    "    Q3 = df_bitcoin_limpio['Close'].quantile(0.75)\n",
    "    print(\"cuatil 1 :\", Q1)\n",
    "    print(\"cuatil 3 :\", Q3)\n",
    "    # Filtra para tener un precio de cierre entre Q1 y Q3\n",
    "    df_bitcoin_limpio = df_bitcoin_limpio[(df_bitcoin_limpio['Close'] >= Q1) & (df_bitcoin_limpio['Close'] <= Q3)]\n",
    "    # grafico el df con los valores entre q1 y q3\n",
    "    plt.figure(figsize=(8, 6))\n",
    "    plt.boxplot(df_bitcoin_limpio['Close'], vert=True)\n",
    "    plt.ylabel('Precio de Cierre (Close)')\n",
    "    plt.title('Boxplot del Precio de Cierre de Bitcoin entre Q1 y Q3')\n",
    "    plt.show()\n",
    "\n",
    "    # Calcula el precio promedio de la columna close\n",
    "    media_bitcoin = df_bitcoin_limpio['Close'].mean()\n",
    "    print(\"Precio promedio: \", media_bitcoin)\n",
    "limpieza_datos()    "
   ]
  },
  {
   "cell_type": "code",
   "execution_count": 93,
   "metadata": {},
   "outputs": [
    {
     "data": {
      "text/html": [
       "<div>\n",
       "<style scoped>\n",
       "    .dataframe tbody tr th:only-of-type {\n",
       "        vertical-align: middle;\n",
       "    }\n",
       "\n",
       "    .dataframe tbody tr th {\n",
       "        vertical-align: top;\n",
       "    }\n",
       "\n",
       "    .dataframe thead th {\n",
       "        text-align: right;\n",
       "    }\n",
       "</style>\n",
       "<table border=\"1\" class=\"dataframe\">\n",
       "  <thead>\n",
       "    <tr style=\"text-align: right;\">\n",
       "      <th></th>\n",
       "      <th>Open</th>\n",
       "      <th>High</th>\n",
       "      <th>Low</th>\n",
       "      <th>Close</th>\n",
       "      <th>Adj Close</th>\n",
       "      <th>Volume</th>\n",
       "    </tr>\n",
       "    <tr>\n",
       "      <th>Datetime</th>\n",
       "      <th></th>\n",
       "      <th></th>\n",
       "      <th></th>\n",
       "      <th></th>\n",
       "      <th></th>\n",
       "      <th></th>\n",
       "    </tr>\n",
       "  </thead>\n",
       "  <tbody>\n",
       "    <tr>\n",
       "      <th>2023-10-06 00:00:00+00:00</th>\n",
       "      <td>27412.123047</td>\n",
       "      <td>27423.445312</td>\n",
       "      <td>27412.123047</td>\n",
       "      <td>27423.054688</td>\n",
       "      <td>27423.054688</td>\n",
       "      <td>0</td>\n",
       "    </tr>\n",
       "    <tr>\n",
       "      <th>2023-10-06 00:05:00+00:00</th>\n",
       "      <td>27423.642578</td>\n",
       "      <td>27423.642578</td>\n",
       "      <td>27418.119141</td>\n",
       "      <td>27418.119141</td>\n",
       "      <td>27418.119141</td>\n",
       "      <td>0</td>\n",
       "    </tr>\n",
       "    <tr>\n",
       "      <th>2023-10-06 00:10:00+00:00</th>\n",
       "      <td>27422.910156</td>\n",
       "      <td>27422.910156</td>\n",
       "      <td>27415.296875</td>\n",
       "      <td>27415.880859</td>\n",
       "      <td>27415.880859</td>\n",
       "      <td>16424960</td>\n",
       "    </tr>\n",
       "    <tr>\n",
       "      <th>2023-10-06 00:15:00+00:00</th>\n",
       "      <td>27416.308594</td>\n",
       "      <td>27416.308594</td>\n",
       "      <td>27405.029297</td>\n",
       "      <td>27405.029297</td>\n",
       "      <td>27405.029297</td>\n",
       "      <td>3702784</td>\n",
       "    </tr>\n",
       "    <tr>\n",
       "      <th>2023-10-06 00:20:00+00:00</th>\n",
       "      <td>27405.863281</td>\n",
       "      <td>27412.542969</td>\n",
       "      <td>27401.708984</td>\n",
       "      <td>27412.542969</td>\n",
       "      <td>27412.542969</td>\n",
       "      <td>0</td>\n",
       "    </tr>\n",
       "    <tr>\n",
       "      <th>...</th>\n",
       "      <td>...</td>\n",
       "      <td>...</td>\n",
       "      <td>...</td>\n",
       "      <td>...</td>\n",
       "      <td>...</td>\n",
       "      <td>...</td>\n",
       "    </tr>\n",
       "    <tr>\n",
       "      <th>2023-10-12 23:35:00+00:00</th>\n",
       "      <td>26755.378906</td>\n",
       "      <td>26759.136719</td>\n",
       "      <td>26755.378906</td>\n",
       "      <td>26755.503906</td>\n",
       "      <td>26755.503906</td>\n",
       "      <td>2469888</td>\n",
       "    </tr>\n",
       "    <tr>\n",
       "      <th>2023-10-12 23:40:00+00:00</th>\n",
       "      <td>26755.205078</td>\n",
       "      <td>26755.205078</td>\n",
       "      <td>26742.878906</td>\n",
       "      <td>26742.878906</td>\n",
       "      <td>26742.878906</td>\n",
       "      <td>0</td>\n",
       "    </tr>\n",
       "    <tr>\n",
       "      <th>2023-10-12 23:45:00+00:00</th>\n",
       "      <td>26744.394531</td>\n",
       "      <td>26748.183594</td>\n",
       "      <td>26744.394531</td>\n",
       "      <td>26745.517578</td>\n",
       "      <td>26745.517578</td>\n",
       "      <td>0</td>\n",
       "    </tr>\n",
       "    <tr>\n",
       "      <th>2023-10-12 23:50:00+00:00</th>\n",
       "      <td>26745.517578</td>\n",
       "      <td>26745.517578</td>\n",
       "      <td>26736.718750</td>\n",
       "      <td>26737.386719</td>\n",
       "      <td>26737.386719</td>\n",
       "      <td>0</td>\n",
       "    </tr>\n",
       "    <tr>\n",
       "      <th>2023-10-12 23:55:00+00:00</th>\n",
       "      <td>26740.623047</td>\n",
       "      <td>26755.199219</td>\n",
       "      <td>26740.623047</td>\n",
       "      <td>26755.199219</td>\n",
       "      <td>26755.199219</td>\n",
       "      <td>0</td>\n",
       "    </tr>\n",
       "  </tbody>\n",
       "</table>\n",
       "<p>2016 rows × 6 columns</p>\n",
       "</div>"
      ],
      "text/plain": [
       "                                   Open          High           Low  \\\n",
       "Datetime                                                              \n",
       "2023-10-06 00:00:00+00:00  27412.123047  27423.445312  27412.123047   \n",
       "2023-10-06 00:05:00+00:00  27423.642578  27423.642578  27418.119141   \n",
       "2023-10-06 00:10:00+00:00  27422.910156  27422.910156  27415.296875   \n",
       "2023-10-06 00:15:00+00:00  27416.308594  27416.308594  27405.029297   \n",
       "2023-10-06 00:20:00+00:00  27405.863281  27412.542969  27401.708984   \n",
       "...                                 ...           ...           ...   \n",
       "2023-10-12 23:35:00+00:00  26755.378906  26759.136719  26755.378906   \n",
       "2023-10-12 23:40:00+00:00  26755.205078  26755.205078  26742.878906   \n",
       "2023-10-12 23:45:00+00:00  26744.394531  26748.183594  26744.394531   \n",
       "2023-10-12 23:50:00+00:00  26745.517578  26745.517578  26736.718750   \n",
       "2023-10-12 23:55:00+00:00  26740.623047  26755.199219  26740.623047   \n",
       "\n",
       "                                  Close     Adj Close    Volume  \n",
       "Datetime                                                         \n",
       "2023-10-06 00:00:00+00:00  27423.054688  27423.054688         0  \n",
       "2023-10-06 00:05:00+00:00  27418.119141  27418.119141         0  \n",
       "2023-10-06 00:10:00+00:00  27415.880859  27415.880859  16424960  \n",
       "2023-10-06 00:15:00+00:00  27405.029297  27405.029297   3702784  \n",
       "2023-10-06 00:20:00+00:00  27412.542969  27412.542969         0  \n",
       "...                                 ...           ...       ...  \n",
       "2023-10-12 23:35:00+00:00  26755.503906  26755.503906   2469888  \n",
       "2023-10-12 23:40:00+00:00  26742.878906  26742.878906         0  \n",
       "2023-10-12 23:45:00+00:00  26745.517578  26745.517578         0  \n",
       "2023-10-12 23:50:00+00:00  26737.386719  26737.386719         0  \n",
       "2023-10-12 23:55:00+00:00  26755.199219  26755.199219         0  \n",
       "\n",
       "[2016 rows x 6 columns]"
      ]
     },
     "execution_count": 93,
     "metadata": {},
     "output_type": "execute_result"
    }
   ],
   "source": [
    "antes de eliminar volumen mayo a 0\n",
    "# df_bitcoin_limpio"
   ]
  },
  {
   "cell_type": "code",
   "execution_count": 99,
   "metadata": {
    "scrolled": true
   },
   "outputs": [
    {
     "data": {
      "text/html": [
       "<div>\n",
       "<style scoped>\n",
       "    .dataframe tbody tr th:only-of-type {\n",
       "        vertical-align: middle;\n",
       "    }\n",
       "\n",
       "    .dataframe tbody tr th {\n",
       "        vertical-align: top;\n",
       "    }\n",
       "\n",
       "    .dataframe thead th {\n",
       "        text-align: right;\n",
       "    }\n",
       "</style>\n",
       "<table border=\"1\" class=\"dataframe\">\n",
       "  <thead>\n",
       "    <tr style=\"text-align: right;\">\n",
       "      <th></th>\n",
       "      <th>Open</th>\n",
       "      <th>High</th>\n",
       "      <th>Low</th>\n",
       "      <th>Close</th>\n",
       "      <th>Adj Close</th>\n",
       "      <th>Volume</th>\n",
       "    </tr>\n",
       "    <tr>\n",
       "      <th>Datetime</th>\n",
       "      <th></th>\n",
       "      <th></th>\n",
       "      <th></th>\n",
       "      <th></th>\n",
       "      <th></th>\n",
       "      <th></th>\n",
       "    </tr>\n",
       "  </thead>\n",
       "  <tbody>\n",
       "    <tr>\n",
       "      <th>2023-10-06 00:10:00+00:00</th>\n",
       "      <td>27422.910156</td>\n",
       "      <td>27422.910156</td>\n",
       "      <td>27415.296875</td>\n",
       "      <td>27415.880859</td>\n",
       "      <td>27415.880859</td>\n",
       "      <td>16424960</td>\n",
       "    </tr>\n",
       "    <tr>\n",
       "      <th>2023-10-06 00:15:00+00:00</th>\n",
       "      <td>27416.308594</td>\n",
       "      <td>27416.308594</td>\n",
       "      <td>27405.029297</td>\n",
       "      <td>27405.029297</td>\n",
       "      <td>27405.029297</td>\n",
       "      <td>3702784</td>\n",
       "    </tr>\n",
       "    <tr>\n",
       "      <th>2023-10-06 00:25:00+00:00</th>\n",
       "      <td>27433.865234</td>\n",
       "      <td>27448.648438</td>\n",
       "      <td>27433.865234</td>\n",
       "      <td>27448.648438</td>\n",
       "      <td>27448.648438</td>\n",
       "      <td>9263104</td>\n",
       "    </tr>\n",
       "    <tr>\n",
       "      <th>2023-10-06 00:30:00+00:00</th>\n",
       "      <td>27448.648438</td>\n",
       "      <td>27454.777344</td>\n",
       "      <td>27448.648438</td>\n",
       "      <td>27453.962891</td>\n",
       "      <td>27453.962891</td>\n",
       "      <td>11491328</td>\n",
       "    </tr>\n",
       "    <tr>\n",
       "      <th>2023-10-06 01:10:00+00:00</th>\n",
       "      <td>27490.042969</td>\n",
       "      <td>27496.724609</td>\n",
       "      <td>27488.646484</td>\n",
       "      <td>27496.724609</td>\n",
       "      <td>27496.724609</td>\n",
       "      <td>8071168</td>\n",
       "    </tr>\n",
       "    <tr>\n",
       "      <th>...</th>\n",
       "      <td>...</td>\n",
       "      <td>...</td>\n",
       "      <td>...</td>\n",
       "      <td>...</td>\n",
       "      <td>...</td>\n",
       "      <td>...</td>\n",
       "    </tr>\n",
       "    <tr>\n",
       "      <th>2023-10-12 22:20:00+00:00</th>\n",
       "      <td>26736.339844</td>\n",
       "      <td>26736.339844</td>\n",
       "      <td>26729.187500</td>\n",
       "      <td>26732.203125</td>\n",
       "      <td>26732.203125</td>\n",
       "      <td>4874240</td>\n",
       "    </tr>\n",
       "    <tr>\n",
       "      <th>2023-10-12 22:50:00+00:00</th>\n",
       "      <td>26732.199219</td>\n",
       "      <td>26744.281250</td>\n",
       "      <td>26732.199219</td>\n",
       "      <td>26744.281250</td>\n",
       "      <td>26744.281250</td>\n",
       "      <td>6474752</td>\n",
       "    </tr>\n",
       "    <tr>\n",
       "      <th>2023-10-12 22:55:00+00:00</th>\n",
       "      <td>26747.220703</td>\n",
       "      <td>26747.220703</td>\n",
       "      <td>26742.388672</td>\n",
       "      <td>26745.003906</td>\n",
       "      <td>26745.003906</td>\n",
       "      <td>2764800</td>\n",
       "    </tr>\n",
       "    <tr>\n",
       "      <th>2023-10-12 23:15:00+00:00</th>\n",
       "      <td>26714.328125</td>\n",
       "      <td>26718.697266</td>\n",
       "      <td>26714.328125</td>\n",
       "      <td>26718.697266</td>\n",
       "      <td>26718.697266</td>\n",
       "      <td>444416</td>\n",
       "    </tr>\n",
       "    <tr>\n",
       "      <th>2023-10-12 23:35:00+00:00</th>\n",
       "      <td>26755.378906</td>\n",
       "      <td>26759.136719</td>\n",
       "      <td>26755.378906</td>\n",
       "      <td>26755.503906</td>\n",
       "      <td>26755.503906</td>\n",
       "      <td>2469888</td>\n",
       "    </tr>\n",
       "  </tbody>\n",
       "</table>\n",
       "<p>1039 rows × 6 columns</p>\n",
       "</div>"
      ],
      "text/plain": [
       "                                   Open          High           Low  \\\n",
       "Datetime                                                              \n",
       "2023-10-06 00:10:00+00:00  27422.910156  27422.910156  27415.296875   \n",
       "2023-10-06 00:15:00+00:00  27416.308594  27416.308594  27405.029297   \n",
       "2023-10-06 00:25:00+00:00  27433.865234  27448.648438  27433.865234   \n",
       "2023-10-06 00:30:00+00:00  27448.648438  27454.777344  27448.648438   \n",
       "2023-10-06 01:10:00+00:00  27490.042969  27496.724609  27488.646484   \n",
       "...                                 ...           ...           ...   \n",
       "2023-10-12 22:20:00+00:00  26736.339844  26736.339844  26729.187500   \n",
       "2023-10-12 22:50:00+00:00  26732.199219  26744.281250  26732.199219   \n",
       "2023-10-12 22:55:00+00:00  26747.220703  26747.220703  26742.388672   \n",
       "2023-10-12 23:15:00+00:00  26714.328125  26718.697266  26714.328125   \n",
       "2023-10-12 23:35:00+00:00  26755.378906  26759.136719  26755.378906   \n",
       "\n",
       "                                  Close     Adj Close    Volume  \n",
       "Datetime                                                         \n",
       "2023-10-06 00:10:00+00:00  27415.880859  27415.880859  16424960  \n",
       "2023-10-06 00:15:00+00:00  27405.029297  27405.029297   3702784  \n",
       "2023-10-06 00:25:00+00:00  27448.648438  27448.648438   9263104  \n",
       "2023-10-06 00:30:00+00:00  27453.962891  27453.962891  11491328  \n",
       "2023-10-06 01:10:00+00:00  27496.724609  27496.724609   8071168  \n",
       "...                                 ...           ...       ...  \n",
       "2023-10-12 22:20:00+00:00  26732.203125  26732.203125   4874240  \n",
       "2023-10-12 22:50:00+00:00  26744.281250  26744.281250   6474752  \n",
       "2023-10-12 22:55:00+00:00  26745.003906  26745.003906   2764800  \n",
       "2023-10-12 23:15:00+00:00  26718.697266  26718.697266    444416  \n",
       "2023-10-12 23:35:00+00:00  26755.503906  26755.503906   2469888  \n",
       "\n",
       "[1039 rows x 6 columns]"
      ]
     },
     "execution_count": 99,
     "metadata": {},
     "output_type": "execute_result"
    }
   ],
   "source": [
    "# despues de eliminar volumen mayor a 0\n",
    "df_bitcoin_limpio "
   ]
  },
  {
   "cell_type": "code",
   "execution_count": 109,
   "metadata": {},
   "outputs": [
    {
     "data": {
      "text/html": [
       "<div>\n",
       "<style scoped>\n",
       "    .dataframe tbody tr th:only-of-type {\n",
       "        vertical-align: middle;\n",
       "    }\n",
       "\n",
       "    .dataframe tbody tr th {\n",
       "        vertical-align: top;\n",
       "    }\n",
       "\n",
       "    .dataframe thead th {\n",
       "        text-align: right;\n",
       "    }\n",
       "</style>\n",
       "<table border=\"1\" class=\"dataframe\">\n",
       "  <thead>\n",
       "    <tr style=\"text-align: right;\">\n",
       "      <th></th>\n",
       "      <th>Open</th>\n",
       "      <th>High</th>\n",
       "      <th>Low</th>\n",
       "      <th>Close</th>\n",
       "      <th>Adj Close</th>\n",
       "      <th>Volume</th>\n",
       "    </tr>\n",
       "    <tr>\n",
       "      <th>Datetime</th>\n",
       "      <th></th>\n",
       "      <th></th>\n",
       "      <th></th>\n",
       "      <th></th>\n",
       "      <th></th>\n",
       "      <th></th>\n",
       "    </tr>\n",
       "  </thead>\n",
       "  <tbody>\n",
       "    <tr>\n",
       "      <th>2023-10-06 00:10:00+00:00</th>\n",
       "      <td>27422.910156</td>\n",
       "      <td>27422.910156</td>\n",
       "      <td>27415.296875</td>\n",
       "      <td>27415.880859</td>\n",
       "      <td>27415.880859</td>\n",
       "      <td>16424960</td>\n",
       "    </tr>\n",
       "    <tr>\n",
       "      <th>2023-10-06 00:15:00+00:00</th>\n",
       "      <td>27416.308594</td>\n",
       "      <td>27416.308594</td>\n",
       "      <td>27405.029297</td>\n",
       "      <td>27405.029297</td>\n",
       "      <td>27405.029297</td>\n",
       "      <td>3702784</td>\n",
       "    </tr>\n",
       "    <tr>\n",
       "      <th>2023-10-06 00:25:00+00:00</th>\n",
       "      <td>27433.865234</td>\n",
       "      <td>27448.648438</td>\n",
       "      <td>27433.865234</td>\n",
       "      <td>27448.648438</td>\n",
       "      <td>27448.648438</td>\n",
       "      <td>9263104</td>\n",
       "    </tr>\n",
       "    <tr>\n",
       "      <th>2023-10-06 00:30:00+00:00</th>\n",
       "      <td>27448.648438</td>\n",
       "      <td>27454.777344</td>\n",
       "      <td>27448.648438</td>\n",
       "      <td>27453.962891</td>\n",
       "      <td>27453.962891</td>\n",
       "      <td>11491328</td>\n",
       "    </tr>\n",
       "    <tr>\n",
       "      <th>2023-10-06 01:10:00+00:00</th>\n",
       "      <td>27490.042969</td>\n",
       "      <td>27496.724609</td>\n",
       "      <td>27488.646484</td>\n",
       "      <td>27496.724609</td>\n",
       "      <td>27496.724609</td>\n",
       "      <td>8071168</td>\n",
       "    </tr>\n",
       "    <tr>\n",
       "      <th>...</th>\n",
       "      <td>...</td>\n",
       "      <td>...</td>\n",
       "      <td>...</td>\n",
       "      <td>...</td>\n",
       "      <td>...</td>\n",
       "      <td>...</td>\n",
       "    </tr>\n",
       "    <tr>\n",
       "      <th>2023-10-11 11:40:00+00:00</th>\n",
       "      <td>27222.488281</td>\n",
       "      <td>27223.388672</td>\n",
       "      <td>27212.701172</td>\n",
       "      <td>27223.388672</td>\n",
       "      <td>27223.388672</td>\n",
       "      <td>4585472</td>\n",
       "    </tr>\n",
       "    <tr>\n",
       "      <th>2023-10-11 11:45:00+00:00</th>\n",
       "      <td>27218.650391</td>\n",
       "      <td>27218.650391</td>\n",
       "      <td>27187.955078</td>\n",
       "      <td>27199.869141</td>\n",
       "      <td>27199.869141</td>\n",
       "      <td>18009088</td>\n",
       "    </tr>\n",
       "    <tr>\n",
       "      <th>2023-10-11 11:50:00+00:00</th>\n",
       "      <td>27196.847656</td>\n",
       "      <td>27202.195312</td>\n",
       "      <td>27190.498047</td>\n",
       "      <td>27190.498047</td>\n",
       "      <td>27190.498047</td>\n",
       "      <td>9917440</td>\n",
       "    </tr>\n",
       "    <tr>\n",
       "      <th>2023-10-11 12:15:00+00:00</th>\n",
       "      <td>27244.125000</td>\n",
       "      <td>27245.070312</td>\n",
       "      <td>27224.990234</td>\n",
       "      <td>27224.990234</td>\n",
       "      <td>27224.990234</td>\n",
       "      <td>8357888</td>\n",
       "    </tr>\n",
       "    <tr>\n",
       "      <th>2023-10-11 12:25:00+00:00</th>\n",
       "      <td>27186.320312</td>\n",
       "      <td>27208.544922</td>\n",
       "      <td>27186.320312</td>\n",
       "      <td>27190.484375</td>\n",
       "      <td>27190.484375</td>\n",
       "      <td>14224384</td>\n",
       "    </tr>\n",
       "  </tbody>\n",
       "</table>\n",
       "<p>519 rows × 6 columns</p>\n",
       "</div>"
      ],
      "text/plain": [
       "                                   Open          High           Low  \\\n",
       "Datetime                                                              \n",
       "2023-10-06 00:10:00+00:00  27422.910156  27422.910156  27415.296875   \n",
       "2023-10-06 00:15:00+00:00  27416.308594  27416.308594  27405.029297   \n",
       "2023-10-06 00:25:00+00:00  27433.865234  27448.648438  27433.865234   \n",
       "2023-10-06 00:30:00+00:00  27448.648438  27454.777344  27448.648438   \n",
       "2023-10-06 01:10:00+00:00  27490.042969  27496.724609  27488.646484   \n",
       "...                                 ...           ...           ...   \n",
       "2023-10-11 11:40:00+00:00  27222.488281  27223.388672  27212.701172   \n",
       "2023-10-11 11:45:00+00:00  27218.650391  27218.650391  27187.955078   \n",
       "2023-10-11 11:50:00+00:00  27196.847656  27202.195312  27190.498047   \n",
       "2023-10-11 12:15:00+00:00  27244.125000  27245.070312  27224.990234   \n",
       "2023-10-11 12:25:00+00:00  27186.320312  27208.544922  27186.320312   \n",
       "\n",
       "                                  Close     Adj Close    Volume  \n",
       "Datetime                                                         \n",
       "2023-10-06 00:10:00+00:00  27415.880859  27415.880859  16424960  \n",
       "2023-10-06 00:15:00+00:00  27405.029297  27405.029297   3702784  \n",
       "2023-10-06 00:25:00+00:00  27448.648438  27448.648438   9263104  \n",
       "2023-10-06 00:30:00+00:00  27453.962891  27453.962891  11491328  \n",
       "2023-10-06 01:10:00+00:00  27496.724609  27496.724609   8071168  \n",
       "...                                 ...           ...       ...  \n",
       "2023-10-11 11:40:00+00:00  27223.388672  27223.388672   4585472  \n",
       "2023-10-11 11:45:00+00:00  27199.869141  27199.869141  18009088  \n",
       "2023-10-11 11:50:00+00:00  27190.498047  27190.498047   9917440  \n",
       "2023-10-11 12:15:00+00:00  27224.990234  27224.990234   8357888  \n",
       "2023-10-11 12:25:00+00:00  27190.484375  27190.484375  14224384  \n",
       "\n",
       "[519 rows x 6 columns]"
      ]
     },
     "execution_count": 109,
     "metadata": {},
     "output_type": "execute_result"
    }
   ],
   "source": [
    "# despues de filtrar y eliminar vañores atipicos\n",
    "df_bitcoin_limpio "
   ]
  },
  {
   "cell_type": "code",
   "execution_count": null,
   "metadata": {},
   "outputs": [],
   "source": []
  },
  {
   "cell_type": "code",
   "execution_count": 112,
   "metadata": {},
   "outputs": [
    {
     "name": "stdout",
     "output_type": "stream",
     "text": [
      "[False False False ... False False False]\n",
      "Valores nulos en Close: 0\n"
     ]
    },
    {
     "data": {
      "image/png": "[encoded data removed]",
      "text/plain": [
       "<Figure size 576x432 with 1 Axes>"
      ]
     },
     "metadata": {
      "needs_background": "light"
     },
     "output_type": "display_data"
    },
    {
     "name": "stdout",
     "output_type": "stream",
     "text": [
      "cuatil 1 : 27173.4697265625\n",
      "cuatil 3 : 27906.662109375\n"
     ]
    },
    {
     "data": {
      "image/png": "[encoded data removed]",
      "text/plain": [
       "<Figure size 576x432 with 1 Axes>"
      ]
     },
     "metadata": {
      "needs_background": "light"
     },
     "output_type": "display_data"
    },
    {
     "data": {
      "text/plain": [
       "27596.80760025289"
      ]
     },
     "execution_count": 112,
     "metadata": {},
     "output_type": "execute_result"
    }
   ],
   "source": [
    "import numpy as np\n",
    "\n",
    "df_bitcoin_limpio = df_bitcoin.copy()\n",
    "\n",
    "# Identificar valores duplicados en el índice\n",
    "valores_duplicados_en_indice = df_bitcoin_limpio.index.duplicated()\n",
    "print(valores_duplicados_en_indice)\n",
    "\n",
    "# Eliminar los valores duplicados en el índice\n",
    "df_bitcoin_limpio = df_bitcoin_limpio[~df_bitcoin_limpio.index.duplicated(keep='first')]\n",
    "#df_bitcoin_limpio = df_bitcoin_limpio.drop_duplicates(keep='first')\n",
    "\n",
    "# verificar y ver los valores nulos en la columna \n",
    "df_bitcoin_nulos = df_bitcoin_limpio['Close'].isnull().sum()\n",
    "print(\"Valores nulos en Close:\", df_bitcoin_nulos)\n",
    "# Elimina valores nulos en la columna Close\n",
    "df_bitcoin_limpio = df_bitcoin_limpio.dropna(subset=['Close'])\n",
    "\n",
    "\n",
    "# Filtra los registros con Volumen mayor a 0\n",
    "df_bitcoin_limpio = df_bitcoin_limpio[df_bitcoin_limpio['Volume'] > 0]\n",
    "\n",
    "# crea un grafico de caja de la columna close\n",
    "import matplotlib.pyplot as plt\n",
    "plt.figure(figsize=(8, 6))\n",
    "plt.boxplot(df_bitcoin_limpio['Close'], vert=True)\n",
    "plt.ylabel('Precio de Cierre (Close)')\n",
    "plt.title('Boxplot del Precio de Cierre de Bitcoin')\n",
    "plt.show()\n",
    "\n",
    "# Calcula los cuartiles Q1 y Q3 \n",
    "Q1 = df_bitcoin_limpio['Close'].quantile(0.25)\n",
    "Q3 = df_bitcoin_limpio['Close'].quantile(0.75)\n",
    "print(\"cuatil 1 :\", Q1)\n",
    "print(\"cuatil 3 :\", Q3)\n",
    "# Filtra para tener un precio de cierre entre Q1 y Q3\n",
    "df_bitcoin_limpio = df_bitcoin_limpio[(df_bitcoin_limpio['Close'] >= Q1) & (df_bitcoin_limpio['Close'] <= Q3)]\n",
    "# grafico el df con los valores entre q1 y q3\n",
    "plt.figure(figsize=(8, 6))\n",
    "plt.boxplot(df_bitcoin_limpio['Close'], vert=True)\n",
    "plt.ylabel('Precio de Cierre (Close)')\n",
    "plt.title('Boxplot del Precio de Cierre de Bitcoin entre Q1 y Q3')\n",
    "plt.show()\n",
    "\n",
    "# Calcula el precio promedio de la columna close\n",
    "media_bitcoin = df_bitcoin_limpio['Close'].mean()\n",
    "media_bitcoin"
   ]
  },
  {
   "cell_type": "code",
   "execution_count": null,
   "metadata": {},
   "outputs": [],
   "source": []
  },
  {
   "cell_type": "code",
   "execution_count": null,
   "metadata": {},
   "outputs": [],
   "source": []
  },
  {
   "cell_type": "code",
   "execution_count": null,
   "metadata": {},
   "outputs": [],
   "source": [
    "# Eliminar filas con valores nulos\n",
    "df = df.dropna(subset=['Ventas'])\n",
    "\n",
    "# identificar valores nduplicados\n",
    "duplicados = df.duplicated()"
   ]
  },
  {
   "cell_type": "code",
   "execution_count": 92,
   "metadata": {},
   "outputs": [
    {
     "data": {
      "text/plain": [
       "Datetime\n",
       "2023-10-06 00:00:00+00:00    27423.054688\n",
       "2023-10-06 00:05:00+00:00    27418.119141\n",
       "2023-10-06 00:10:00+00:00    27415.880859\n",
       "2023-10-06 00:15:00+00:00    27405.029297\n",
       "2023-10-06 00:20:00+00:00    27412.542969\n",
       "                                 ...     \n",
       "2023-10-12 23:35:00+00:00    26755.503906\n",
       "2023-10-12 23:40:00+00:00    26742.878906\n",
       "2023-10-12 23:45:00+00:00    26745.517578\n",
       "2023-10-12 23:50:00+00:00    26737.386719\n",
       "2023-10-12 23:55:00+00:00    26755.199219\n",
       "Name: Close, Length: 2016, dtype: float64"
      ]
     },
     "execution_count": 92,
     "metadata": {},
     "output_type": "execute_result"
    }
   ],
   "source": [
    "df_bitcoin_limpio['Close']\n"
   ]
  },
  {
   "cell_type": "code",
   "execution_count": 90,
   "metadata": {},
   "outputs": [
    {
     "data": {
      "text/plain": [
       "0"
      ]
     },
     "execution_count": 90,
     "metadata": {},
     "output_type": "execute_result"
    }
   ],
   "source": [
    "df_bitcoin_limpio"
   ]
  },
  {
   "cell_type": "code",
   "execution_count": null,
   "metadata": {},
   "outputs": [],
   "source": []
  },
  {
   "cell_type": "code",
   "execution_count": null,
   "metadata": {},
   "outputs": [],
   "source": [
    "# Buscar valores nulos en la columna 'Close'\n",
    "valores_nulos = df_bitcoin_limpio['Close'].isnull()\n",
    "\n",
    "# Tratar valores nulos asignando un valor específico (por ejemplo, 0) o utilizando métodos como fillna\n",
    "df_bitcoin_limpio['Close'].fillna(0, inplace=True)\n",
    "# Otra opción: df_bitcoin_limpio['Close'].fillna(method='ffill', inplace=True) para rellenar con el valor anterior\n",
    "\n",
    "# Puedes verificar si quedan valores nulos en la columna 'Close' con:\n",
    "valores_nulos_actualizados = df_bitcoin_limpio['Close'].isnull()\n"
   ]
  },
  {
   "cell_type": "code",
   "execution_count": 74,
   "metadata": {},
   "outputs": [
    {
     "data": {
      "text/plain": [
       "Open         0\n",
       "High         0\n",
       "Low          0\n",
       "Close        0\n",
       "Adj Close    0\n",
       "Volume       0\n",
       "dtype: int64"
      ]
     },
     "execution_count": 74,
     "metadata": {},
     "output_type": "execute_result"
    }
   ],
   "source": [
    "df_bitcoin_limpio.isnull().sum()"
   ]
  },
  {
   "cell_type": "code",
   "execution_count": 75,
   "metadata": {},
   "outputs": [
    {
     "data": {
      "text/plain": [
       "Open         float64\n",
       "High         float64\n",
       "Low          float64\n",
       "Close        float64\n",
       "Adj Close    float64\n",
       "Volume         int64\n",
       "dtype: object"
      ]
     },
     "execution_count": 75,
     "metadata": {},
     "output_type": "execute_result"
    }
   ],
   "source": [
    "df_bitcoin_limpio.dtypes"
   ]
  },
  {
   "cell_type": "code",
   "execution_count": 76,
   "metadata": {},
   "outputs": [
    {
     "data": {
      "text/plain": [
       "0"
      ]
     },
     "execution_count": 76,
     "metadata": {},
     "output_type": "execute_result"
    }
   ],
   "source": [
    "# Contar cuantos datos duplicados existen\n",
    "df_bitcoin_limpio.duplicated().sum()"
   ]
  },
  {
   "cell_type": "markdown",
   "metadata": {},
   "source": [
    "- 1 Eliminación de filas con valores nulos: Si los valores nulos son pocos y no afectan significativamente tus análisis  df = df.dropna(subset=['Close'])\n",
    "\n",
    "\n",
    "\n",
    "- 2 Relleno de valores nulos: En lugar de eliminar filas, puedes optar por rellenar los valores nulos con un valor específico, como 0 o el valor anterior (forward-fill). Esto puede ser útil si prefieres mantener todas las filas en tus datos. Por ejemplo, para rellenar con 0 df['Close'].fillna(0, inplace=True), O para rellenar con el valor anterior: df['Close'].fillna(method='ffill', inplace=True)\n",
    "\n",
    "\n",
    "\n",
    "- 3 Interpolación: Si los valores nulos están relacionados con datos de series temporales, puedes utilizar la interpolación para estimar los valores faltantes en función de los valores circundantes. Pandas ofrece varios métodos de interpolación, como 'linear', 'polynomial', 'spline', entre otros. df['Close'].interpolate(method='linear', inplace=True)\n"
   ]
  },
  {
   "cell_type": "code",
   "execution_count": null,
   "metadata": {},
   "outputs": [],
   "source": []
  },
  {
   "cell_type": "code",
   "execution_count": null,
   "metadata": {},
   "outputs": [],
   "source": []
  },
  {
   "cell_type": "markdown",
   "metadata": {},
   "source": [
    "# 4. Tomar decisiones"
   ]
  },
  {
   "cell_type": "code",
   "execution_count": null,
   "metadata": {},
   "outputs": [],
   "source": [
    "Descripción\n",
    "\n",
    "Tomar decisiones\n",
    "Llegó el momento de construir tu algoritmo de decisión:\n",
    "\n",
    "Crea una funcion tomar_decisiones(), dentro de ella, define nuevamente las variables globales(ver Paso1) y \n",
    "escribe tu código:\n",
    "\n",
    "Rellena la variable algoritmo_decision con el valor resultante del siguiente criterio de decisión:\n",
    "Si el precio actual es mayor/igual que el precio promedio y la tendencia es de baja, entonces guarda el valor ‘Vender’.\n",
    "Si el precio actual es menor que el precio promedio y la tendencia es de alta, entonces guarda el valor ‘Comprar’.\n",
    "Si ninguna de las 2 condiciones anteriores se cumple, entonces guarda el valor ''.\n",
    "Extra\n",
    "Este es un algoritmo de decisión simple que ayuda a los clientes inexpertos a conocer el mejor momento de comprar\n",
    "o vender Bitcoin, ¿crees que existan otros indicadores en la base o en el site de noticias o algún criterio de \n",
    "decisión adicional que ayudaría a reforzar el algoritmo de decisión? Te invito a descubrir otras alternativas.\n",
    "\n"
   ]
  },
  {
   "cell_type": "code",
   "execution_count": 142,
   "metadata": {},
   "outputs": [
    {
     "name": "stdout",
     "output_type": "stream",
     "text": [
      "Comprar\n"
     ]
    }
   ],
   "source": [
    "def tomar_decisiones():\n",
    "    global df_bitcoin, precio_actual, tendencia, media_bitcoin, algoritmo_decision\n",
    "    if precio_actual >= media_bitcoin and tendencia == 'baja':\n",
    "        algoritmo_decision = 'Vender'\n",
    "    elif precio_actual < media_bitcoin and tendencia == 'alta':\n",
    "        algoritmo_decision = 'Comprar'\n",
    "    else:\n",
    "        algoritmo_decision = ''\n",
    "    print(algoritmo_decision)\n",
    "tomar_decisiones()    "
   ]
  },
  {
   "cell_type": "code",
   "execution_count": null,
   "metadata": {},
   "outputs": [],
   "source": []
  },
  {
   "cell_type": "code",
   "execution_count": null,
   "metadata": {},
   "outputs": [],
   "source": []
  },
  {
   "cell_type": "code",
   "execution_count": null,
   "metadata": {},
   "outputs": [],
   "source": []
  },
  {
   "cell_type": "markdown",
   "metadata": {},
   "source": [
    "# 5. Visualización"
   ]
  },
  {
   "cell_type": "code",
   "execution_count": null,
   "metadata": {},
   "outputs": [],
   "source": [
    "Descripción\n",
    "\n",
    "Visualización\n",
    "Crea una funcion visualizacion(), dentro de ella, define nuevamente las variables globales(ver Paso1) y escribe tu código:\n",
    "\n",
    "Adiciona una nueva columna (Promedio) al dataframe original df_bitcoin y almacena el valor de nuestra variable\n",
    "media_bitcoin.\n",
    "\n",
    "Configura el tamaño del gráfico en una proporción de 16x5.\n",
    "Adiciona un título al gráfico.\n",
    "Usando el método plot()dibuja una línea en el gráfico, con los datos del índice y la columna Close de la base \n",
    "df_bitcoin.\n",
    "\n",
    "Usando el método plot()dibuja una línea en el gráfico, con los datos del índice y la columna Promedio de la base\n",
    "df_bitcoin.\n",
    "Usando el método annotate()muestra un mensaje dentro del gráfico con la decisión calculada del algoritmo.\n",
    "Finalmente, usando el método show()muestra en pantalla el gráfico que acabamos de configurar.\n",
    "Apoyo\n",
    "Puedes encontrar más información sobre la biblioteca matplotlib en su página oficial: matplotlib.pyplot"
   ]
  },
  {
   "cell_type": "code",
   "execution_count": null,
   "metadata": {},
   "outputs": [],
   "source": [
    "def visualizacion():\n",
    "    global df_bitcoin, precio_actual, tendencia, media_bitcoin, algoritmo_decision\n",
    "    "
   ]
  },
  {
   "cell_type": "code",
   "execution_count": 148,
   "metadata": {},
   "outputs": [
    {
     "data": {
      "image/png": "[encoded data removed]",
      "text/plain": [
       "<Figure size 1152x360 with 1 Axes>"
      ]
     },
     "metadata": {
      "needs_background": "light"
     },
     "output_type": "display_data"
    }
   ],
   "source": [
    "global df_bitcoin, precio_actual, tendencia, media_bitcoin, algoritmo_decision\n",
    "    \n",
    "# crear una nueva columna en df_bitcoin y llenar con los valores del promedio\n",
    "df_bitcoin['Promedio'] = media_bitcoin\n",
    "\n",
    "import matplotlib.pyplot as plt\n",
    "import matplotlib.dates as mdates\n",
    "\n",
    "# Convertir el índice a una columna de fecha en formato de cadena\n",
    "df_bitcoin['DateStr'] = df_bitcoin.index.strftime('%Y-%m-%d %H:%M:%S')\n",
    "\n",
    "# Configurar el tamaño del gráfico en una proporción de 16x5\n",
    "plt.figure(figsize=(16, 5))\n",
    "\n",
    "# Dibujar una línea con los datos de la columna 'DateStr' y la columna 'Close'\n",
    "plt.plot(df_bitcoin['DateStr'], df_bitcoin['Close'], label='Close')\n",
    "\n",
    "# Dibujar una línea con los datos de la columna 'DateStr' y la columna 'Promedio'\n",
    "plt.plot(df_bitcoin['DateStr'], df_bitcoin['Promedio'], label='Promedio')\n",
    "\n",
    "# Agregar un título al gráfico\n",
    "plt.title('Precio del Bitcoin')\n",
    "\n",
    "# Mostrar un mensaje con la decisión en el gráfico\n",
    "algoritmo_decision = 'Vender'  # Cambia esto al valor real\n",
    "plt.annotate(f'Decisión: {algoritmo_decision}', (df_bitcoin['DateStr'].iloc[-1], df_bitcoin['Close'].iloc[-1]), fontsize=12, color='red')\n",
    "\n",
    "# Configurar el formato de las fechas en el eje x\n",
    "plt.gca().xaxis.set_major_locator(mdates.DayLocator(interval=1))\n",
    "plt.gca().xaxis.set_major_formatter(mdates.DateFormatter('%Y-%m-%d %H:%M:%S'))\n",
    "\n",
    "# Rotar las etiquetas del eje x para mejorar la legibilidad\n",
    "plt.xticks(rotation=45)\n",
    "\n",
    "# Agregar una leyenda para las líneas\n",
    "plt.legend()\n",
    "\n",
    "# Mostrar el gráfico en pantalla\n",
    "plt.show()\n"
   ]
  },
  {
   "cell_type": "code",
   "execution_count": 125,
   "metadata": {},
   "outputs": [
    {
     "data": {
      "text/plain": [
       "Open         float64\n",
       "High         float64\n",
       "Low          float64\n",
       "Close        float64\n",
       "Adj Close    float64\n",
       "Volume         int64\n",
       "Promedio     float64\n",
       "dtype: object"
      ]
     },
     "execution_count": 125,
     "metadata": {},
     "output_type": "execute_result"
    }
   ],
   "source": [
    "df_bitcoin.dtypes"
   ]
  },
  {
   "cell_type": "code",
   "execution_count": 120,
   "metadata": {},
   "outputs": [
    {
     "data": {
      "text/html": [
       "<div>\n",
       "<style scoped>\n",
       "    .dataframe tbody tr th:only-of-type {\n",
       "        vertical-align: middle;\n",
       "    }\n",
       "\n",
       "    .dataframe tbody tr th {\n",
       "        vertical-align: top;\n",
       "    }\n",
       "\n",
       "    .dataframe thead th {\n",
       "        text-align: right;\n",
       "    }\n",
       "</style>\n",
       "<table border=\"1\" class=\"dataframe\">\n",
       "  <thead>\n",
       "    <tr style=\"text-align: right;\">\n",
       "      <th></th>\n",
       "      <th>Open</th>\n",
       "      <th>High</th>\n",
       "      <th>Low</th>\n",
       "      <th>Close</th>\n",
       "      <th>Adj Close</th>\n",
       "      <th>Volume</th>\n",
       "      <th>Promedio</th>\n",
       "    </tr>\n",
       "    <tr>\n",
       "      <th>Datetime</th>\n",
       "      <th></th>\n",
       "      <th></th>\n",
       "      <th></th>\n",
       "      <th></th>\n",
       "      <th></th>\n",
       "      <th></th>\n",
       "      <th></th>\n",
       "    </tr>\n",
       "  </thead>\n",
       "  <tbody>\n",
       "    <tr>\n",
       "      <th>2023-10-06 00:00:00+00:00</th>\n",
       "      <td>27412.123047</td>\n",
       "      <td>27423.445312</td>\n",
       "      <td>27412.123047</td>\n",
       "      <td>27423.054688</td>\n",
       "      <td>27423.054688</td>\n",
       "      <td>0</td>\n",
       "      <td>27596.8076</td>\n",
       "    </tr>\n",
       "    <tr>\n",
       "      <th>2023-10-06 00:05:00+00:00</th>\n",
       "      <td>27423.642578</td>\n",
       "      <td>27423.642578</td>\n",
       "      <td>27418.119141</td>\n",
       "      <td>27418.119141</td>\n",
       "      <td>27418.119141</td>\n",
       "      <td>0</td>\n",
       "      <td>27596.8076</td>\n",
       "    </tr>\n",
       "    <tr>\n",
       "      <th>2023-10-06 00:10:00+00:00</th>\n",
       "      <td>27422.910156</td>\n",
       "      <td>27422.910156</td>\n",
       "      <td>27415.296875</td>\n",
       "      <td>27415.880859</td>\n",
       "      <td>27415.880859</td>\n",
       "      <td>16424960</td>\n",
       "      <td>27596.8076</td>\n",
       "    </tr>\n",
       "    <tr>\n",
       "      <th>2023-10-06 00:15:00+00:00</th>\n",
       "      <td>27416.308594</td>\n",
       "      <td>27416.308594</td>\n",
       "      <td>27405.029297</td>\n",
       "      <td>27405.029297</td>\n",
       "      <td>27405.029297</td>\n",
       "      <td>3702784</td>\n",
       "      <td>27596.8076</td>\n",
       "    </tr>\n",
       "    <tr>\n",
       "      <th>2023-10-06 00:20:00+00:00</th>\n",
       "      <td>27405.863281</td>\n",
       "      <td>27412.542969</td>\n",
       "      <td>27401.708984</td>\n",
       "      <td>27412.542969</td>\n",
       "      <td>27412.542969</td>\n",
       "      <td>0</td>\n",
       "      <td>27596.8076</td>\n",
       "    </tr>\n",
       "    <tr>\n",
       "      <th>...</th>\n",
       "      <td>...</td>\n",
       "      <td>...</td>\n",
       "      <td>...</td>\n",
       "      <td>...</td>\n",
       "      <td>...</td>\n",
       "      <td>...</td>\n",
       "      <td>...</td>\n",
       "    </tr>\n",
       "    <tr>\n",
       "      <th>2023-10-12 23:35:00+00:00</th>\n",
       "      <td>26755.378906</td>\n",
       "      <td>26759.136719</td>\n",
       "      <td>26755.378906</td>\n",
       "      <td>26755.503906</td>\n",
       "      <td>26755.503906</td>\n",
       "      <td>2469888</td>\n",
       "      <td>27596.8076</td>\n",
       "    </tr>\n",
       "    <tr>\n",
       "      <th>2023-10-12 23:40:00+00:00</th>\n",
       "      <td>26755.205078</td>\n",
       "      <td>26755.205078</td>\n",
       "      <td>26742.878906</td>\n",
       "      <td>26742.878906</td>\n",
       "      <td>26742.878906</td>\n",
       "      <td>0</td>\n",
       "      <td>27596.8076</td>\n",
       "    </tr>\n",
       "    <tr>\n",
       "      <th>2023-10-12 23:45:00+00:00</th>\n",
       "      <td>26744.394531</td>\n",
       "      <td>26748.183594</td>\n",
       "      <td>26744.394531</td>\n",
       "      <td>26745.517578</td>\n",
       "      <td>26745.517578</td>\n",
       "      <td>0</td>\n",
       "      <td>27596.8076</td>\n",
       "    </tr>\n",
       "    <tr>\n",
       "      <th>2023-10-12 23:50:00+00:00</th>\n",
       "      <td>26745.517578</td>\n",
       "      <td>26745.517578</td>\n",
       "      <td>26736.718750</td>\n",
       "      <td>26737.386719</td>\n",
       "      <td>26737.386719</td>\n",
       "      <td>0</td>\n",
       "      <td>27596.8076</td>\n",
       "    </tr>\n",
       "    <tr>\n",
       "      <th>2023-10-12 23:55:00+00:00</th>\n",
       "      <td>26740.623047</td>\n",
       "      <td>26755.199219</td>\n",
       "      <td>26740.623047</td>\n",
       "      <td>26755.199219</td>\n",
       "      <td>26755.199219</td>\n",
       "      <td>0</td>\n",
       "      <td>27596.8076</td>\n",
       "    </tr>\n",
       "  </tbody>\n",
       "</table>\n",
       "<p>2016 rows × 7 columns</p>\n",
       "</div>"
      ],
      "text/plain": [
       "                                   Open          High           Low  \\\n",
       "Datetime                                                              \n",
       "2023-10-06 00:00:00+00:00  27412.123047  27423.445312  27412.123047   \n",
       "2023-10-06 00:05:00+00:00  27423.642578  27423.642578  27418.119141   \n",
       "2023-10-06 00:10:00+00:00  27422.910156  27422.910156  27415.296875   \n",
       "2023-10-06 00:15:00+00:00  27416.308594  27416.308594  27405.029297   \n",
       "2023-10-06 00:20:00+00:00  27405.863281  27412.542969  27401.708984   \n",
       "...                                 ...           ...           ...   \n",
       "2023-10-12 23:35:00+00:00  26755.378906  26759.136719  26755.378906   \n",
       "2023-10-12 23:40:00+00:00  26755.205078  26755.205078  26742.878906   \n",
       "2023-10-12 23:45:00+00:00  26744.394531  26748.183594  26744.394531   \n",
       "2023-10-12 23:50:00+00:00  26745.517578  26745.517578  26736.718750   \n",
       "2023-10-12 23:55:00+00:00  26740.623047  26755.199219  26740.623047   \n",
       "\n",
       "                                  Close     Adj Close    Volume    Promedio  \n",
       "Datetime                                                                     \n",
       "2023-10-06 00:00:00+00:00  27423.054688  27423.054688         0  27596.8076  \n",
       "2023-10-06 00:05:00+00:00  27418.119141  27418.119141         0  27596.8076  \n",
       "2023-10-06 00:10:00+00:00  27415.880859  27415.880859  16424960  27596.8076  \n",
       "2023-10-06 00:15:00+00:00  27405.029297  27405.029297   3702784  27596.8076  \n",
       "2023-10-06 00:20:00+00:00  27412.542969  27412.542969         0  27596.8076  \n",
       "...                                 ...           ...       ...         ...  \n",
       "2023-10-12 23:35:00+00:00  26755.503906  26755.503906   2469888  27596.8076  \n",
       "2023-10-12 23:40:00+00:00  26742.878906  26742.878906         0  27596.8076  \n",
       "2023-10-12 23:45:00+00:00  26745.517578  26745.517578         0  27596.8076  \n",
       "2023-10-12 23:50:00+00:00  26737.386719  26737.386719         0  27596.8076  \n",
       "2023-10-12 23:55:00+00:00  26755.199219  26755.199219         0  27596.8076  \n",
       "\n",
       "[2016 rows x 7 columns]"
      ]
     },
     "execution_count": 120,
     "metadata": {},
     "output_type": "execute_result"
    }
   ],
   "source": [
    "df_bitcoin  "
   ]
  },
  {
   "cell_type": "markdown",
   "metadata": {},
   "source": [
    "# 6. Automatización"
   ]
  },
  {
   "cell_type": "code",
   "execution_count": null,
   "metadata": {},
   "outputs": [],
   "source": [
    "Descripción\n",
    "\n",
    "Automatización\n",
    "El trabajo de un Data Scientist sólo termina cuando la solución al problema está automatizada, esto permite \n",
    "soluciones automáticas para nuevos lotes de información.\n",
    "\n",
    "Importa el método 'clear_output()', este método nos permite borrar los resultados de la pantalla antes de \n",
    "imprimir un nuevo gráfico, y así evitar tener más de un gráfico en la pantalla, impórtalo de la siguiente \n",
    "forma: from IPython.display import clear_output.\n",
    "    \n",
    "Importa también la biblioteca ‘time’ de la siguiente forma: import time, utilizaremos su método time.sleep(300) \n",
    "para interrumpir la ejecución del código cada 300 segundos o 5 minutos.\n",
    "\n",
    "Finalmente construiremos un loop infinito para ejecutar permanentemente y en intervalos de 5minutos, las funciones \n",
    "que hemos construído en los pasos 2 al 5 de nuestro proyecto, de la siguiente forma:\n",
    "    \n",
    "    \n",
    "while(True):\n",
    "  clear_output()\n",
    "  importar_base_bitcoin()\n",
    "  extraer_tendencias()\n",
    "  limpieza_datos()\n",
    "  tomar_decisiones()\n",
    "  visualizacion()\n",
    "  time.sleep(300)\n",
    "\n",
    "El resultado de este código será un gráfico mostrando el histórico de precios del Bitcoin y la decisión del \n",
    "algoritmo en tiempo real, basado en datos normalizados y limpios, que se actualizarán cada 5 minutos.\n",
    "\n",
    "Conclusión\n",
    "Este desafío sólo fue una demonstración de un proyecto real, donde vemos el poder de los datos para la toma de \n",
    "decisiones y la importancia que tiene el tratamiento de los datos para evitar tomar decisiones equivocadas, \n",
    "durante este Bootcamp aprenderás nuevas herramientas y habilidades que te llevarán a ti y a este proyecto a un \n",
    "nuevo nivel.\n",
    "\n",
    "¡Ahora, tu misión, si decides aceptarla, es, superar este Robot! ¡Suerte!"
   ]
  },
  {
   "cell_type": "code",
   "execution_count": null,
   "metadata": {},
   "outputs": [],
   "source": [
    "taniamontellanoc@gmail.com   enviar archivos "
   ]
  },
  {
   "cell_type": "code",
   "execution_count": null,
   "metadata": {},
   "outputs": [],
   "source": []
  },
  {
   "cell_type": "code",
   "execution_count": null,
   "metadata": {},
   "outputs": [],
   "source": []
  },
  {
   "cell_type": "code",
   "execution_count": null,
   "metadata": {},
   "outputs": [],
   "source": []
  },
  {
   "cell_type": "code",
   "execution_count": null,
   "metadata": {},
   "outputs": [],
   "source": []
  },
  {
   "cell_type": "code",
   "execution_count": null,
   "metadata": {},
   "outputs": [],
   "source": []
  },
  {
   "cell_type": "code",
   "execution_count": 126,
   "metadata": {},
   "outputs": [
    {
     "name": "stdout",
     "output_type": "stream",
     "text": [
      "Nombre: Bitcoin\n",
      "Precio: $26,761.68\n"
     ]
    }
   ],
   "source": [
    "# Extraer el nombre de Bitcoin\n",
    "p_elements_with_bitcoin = soup.find_all('p', string='Bitcoin')\n",
    "for p_element in p_elements_with_bitcoin:\n",
    "    #print(p_element.text)\n",
    "    nombre=p_element.text\n",
    "\n",
    "# Busca el elemento <a> con el atributo href\n",
    "a_element = soup.find('a', href='/currencies/bitcoin/#markets')\n",
    "# Si se encuentra la etiqueta <a> con el atributo href\n",
    "if a_element:\n",
    "    # Luego, busca el elemento <span> dentro de la etiqueta <a>\n",
    "    span_element = a_element.find('span')\n",
    "    if span_element:\n",
    "        #print(span_element.text)\n",
    "        precio=span_element.text\n",
    "    else:\n",
    "        print(\"No se encontró el elemento <span> dentro de la etiqueta <a> con el atributo href.\")\n",
    "else:\n",
    "    print(\"No se encontró la etiqueta <a> con el atributo href.\")\n",
    "\n",
    "#nombre = soup.find('p', class_='sc-4984dd93-0 kKpPOn').text\n",
    "\n",
    "# Extraer el precio de Bitcoin\n",
    "#precio = soup.find('div', class_='sc-a0353bbc-0 gDrtaY').text\n",
    "#precio = soup.find('span').text\n",
    "\n",
    "# Imprimir el nombre y el precio\n",
    "print(f\"Nombre: {nombre}\")\n",
    "print(f\"Precio: {precio}\")"
   ]
  },
  {
   "cell_type": "code",
   "execution_count": null,
   "metadata": {},
   "outputs": [],
   "source": []
  },
  {
   "cell_type": "code",
   "execution_count": null,
   "metadata": {},
   "outputs": [],
   "source": []
  },
  {
   "cell_type": "code",
   "execution_count": 38,
   "metadata": {},
   "outputs": [
    {
     "ename": "NameError",
     "evalue": "name 'precio_actual' is not defined",
     "output_type": "error",
     "traceback": [
      "\u001b[0;31m---------------------------------------------------------------------------\u001b[0m",
      "\u001b[0;31mNameError\u001b[0m                                 Traceback (most recent call last)",
      "\u001b[0;32m<ipython-input-38-212839f8fd06>\u001b[0m in \u001b[0;36m<module>\u001b[0;34m\u001b[0m\n\u001b[1;32m     50\u001b[0m  \u001b[0mprint\u001b[0m\u001b[0;34m(\u001b[0m\u001b[0mdf_bitcoin\u001b[0m\u001b[0;34m.\u001b[0m\u001b[0mshape\u001b[0m\u001b[0;34m)\u001b[0m\u001b[0;34m\u001b[0m\u001b[0;34m\u001b[0m\u001b[0m\n\u001b[1;32m     51\u001b[0m \u001b[0;34m\u001b[0m\u001b[0m\n\u001b[0;32m---> 52\u001b[0;31m \u001b[0mlimpiezadatos\u001b[0m\u001b[0;34m(\u001b[0m\u001b[0mdf_bitcoin\u001b[0m\u001b[0;34m,\u001b[0m \u001b[0mprecio_actual\u001b[0m\u001b[0;34m,\u001b[0m \u001b[0mtendencia\u001b[0m\u001b[0;34m,\u001b[0m \u001b[0mmedia_bitcoin\u001b[0m\u001b[0;34m,\u001b[0m \u001b[0malgoritmo_decision\u001b[0m\u001b[0;34m)\u001b[0m\u001b[0;34m\u001b[0m\u001b[0;34m\u001b[0m\u001b[0m\n\u001b[0m",
      "\u001b[0;31mNameError\u001b[0m: name 'precio_actual' is not defined"
     ]
    }
   ],
   "source": [
    "import matplotlib.pyplot as plt\n",
    "# Definir variables globales\n",
    "\n",
    "def limpiezadatos(df_bitcoin, precio_actual, tendencia, media_bitcoin, algoritmo_decision):\n",
    " df_bitcoin_limpio=df_bitcoin\n",
    " #print(df_bitcoin_limpio.head(10))\n",
    "\n",
    " # Identificar y tratar duplicados en el índice\n",
    " df_bitcoin_limpio = df_bitcoin_limpio[~df_bitcoin_limpio.index.duplicated(keep='first')]\n",
    " print(df_bitcoin_limpio[df_bitcoin_limpio['Close'].isnull()])\n",
    " df_bitcoin_limpio.dropna(subset=[\"Close\"],inplace=True)\n",
    "\n",
    "#borrar valores de volume menores o igual q 0\n",
    " df_bitcoin_limpio = df_bitcoin_limpio[df_bitcoin_limpio['Volume'] <= 0]\n",
    "\n",
    "#graficando outliers\n",
    " columna_a_graficar = df_bitcoin_limpio['Close']\n",
    " # Crear un boxplot\n",
    " plt.boxplot(columna_a_graficar)\n",
    " plt.title('Boxplot de la columna \"Close\"')\n",
    " plt.ylabel('Valores de \"Open\"')\n",
    " \n",
    "# Mostrar el gráfico\n",
    " plt.show()\n",
    " # Calcular el rango intercuartílico (IQR)\n",
    " Q1 = columna_a_graficar.quantile(0.25)\n",
    " Q3 = columna_a_graficar.quantile(0.75)\n",
    " IQR = Q3 - Q1\n",
    " \n",
    " # Definir límites inferior y superior para identificar outliers\n",
    " limite_inferior = Q1 - 1.5 * IQR\n",
    " limite_superior = Q3 + 1.5 * IQR\n",
    " \n",
    " # Filtrar el DataFrame para eliminar outliers\n",
    " df_bitcoin_limpio = df_bitcoin_limpio[(columna_a_graficar >= limite_inferior) & (columna_a_graficar <= limite_superior)]\n",
    " \n",
    " # Crear un boxplot del DataFrame sin outliers para verificar\n",
    " plt.boxplot(df_bitcoin_limpio['Close'])\n",
    " plt.title('Boxplot de la columna \"Close\" sin outliers')\n",
    " plt.ylabel('Valores de \"Close\"')\n",
    " \n",
    " # Mostrar el gráfico\n",
    " plt.show()\n",
    "\n",
    " #guardar en media_close\n",
    " media_close = df_bitcoin_limpio['Close'].mean()\n",
    " # Imprimir el DataFrame resultante\n",
    " print(media_close)\n",
    " print(df_bitcoin_limpio.shape)\n",
    " print(df_bitcoin.shape)\n",
    "  \n",
    "limpiezadatos(df_bitcoin, precio_actual, tendencia, media_bitcoin, algoritmo_decision)"
   ]
  },
  {
   "cell_type": "code",
   "execution_count": 36,
   "metadata": {},
   "outputs": [
    {
     "ename": "NameError",
     "evalue": "name 'graficarBoxPlot_Close' is not defined",
     "output_type": "error",
     "traceback": [
      "\u001b[0;31m---------------------------------------------------------------------------\u001b[0m",
      "\u001b[0;31mNameError\u001b[0m                                 Traceback (most recent call last)",
      "\u001b[0;32m<ipython-input-36-3f32a9cef369>\u001b[0m in \u001b[0;36m<module>\u001b[0;34m\u001b[0m\n\u001b[1;32m     19\u001b[0m \u001b[0mdata\u001b[0m \u001b[0;34m=\u001b[0m \u001b[0mdata\u001b[0m\u001b[0;34m[\u001b[0m\u001b[0mdata\u001b[0m\u001b[0;34m[\u001b[0m\u001b[0;34m\"Volume\"\u001b[0m\u001b[0;34m]\u001b[0m \u001b[0;34m>\u001b[0m \u001b[0;36m0\u001b[0m\u001b[0;34m]\u001b[0m\u001b[0;34m\u001b[0m\u001b[0;34m\u001b[0m\u001b[0m\n\u001b[1;32m     20\u001b[0m  \u001b[0;31m#Deberás identificar y eliminar los outliers en el precio del Bitcoin, columna Close, utiliza un gráfico de boxplot para identificarlos.\u001b[0m\u001b[0;34m\u001b[0m\u001b[0;34m\u001b[0m\u001b[0;34m\u001b[0m\u001b[0m\n\u001b[0;32m---> 21\u001b[0;31m \u001b[0mgraficarBoxPlot_Close\u001b[0m\u001b[0;34m(\u001b[0m\u001b[0mdata\u001b[0m\u001b[0;34m)\u001b[0m\u001b[0;34m\u001b[0m\u001b[0;34m\u001b[0m\u001b[0m\n\u001b[0m\u001b[1;32m     22\u001b[0m \u001b[0mq1\u001b[0m \u001b[0;34m=\u001b[0m \u001b[0mdata\u001b[0m\u001b[0;34m[\u001b[0m\u001b[0;34m\"Close\"\u001b[0m\u001b[0;34m]\u001b[0m\u001b[0;34m.\u001b[0m\u001b[0mquantile\u001b[0m\u001b[0;34m(\u001b[0m\u001b[0;36m0.25\u001b[0m\u001b[0;34m)\u001b[0m\u001b[0;34m\u001b[0m\u001b[0;34m\u001b[0m\u001b[0m\n\u001b[1;32m     23\u001b[0m \u001b[0mq3\u001b[0m \u001b[0;34m=\u001b[0m \u001b[0mdata\u001b[0m\u001b[0;34m[\u001b[0m\u001b[0;34m\"Close\"\u001b[0m\u001b[0;34m]\u001b[0m\u001b[0;34m.\u001b[0m\u001b[0mquantile\u001b[0m\u001b[0;34m(\u001b[0m\u001b[0;36m0.75\u001b[0m\u001b[0;34m)\u001b[0m\u001b[0;34m\u001b[0m\u001b[0;34m\u001b[0m\u001b[0m\n",
      "\u001b[0;31mNameError\u001b[0m: name 'graficarBoxPlot_Close' is not defined"
     ]
    }
   ],
   "source": [
    " #Creamos una copia\n",
    "df_bitcoin_limpio = df_bitcoin.copy()\n",
    "def limpiar_data (data):\n",
    "    global df_bitcoin, precio_actual, tendencia, media_bitcoin, algoritmo_decision\n",
    "  #identifica duplicados en el índice y trátalos para quedarte con sólo índices únicos.\n",
    "\n",
    "indices_duplicados = data.index.duplicated()\n",
    "nRepetidos_ind = indices_duplicados.sum()\n",
    "if nRepetidos_ind > 0:\n",
    "    data = data[~indices_duplicados]\n",
    "  \n",
    "  #busca por valores nulos en la columna Close\n",
    "\n",
    "nRepetidos_close = data[\"Close\"].isna().sum()\n",
    "if nRepetidos_close > 0 :\n",
    "    data[\"Close\"] = data[\"Close\"].dropna()\n",
    "\n",
    "  #Verifica que todos los registros de la base tengan un Volume de transacción mayor a 0, caso contrário, elimínalos.\n",
    "data = data[data[\"Volume\"] > 0]\n",
    "  #Deberás identificar y eliminar los outliers en el precio del Bitcoin, columna Close, utiliza un gráfico de boxplot para identificarlos.\n",
    "graficarBoxPlot_Close(data)\n",
    "q1 = data[\"Close\"].quantile(0.25)\n",
    "q3 = data[\"Close\"].quantile(0.75)\n",
    "data = data[(data[\"Close\"] >=q1) & (data[\"Close\"]<=q3)]\n",
    "media_bitcoin = data[\"Close\"].mean()\n",
    "return data\n",
    "\n",
    "limpiar_data(df_bitcoin_limpio)"
   ]
  },
  {
   "cell_type": "code",
   "execution_count": null,
   "metadata": {},
   "outputs": [],
   "source": []
  }
 ],
 "metadata": {
  "kernelspec": {
   "display_name": "Python 3",
   "language": "python",
   "name": "python3"
  },
  "language_info": {
   "codemirror_mode": {
    "name": "ipython",
    "version": 3
   },
   "file_extension": ".py",
   "mimetype": "text/x-python",
   "name": "python",
   "nbconvert_exporter": "python",
   "pygments_lexer": "ipython3",
   "version": "3.7.6"
  }
 },
 "nbformat": 4,
 "nbformat_minor": 4
}
