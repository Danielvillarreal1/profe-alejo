{
 "cells": [
  {
   "cell_type": "code",
   "execution_count": null,
   "metadata": {},
   "outputs": [],
   "source": [
    "Descripción\n",
    "\n",
    "Configuración del ambiente\n",
    "Para empezar, puedes utilizar un entorno virtual como Google Colaboratory, o si deseas, puedes usar el editor\n",
    "Python de tu preferencia, sólo asegúrate de tener Python 3.x instalado en tu computadora.\n",
    "\n",
    "En el proyecto usaremos 5 variables que serán manipuladas dentro de varias funciones, estas variables son \n",
    "conocidas como variables globales, es necesario que las definas aquí de la siguiente forma:\n",
    "global \n",
    "df_bitcoin, precio_actual, tendencia, media_bitcoin,  algoritmo_decision\n",
    "\n",
    "También necesitarás instalar algunas librerías de Python que son esenciales para este proyecto, como Pandas, \n",
    "Numpy, Matplotlib, etc.\n",
    "\n",
    "Para estar seguros de que tenemos todo listo en nuestro Ambiente, podemos ejecutar las siguientes líneas de código:\n",
    "\n",
    "!python -V\n",
    "print('------')\n",
    "!pip show Pandas | grep 'Name\\|Version'\n",
    "print('------')\n",
    "!pip show Numpy | grep 'Name\\|Version'\n",
    "print('------')\n",
    "!pip show Matplotlib | grep 'Name\\|Version'\n",
    "El resultado debería ser las bibliotecas y sus versiones que tenemos instaladas en nuestro Ambiente, si tienes\n",
    "algún error revisa tu configuración, talvez falte instalar alguna biblioteca.\n",
    "\n"
   ]
  },
  {
   "cell_type": "markdown",
   "metadata": {},
   "source": [
    "# 1. Configuración del ambiente"
   ]
  },
  {
   "cell_type": "code",
   "execution_count": 9,
   "metadata": {},
   "outputs": [
    {
     "name": "stdout",
     "output_type": "stream",
     "text": [
      "Python 3.7.6\n",
      "------\n",
      "Name: pandas\n",
      "Version: 1.3.5\n",
      "------\n",
      "Name: numpy\n",
      "Version: 1.18.1\n",
      "------\n",
      "Name: matplotlib\n",
      "Version: 3.1.3\n"
     ]
    }
   ],
   "source": [
    "!python -V\n",
    "print('------')\n",
    "!pip show Pandas | grep 'Name\\|Version'\n",
    "print('------')\n",
    "!pip show Numpy | grep 'Name\\|Version'\n",
    "print('------')\n",
    "!pip show Matplotlib | grep 'Name\\|Version'"
   ]
  },
  {
   "cell_type": "markdown",
   "metadata": {},
   "source": [
    "## 1.1 definir variables globales"
   ]
  },
  {
   "cell_type": "code",
   "execution_count": 75,
   "metadata": {},
   "outputs": [],
   "source": [
    "# Definir variables globales\n",
    "global df_bitcoin, precio_actual, tendencia, media_bitcoin, algoritmo_decision\n"
   ]
  },
  {
   "cell_type": "markdown",
   "metadata": {},
   "source": [
    "# 2. Obtención de datos"
   ]
  },
  {
   "cell_type": "code",
   "execution_count": null,
   "metadata": {},
   "outputs": [],
   "source": [
    "Descripción\n",
    "\n",
    "Obtención de datos\n",
    "Crea una funcion importar_base_bitcoin(), dentro de ella, define nuevamente las variables globales(ver Paso1) y\n",
    "escribe tu código:\n",
    "\n",
    "Utiliza la biblioteca yfinance de Python para extraer el histórico de precios del Bitcoin en dólares BTC-USD, \n",
    "deberás extraer el histórico de los últimos 7 días en intervalos de 5 minutos, este histórico deberás guardarlo en\n",
    "el dataframe df_bitcoin.\n",
    "Crea una funcion extraer_tendencias(), dentro de ella, define nuevamente las variables globales(ver Paso1) y \n",
    "escribe tu código:\n",
    "\n",
    "Utilizando la biblioteca BeautifulSoup deberás realizar Web Scraping de la página https://coinmarketcap.com/ \n",
    "para extraer el precio actual del Bitcoin BTC en dólares USD y la variación de su precio en la última hora 1h % . \n",
    "El precio deberás convertirlo a float y guardarlo en la variable llamada precio_actual. Ahora, en la variable \n",
    "tendencia guarda el valor de 'baja'si la variación del precio es negativa, sino, guarda el valor de 'alta'.\n",
    "\n",
    "Apoyo\n",
    "Puedes encontrar más información de como instalar y usar la biblioteca yfinance en su página oficial: yfinance.\n",
    "Además de los recursos mencionados en el card ‘Para saber más’ del Trello, puedes encontrar información \n",
    "complementar de Web Scraping en el siguiente enlace: Web Scraping con Python: Cómo Extraer Datos de Sitios Web."
   ]
  },
  {
   "cell_type": "markdown",
   "metadata": {},
   "source": [
    "## 2.1 Precios historico del bitcoin"
   ]
  },
  {
   "cell_type": "code",
   "execution_count": null,
   "metadata": {},
   "outputs": [],
   "source": [
    "import yfinance as yf\n",
    "import datetime\n",
    "import time\n",
    "import pandas as pd\n",
    "\n",
    "def importar_base_bitcoin():\n",
    "    symbol = 'BTC-USD'\n",
    "\n",
    "    # fecha de inicio y fin para los últimos 7 días\n",
    "    end_date = datetime.date.today()\n",
    "    start_date = end_date - datetime.timedelta(days=7)\n",
    "\n",
    "    # Descarga el precio histórico\n",
    "    data = yf.download(symbol, start=start_date, end=end_date)\n",
    "\n",
    "    # Pausa durante 5 minutos antes de la próxima actualización\n",
    "    #time.sleep(300)  # 300 segundos = 5 minutos\n",
    "\n",
    "    # Muestra los datos\n",
    "    print(\"Última actualización:\", datetime.datetime.now())\n",
    "    print(data['Adj Close'])\n",
    "\n",
    "# Ejecuta la función para comenzar a importar el historial y realizar cálculos\n",
    "importar_base_bitcoin()\n"
   ]
  },
  {
   "cell_type": "code",
   "execution_count": 88,
   "metadata": {},
   "outputs": [
    {
     "ename": "SyntaxError",
     "evalue": "invalid syntax (<ipython-input-88-c89f5ce4a52f>, line 6)",
     "output_type": "error",
     "traceback": [
      "\u001b[0;36m  File \u001b[0;32m\"<ipython-input-88-c89f5ce4a52f>\"\u001b[0;36m, line \u001b[0;32m6\u001b[0m\n\u001b[0;31m    def importar_base_bitcoin()\u001b[0m\n\u001b[0m                               ^\u001b[0m\n\u001b[0;31mSyntaxError\u001b[0m\u001b[0;31m:\u001b[0m invalid syntax\n"
     ]
    }
   ],
   "source": [
    "import yfinance as yf\n",
    "import datetime\n",
    "import time\n",
    "import pandas as pd\n",
    "\n",
    "def importar_base_bitcoin()\n",
    "    symbol = 'BTC-USD'\n",
    "\n",
    "    # fecha de inicio y fin para los últimos 7 días\n",
    "    end_date = datetime.date.today()\n",
    "    start_date = end_date - datetime.timedelta(days=7)\n",
    "\n",
    "    # Descarga el precio histórico\n",
    "    data = yf.download(symbol, start=start_date, end=end_date)\n",
    "\n",
    "    # Pausa durante 5 minutos antes de la próxima actualización\n",
    "    time.sleep(300)  # 300 segundos = 5 minutos\n",
    "\n",
    "    # Muestra los datos\n",
    "    #print(\"Última actualización:\", datetime.datetime.now())\n",
    "    #print(data['Adj Close'])\n",
    "   \n",
    "    \n",
    "\n",
    "importar_base_bitcoin()"
   ]
  },
  {
   "cell_type": "code",
   "execution_count": null,
   "metadata": {},
   "outputs": [],
   "source": [
    "def importar_base_bitcoin():\n",
    "    global df_bitcoin, precio_actual, tendencia, media_bitcoin, algoritmo_decision\n",
    "\n",
    "    symbol = 'BTC-USD'\n",
    "\n",
    "    # fecha de inicio y fin para los últimos 7 días\n",
    "    end_date = datetime.date.today()\n",
    "    start_date = end_date - datetime.timedelta(days=7)\n",
    "\n",
    "    # Descarga el precio histórico del bitcoin en intervalos de 5 minutos\n",
    "    data = yf.download(symbol, start=start_date, end=end_date, interval='5m')\n",
    "\n",
    "    # Pausa durante 5 minutos antes de la próxima actualización\n",
    "    time.sleep(300)  # 300 segundos = 5 minutos\n",
    "    \n",
    "    df_bitcoin = pd.DataFrame(data)\n",
    "    df_bitcoin\n",
    "    \n",
    "importar_base_bitcoin()"
   ]
  },
  {
   "cell_type": "code",
   "execution_count": null,
   "metadata": {},
   "outputs": [],
   "source": [
    "#########"
   ]
  },
  {
   "cell_type": "code",
   "execution_count": null,
   "metadata": {},
   "outputs": [],
   "source": [
    "\n",
    "df"
   ]
  },
  {
   "cell_type": "code",
   "execution_count": null,
   "metadata": {},
   "outputs": [],
   "source": [
    "global df_bitcoin, precio_actual, tendencia, media_bitcoin, algoritmo_decision\n",
    "\n",
    "symbol = 'BTC-USD'\n",
    "\n",
    "# fecha de inicio y fin para los últimos 7 días\n",
    "end_date = datetime.date.today()\n",
    "start_date = end_date - datetime.timedelta(days=7)\n",
    "\n",
    "# Descarga el precio histórico en intervalos de 5 minutos\n",
    "data = yf.download(symbol, start=start_date, end=end_date, interval='5m')\n",
    "\n",
    "# Pausa durante 5 minutos antes de la próxima actualización\n",
    "#time.sleep(300)  # 300 segundos = 5 minutos\n",
    "    \n"
   ]
  },
  {
   "cell_type": "code",
   "execution_count": null,
   "metadata": {},
   "outputs": [],
   "source": [
    "df_bitcoin = pd.DataFrame(data)\n",
    "df_bitcoin\n",
    "    "
   ]
  },
  {
   "cell_type": "code",
   "execution_count": 125,
   "metadata": {},
   "outputs": [
    {
     "data": {
      "text/html": [
       "<div>\n",
       "<style scoped>\n",
       "    .dataframe tbody tr th:only-of-type {\n",
       "        vertical-align: middle;\n",
       "    }\n",
       "\n",
       "    .dataframe tbody tr th {\n",
       "        vertical-align: top;\n",
       "    }\n",
       "\n",
       "    .dataframe thead th {\n",
       "        text-align: right;\n",
       "    }\n",
       "</style>\n",
       "<table border=\"1\" class=\"dataframe\">\n",
       "  <thead>\n",
       "    <tr style=\"text-align: right;\">\n",
       "      <th></th>\n",
       "      <th>Open</th>\n",
       "      <th>High</th>\n",
       "      <th>Low</th>\n",
       "      <th>Close</th>\n",
       "      <th>Adj Close</th>\n",
       "      <th>Volume</th>\n",
       "    </tr>\n",
       "  </thead>\n",
       "  <tbody>\n",
       "    <tr>\n",
       "      <th>count</th>\n",
       "      <td>1989.000000</td>\n",
       "      <td>1989.000000</td>\n",
       "      <td>1989.000000</td>\n",
       "      <td>1989.000000</td>\n",
       "      <td>1989.000000</td>\n",
       "      <td>1.989000e+03</td>\n",
       "    </tr>\n",
       "    <tr>\n",
       "      <th>mean</th>\n",
       "      <td>27647.861714</td>\n",
       "      <td>27656.465503</td>\n",
       "      <td>27638.713525</td>\n",
       "      <td>27647.375014</td>\n",
       "      <td>27647.375014</td>\n",
       "      <td>1.212721e+07</td>\n",
       "    </tr>\n",
       "    <tr>\n",
       "      <th>std</th>\n",
       "      <td>317.056982</td>\n",
       "      <td>315.984285</td>\n",
       "      <td>318.950236</td>\n",
       "      <td>317.989180</td>\n",
       "      <td>317.989180</td>\n",
       "      <td>2.726747e+07</td>\n",
       "    </tr>\n",
       "    <tr>\n",
       "      <th>min</th>\n",
       "      <td>26561.099609</td>\n",
       "      <td>26595.152344</td>\n",
       "      <td>26561.099609</td>\n",
       "      <td>26569.714844</td>\n",
       "      <td>26569.714844</td>\n",
       "      <td>0.000000e+00</td>\n",
       "    </tr>\n",
       "    <tr>\n",
       "      <th>25%</th>\n",
       "      <td>27476.507812</td>\n",
       "      <td>27488.490234</td>\n",
       "      <td>27464.070312</td>\n",
       "      <td>27472.183594</td>\n",
       "      <td>27472.183594</td>\n",
       "      <td>0.000000e+00</td>\n",
       "    </tr>\n",
       "    <tr>\n",
       "      <th>50%</th>\n",
       "      <td>27669.689453</td>\n",
       "      <td>27677.427734</td>\n",
       "      <td>27662.369141</td>\n",
       "      <td>27669.033203</td>\n",
       "      <td>27669.033203</td>\n",
       "      <td>8.243200e+05</td>\n",
       "    </tr>\n",
       "    <tr>\n",
       "      <th>75%</th>\n",
       "      <td>27923.980469</td>\n",
       "      <td>27930.087891</td>\n",
       "      <td>27918.388672</td>\n",
       "      <td>27923.593750</td>\n",
       "      <td>27923.593750</td>\n",
       "      <td>1.244979e+07</td>\n",
       "    </tr>\n",
       "    <tr>\n",
       "      <th>max</th>\n",
       "      <td>28227.326172</td>\n",
       "      <td>28252.537109</td>\n",
       "      <td>28130.154297</td>\n",
       "      <td>28252.537109</td>\n",
       "      <td>28252.537109</td>\n",
       "      <td>3.868252e+08</td>\n",
       "    </tr>\n",
       "  </tbody>\n",
       "</table>\n",
       "</div>"
      ],
      "text/plain": [
       "               Open          High           Low         Close     Adj Close  \\\n",
       "count   1989.000000   1989.000000   1989.000000   1989.000000   1989.000000   \n",
       "mean   27647.861714  27656.465503  27638.713525  27647.375014  27647.375014   \n",
       "std      317.056982    315.984285    318.950236    317.989180    317.989180   \n",
       "min    26561.099609  26595.152344  26561.099609  26569.714844  26569.714844   \n",
       "25%    27476.507812  27488.490234  27464.070312  27472.183594  27472.183594   \n",
       "50%    27669.689453  27677.427734  27662.369141  27669.033203  27669.033203   \n",
       "75%    27923.980469  27930.087891  27918.388672  27923.593750  27923.593750   \n",
       "max    28227.326172  28252.537109  28130.154297  28252.537109  28252.537109   \n",
       "\n",
       "             Volume  \n",
       "count  1.989000e+03  \n",
       "mean   1.212721e+07  \n",
       "std    2.726747e+07  \n",
       "min    0.000000e+00  \n",
       "25%    0.000000e+00  \n",
       "50%    8.243200e+05  \n",
       "75%    1.244979e+07  \n",
       "max    3.868252e+08  "
      ]
     },
     "execution_count": 125,
     "metadata": {},
     "output_type": "execute_result"
    }
   ],
   "source": [
    "df_bitcoin.describe()"
   ]
  },
  {
   "cell_type": "code",
   "execution_count": null,
   "metadata": {},
   "outputs": [],
   "source": [
    "df_bitcoin = pd.DataFrame(data)\n",
    "df_bitcoin"
   ]
  },
  {
   "cell_type": "code",
   "execution_count": null,
   "metadata": {},
   "outputs": [],
   "source": []
  },
  {
   "cell_type": "code",
   "execution_count": null,
   "metadata": {},
   "outputs": [],
   "source": []
  },
  {
   "cell_type": "markdown",
   "metadata": {},
   "source": [
    "## 2.2 Scraping Precio bitcoin de coinmarketcap"
   ]
  },
  {
   "cell_type": "code",
   "execution_count": 65,
   "metadata": {},
   "outputs": [],
   "source": [
    "from bs4 import BeautifulSoup\n",
    "import requests\n"
   ]
  },
  {
   "cell_type": "code",
   "execution_count": 118,
   "metadata": {},
   "outputs": [],
   "source": [
    "# HTTP Request\n",
    "# store website in variable\n",
    "#ua = {\"User-Agent\":\"Mozilla/5.0 (Windows NT 10.0; Win64; x64) AppleWebKit/537.36 (KHTML, like Gecko) Chrome/92.0.4515.107 Safari/537.36 Edg/92.0.902.62\"}\n",
    "\n",
    "ua = {\"User-Agent\": \"Mozilla/5.0 (Windows NT 10.0; Win64; x64) AppleWebKit/537.36 (KHTML, like Gecko) Chrome/92.0.4515.107 Safari/537.36 Edg/92.0.902.62 (compatible; Linux; Ubuntu; MacOS; Windows)\"}\n",
    "website = 'https://coinmarketcap.com/'"
   ]
  },
  {
   "cell_type": "code",
   "execution_count": 119,
   "metadata": {},
   "outputs": [],
   "source": [
    "#Get Reques\n",
    "response = requests.get(website)"
   ]
  },
  {
   "cell_type": "code",
   "execution_count": 120,
   "metadata": {},
   "outputs": [
    {
     "data": {
      "text/plain": [
       "200"
      ]
     },
     "execution_count": 120,
     "metadata": {},
     "output_type": "execute_result"
    }
   ],
   "source": [
    "#Status Code\n",
    "response.status_code"
   ]
  },
  {
   "cell_type": "code",
   "execution_count": 121,
   "metadata": {},
   "outputs": [],
   "source": [
    "#Soup Object\n",
    "soup = BeautifulSoup(response.content, 'html.parser')"
   ]
  },
  {
   "cell_type": "code",
   "execution_count": null,
   "metadata": {},
   "outputs": [],
   "source": []
  },
  {
   "cell_type": "code",
   "execution_count": 122,
   "metadata": {},
   "outputs": [
    {
     "name": "stdout",
     "output_type": "stream",
     "text": [
      "Nombre: Bitcoin\n",
      "Precio: $26,761.68\n"
     ]
    }
   ],
   "source": [
    "\n",
    "# Extraer el nombre de Bitcoin\n",
    "nombre = soup.find('p', class_='sc-4984dd93-0 kKpPOn').text\n",
    "\n",
    "# Extraer el precio de Bitcoin\n",
    "precio = soup.find('div', class_='sc-a0353bbc-0 gDrtaY').text\n",
    "#precio = soup.find('span').text\n",
    "\n",
    "# Imprimir el nombre y el precio\n",
    "print(f\"Nombre: {nombre}\")\n",
    "print(f\"Precio: {precio}\")"
   ]
  },
  {
   "cell_type": "code",
   "execution_count": null,
   "metadata": {},
   "outputs": [],
   "source": []
  },
  {
   "cell_type": "code",
   "execution_count": null,
   "metadata": {},
   "outputs": [],
   "source": []
  },
  {
   "cell_type": "code",
   "execution_count": null,
   "metadata": {},
   "outputs": [],
   "source": []
  },
  {
   "cell_type": "markdown",
   "metadata": {},
   "source": [
    "# 3. Limpieza de datos"
   ]
  },
  {
   "cell_type": "code",
   "execution_count": null,
   "metadata": {},
   "outputs": [],
   "source": [
    "Descripción\n",
    "\n",
    "Limpieza de datos\n",
    "Crea una funcion limpieza_datos(), dentro de ella, define nuevamente las variables globales(ver Paso1) y escribe \n",
    "tu código:\n",
    "\n",
    "Antes de limpiar la base, crea una copia de la base df_bitcoin para que realices la limpieza en esta nueva \n",
    "base(df_bitcoin_limpio), sin modificar la base original, además es importante entender su contenido:\n",
    "\n",
    "Datetime: Es el índice del dataframe, y contiene la fecha y hora del intervalo seleccionado, no puede estar duplicado.\n",
    "\n",
    "Open: Contiene el precio del Bitcoin al inicio del intervalo.\n",
    "\n",
    "High: Contiene el precio más alto del Bitcoin durante el intervalo.\n",
    "\n",
    "Low: Contiene el precio más bajo del Bitcoin durante el intervalo.\n",
    "\n",
    "Close: Contiene el precio del Bitcoin al final del intervalo.\n",
    "\n",
    "Volume: Contiene el total de transacciones hechas durante el intervalo.\n",
    "\n",
    "Para la limpieza utilizaremos los atributos Datetime, Close y Volume.\n",
    "\n",
    "Analiza la base df_bitcoin_limpio, identifica duplicados en el índice y trátalos para quedarte con sólo índices únicos.\n",
    "Luego busca por valores nulos en la columna Close y trátalos.\n",
    "Verifica que todos los registros de la base tengan un Volume de transacción mayor a 0, caso contrário, elimínalos.\n",
    "Deberás identificar y eliminar los outliers en el precio del Bitcoin, columna Close, utiliza un gráfico de \n",
    "boxplot para identificarlos.\n",
    "Filtra o selecciona únicamente los registros cuyo precio(Close) se encuentren entre el 1er cuartil(Q1) y el 3er \n",
    "cuartil(Q3) del boxplot.\n",
    "Finalmente, calcula el precio promedio(Close) de esta selección y guárdala en la variable media_bitcoin."
   ]
  },
  {
   "cell_type": "code",
   "execution_count": null,
   "metadata": {},
   "outputs": [],
   "source": []
  },
  {
   "cell_type": "markdown",
   "metadata": {},
   "source": [
    "# 4. Tomar decisiones"
   ]
  },
  {
   "cell_type": "code",
   "execution_count": null,
   "metadata": {},
   "outputs": [],
   "source": [
    "Descripción\n",
    "\n",
    "Tomar decisiones\n",
    "Llegó el momento de construir tu algoritmo de decisión:\n",
    "\n",
    "Crea una funcion tomar_decisiones(), dentro de ella, define nuevamente las variables globales(ver Paso1) y \n",
    "escribe tu código:\n",
    "\n",
    "Rellena la variable algoritmo_decision con el valor resultante del siguiente criterio de decisión:\n",
    "Si el precio actual es mayor/igual que el precio promedio y la tendencia es de baja, entonces guarda el valor ‘Vender’.\n",
    "Si el precio actual es menor que el precio promedio y la tendencia es de alta, entonces guarda el valor ‘Comprar’.\n",
    "Si ninguna de las 2 condiciones anteriores se cumple, entonces guarda el valor ''.\n",
    "Extra\n",
    "Este es un algoritmo de decisión simple que ayuda a los clientes inexpertos a conocer el mejor momento de comprar\n",
    "o vender Bitcoin, ¿crees que existan otros indicadores en la base o en el site de noticias o algún criterio de \n",
    "decisión adicional que ayudaría a reforzar el algoritmo de decisión? Te invito a descubrir otras alternativas.\n",
    "\n"
   ]
  },
  {
   "cell_type": "code",
   "execution_count": null,
   "metadata": {},
   "outputs": [],
   "source": []
  },
  {
   "cell_type": "markdown",
   "metadata": {},
   "source": [
    "# 5. Visualización"
   ]
  },
  {
   "cell_type": "code",
   "execution_count": null,
   "metadata": {},
   "outputs": [],
   "source": [
    "Descripción\n",
    "\n",
    "Visualización\n",
    "Crea una funcion visualizacion(), dentro de ella, define nuevamente las variables globales(ver Paso1) y escribe tu código:\n",
    "\n",
    "Adiciona una nueva columna (Promedio) al dataframe original df_bitcoin y almacena el valor de nuestra variable\n",
    "media_bitcoin.\n",
    "Configura el tamaño del gráfico en una proporción de 16x5.\n",
    "Adiciona un título al gráfico.\n",
    "Usando el método plot()dibuja una línea en el gráfico, con los datos del índice y la columna Close de la base \n",
    "df_bitcoin.\n",
    "Usando el método plot()dibuja una línea en el gráfico, con los datos del índice y la columna Promedio de la base\n",
    "df_bitcoin.\n",
    "Usando el método annotate()muestra un mensaje dentro del gráfico con la decisión calculada del algoritmo.\n",
    "Finalmente, usando el método show()muestra en pantalla el gráfico que acabamos de configurar.\n",
    "Apoyo\n",
    "Puedes encontrar más información sobre la biblioteca matplotlib en su página oficial: matplotlib.pyplot"
   ]
  },
  {
   "cell_type": "code",
   "execution_count": null,
   "metadata": {},
   "outputs": [],
   "source": []
  },
  {
   "cell_type": "markdown",
   "metadata": {},
   "source": [
    "# 6. Automatización"
   ]
  },
  {
   "cell_type": "code",
   "execution_count": null,
   "metadata": {},
   "outputs": [],
   "source": [
    "Descripción\n",
    "\n",
    "Automatización\n",
    "El trabajo de un Data Scientist sólo termina cuando la solución al problema está automatizada, esto permite \n",
    "soluciones automáticas para nuevos lotes de información.\n",
    "\n",
    "Importa el método 'clear_output()', este método nos permite borrar los resultados de la pantalla antes de \n",
    "imprimir un nuevo gráfico, y así evitar tener más de un gráfico en la pantalla, impórtalo de la siguiente \n",
    "forma: from IPython.display import clear_output.\n",
    "    \n",
    "Importa también la biblioteca ‘time’ de la siguiente forma: import time, utilizaremos su método time.sleep(300) \n",
    "para interrumpir la ejecución del código cada 300 segundos o 5 minutos.\n",
    "\n",
    "Finalmente construiremos un loop infinito para ejecutar permanentemente y en intervalos de 5minutos, las funciones \n",
    "que hemos construído en los pasos 2 al 5 de nuestro proyecto, de la siguiente forma:\n",
    "    \n",
    "    \n",
    "while(True):\n",
    "  clear_output()\n",
    "  importar_base_bitcoin()\n",
    "  extraer_tendencias()\n",
    "  limpieza_datos()\n",
    "  tomar_decisiones()\n",
    "  visualizacion()\n",
    "  time.sleep(300)\n",
    "\n",
    "El resultado de este código será un gráfico mostrando el histórico de precios del Bitcoin y la decisión del \n",
    "algoritmo en tiempo real, basado en datos normalizados y limpios, que se actualizarán cada 5 minutos.\n",
    "\n",
    "Conclusión\n",
    "Este desafío sólo fue una demonstración de un proyecto real, donde vemos el poder de los datos para la toma de \n",
    "decisiones y la importancia que tiene el tratamiento de los datos para evitar tomar decisiones equivocadas, \n",
    "durante este Bootcamp aprenderás nuevas herramientas y habilidades que te llevarán a ti y a este proyecto a un \n",
    "nuevo nivel.\n",
    "\n",
    "¡Ahora, tu misión, si decides aceptarla, es, superar este Robot! ¡Suerte!"
   ]
  },
  {
   "cell_type": "code",
   "execution_count": null,
   "metadata": {},
   "outputs": [],
   "source": []
  },
  {
   "cell_type": "code",
   "execution_count": null,
   "metadata": {},
   "outputs": [],
   "source": []
  },
  {
   "cell_type": "code",
   "execution_count": null,
   "metadata": {},
   "outputs": [],
   "source": []
  },
  {
   "cell_type": "code",
   "execution_count": null,
   "metadata": {},
   "outputs": [],
   "source": []
  },
  {
   "cell_type": "code",
   "execution_count": null,
   "metadata": {},
   "outputs": [],
   "source": []
  },
  {
   "cell_type": "code",
   "execution_count": null,
   "metadata": {},
   "outputs": [],
   "source": []
  },
  {
   "cell_type": "code",
   "execution_count": null,
   "metadata": {},
   "outputs": [],
   "source": []
  },
  {
   "cell_type": "code",
   "execution_count": null,
   "metadata": {},
   "outputs": [],
   "source": []
  }
 ],
 "metadata": {
  "kernelspec": {
   "display_name": "Python 3",
   "language": "python",
   "name": "python3"
  },
  "language_info": {
   "codemirror_mode": {
    "name": "ipython",
    "version": 3
   },
   "file_extension": ".py",
   "mimetype": "text/x-python",
   "name": "python",
   "nbconvert_exporter": "python",
   "pygments_lexer": "ipython3",
   "version": "3.7.6"
  }
 },
 "nbformat": 4,
 "nbformat_minor": 4
}
